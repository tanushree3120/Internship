{
 "cells": [
  {
   "cell_type": "code",
   "execution_count": 1,
   "id": "1e6dabfc-a48a-4539-93ca-dda79ceb49dc",
   "metadata": {},
   "outputs": [],
   "source": [
    "# comparisoin "
   ]
  },
  {
   "cell_type": "code",
   "execution_count": 3,
   "id": "a80603c6-30b1-40eb-a325-0c20a3fc757e",
   "metadata": {},
   "outputs": [],
   "source": [
    "a = 10; b = 15"
   ]
  },
  {
   "cell_type": "code",
   "execution_count": 4,
   "id": "6bea569e-e1d7-4f1e-a64c-2a6808b8982b",
   "metadata": {},
   "outputs": [
    {
     "data": {
      "text/plain": [
       "(10, 15)"
      ]
     },
     "execution_count": 4,
     "metadata": {},
     "output_type": "execute_result"
    }
   ],
   "source": [
    "a=10; a,b"
   ]
  },
  {
   "cell_type": "code",
   "execution_count": 5,
   "id": "e679bc37-0dfa-4faa-b809-fa6b4dc6341e",
   "metadata": {},
   "outputs": [
    {
     "data": {
      "text/plain": [
       "False"
      ]
     },
     "execution_count": 5,
     "metadata": {},
     "output_type": "execute_result"
    }
   ],
   "source": [
    "a == b"
   ]
  },
  {
   "cell_type": "code",
   "execution_count": 6,
   "id": "b1c87566-afc1-4864-b453-bd3ac53f0786",
   "metadata": {},
   "outputs": [
    {
     "data": {
      "text/plain": [
       "True"
      ]
     },
     "execution_count": 6,
     "metadata": {},
     "output_type": "execute_result"
    }
   ],
   "source": [
    "a!= b"
   ]
  },
  {
   "cell_type": "code",
   "execution_count": 7,
   "id": "3ac80949-f94f-46da-b896-adbc3a271549",
   "metadata": {},
   "outputs": [
    {
     "data": {
      "text/plain": [
       "False"
      ]
     },
     "execution_count": 7,
     "metadata": {},
     "output_type": "execute_result"
    }
   ],
   "source": [
    "a>b"
   ]
  },
  {
   "cell_type": "code",
   "execution_count": 8,
   "id": "623d38e4-8975-40dc-a6a4-770b388f03ef",
   "metadata": {},
   "outputs": [
    {
     "data": {
      "text/plain": [
       "False"
      ]
     },
     "execution_count": 8,
     "metadata": {},
     "output_type": "execute_result"
    }
   ],
   "source": [
    "a >= b"
   ]
  },
  {
   "cell_type": "code",
   "execution_count": 9,
   "id": "607bc9d7-75c4-4ead-96c3-b0c50da412c6",
   "metadata": {},
   "outputs": [],
   "source": [
    "#logical operator"
   ]
  },
  {
   "cell_type": "code",
   "execution_count": 11,
   "id": "a1a144ab-5c3b-4a32-9e98-f3d3dd27aef3",
   "metadata": {},
   "outputs": [],
   "source": [
    "a = True\n",
    "b = False"
   ]
  },
  {
   "cell_type": "code",
   "execution_count": 12,
   "id": "89a8d7eb-773e-4d82-9653-ca45c92ccf8d",
   "metadata": {},
   "outputs": [
    {
     "data": {
      "text/plain": [
       "False"
      ]
     },
     "execution_count": 12,
     "metadata": {},
     "output_type": "execute_result"
    }
   ],
   "source": [
    "a and b"
   ]
  },
  {
   "cell_type": "code",
   "execution_count": 13,
   "id": "fa018823-1273-48aa-9060-f7ec0fd3fa76",
   "metadata": {},
   "outputs": [
    {
     "data": {
      "text/plain": [
       "True"
      ]
     },
     "execution_count": 13,
     "metadata": {},
     "output_type": "execute_result"
    }
   ],
   "source": [
    "a or b"
   ]
  },
  {
   "cell_type": "code",
   "execution_count": 14,
   "id": "8f8cacb4-dbfd-4ef8-a464-b04d79702eab",
   "metadata": {},
   "outputs": [
    {
     "data": {
      "text/plain": [
       "False"
      ]
     },
     "execution_count": 14,
     "metadata": {},
     "output_type": "execute_result"
    }
   ],
   "source": [
    "not a"
   ]
  },
  {
   "cell_type": "code",
   "execution_count": 15,
   "id": "c940c0f1-8c00-43df-a711-3dfe2c654579",
   "metadata": {},
   "outputs": [
    {
     "data": {
      "text/plain": [
       "True"
      ]
     },
     "execution_count": 15,
     "metadata": {},
     "output_type": "execute_result"
    }
   ],
   "source": [
    "not b"
   ]
  },
  {
   "cell_type": "code",
   "execution_count": 16,
   "id": "b870a972-cdf3-4fe4-90e1-47ff67712aab",
   "metadata": {},
   "outputs": [],
   "source": [
    "#identity"
   ]
  },
  {
   "cell_type": "code",
   "execution_count": 17,
   "id": "4f681467-0818-40fe-9064-b0d199f232f7",
   "metadata": {},
   "outputs": [],
   "source": [
    "# is , is not"
   ]
  },
  {
   "cell_type": "code",
   "execution_count": 26,
   "id": "010bbd40-aef3-4d25-bb68-5ca6f7e41c60",
   "metadata": {},
   "outputs": [],
   "source": [
    "a = 5\n",
    "b = 5"
   ]
  },
  {
   "cell_type": "code",
   "execution_count": 20,
   "id": "0c1d9136-0411-46cb-a27c-25b8e9da023d",
   "metadata": {},
   "outputs": [
    {
     "data": {
      "text/plain": [
       "True"
      ]
     },
     "execution_count": 20,
     "metadata": {},
     "output_type": "execute_result"
    }
   ],
   "source": [
    "a is b"
   ]
  },
  {
   "cell_type": "code",
   "execution_count": 21,
   "id": "1d3436dc-e020-479f-ab8f-e11b1519e721",
   "metadata": {},
   "outputs": [
    {
     "data": {
      "text/plain": [
       "False"
      ]
     },
     "execution_count": 21,
     "metadata": {},
     "output_type": "execute_result"
    }
   ],
   "source": [
    "a is not b"
   ]
  },
  {
   "cell_type": "code",
   "execution_count": 22,
   "id": "7d526728-7083-446a-a1e2-ba7da46b9d5a",
   "metadata": {},
   "outputs": [],
   "source": [
    "x = [1,2]\n",
    "y = [1,2]"
   ]
  },
  {
   "cell_type": "code",
   "execution_count": 23,
   "id": "74ae4271-951f-4f75-9896-79a4522859be",
   "metadata": {},
   "outputs": [
    {
     "data": {
      "text/plain": [
       "False"
      ]
     },
     "execution_count": 23,
     "metadata": {},
     "output_type": "execute_result"
    }
   ],
   "source": [
    "x is y"
   ]
  },
  {
   "cell_type": "code",
   "execution_count": 24,
   "id": "844fc2e0-0cae-44a8-9e02-4d9b475f1cdf",
   "metadata": {},
   "outputs": [
    {
     "data": {
      "text/plain": [
       "True"
      ]
     },
     "execution_count": 24,
     "metadata": {},
     "output_type": "execute_result"
    }
   ],
   "source": [
    "x == y"
   ]
  },
  {
   "cell_type": "code",
   "execution_count": 27,
   "id": "09b5261a-e21f-4abc-9d2b-7e7117fc3089",
   "metadata": {},
   "outputs": [
    {
     "data": {
      "text/plain": [
       "(140725134296104, 140725134296104)"
      ]
     },
     "execution_count": 27,
     "metadata": {},
     "output_type": "execute_result"
    }
   ],
   "source": [
    "id(a), id(b)"
   ]
  },
  {
   "cell_type": "code",
   "execution_count": 28,
   "id": "62d5ffc9-d817-4519-b7ec-504144331c20",
   "metadata": {},
   "outputs": [
    {
     "data": {
      "text/plain": [
       "(2346645167168, 2346645152704)"
      ]
     },
     "execution_count": 28,
     "metadata": {},
     "output_type": "execute_result"
    }
   ],
   "source": [
    "id(x), id(y)"
   ]
  },
  {
   "cell_type": "code",
   "execution_count": 29,
   "id": "75dc566e-6908-4b36-ae3a-40d707d50ebb",
   "metadata": {},
   "outputs": [],
   "source": [
    "z = x"
   ]
  },
  {
   "cell_type": "code",
   "execution_count": 30,
   "id": "67c00bd6-cdc6-44e5-baac-d927e62575c7",
   "metadata": {},
   "outputs": [
    {
     "data": {
      "text/plain": [
       "True"
      ]
     },
     "execution_count": 30,
     "metadata": {},
     "output_type": "execute_result"
    }
   ],
   "source": [
    "z is x"
   ]
  },
  {
   "cell_type": "code",
   "execution_count": 32,
   "id": "b56e081f-da5f-4074-a6c8-564a4b7eee87",
   "metadata": {},
   "outputs": [],
   "source": [
    "x.append(10)"
   ]
  },
  {
   "cell_type": "code",
   "execution_count": 33,
   "id": "42c8123c-3544-419c-a4d5-a23ba637be50",
   "metadata": {},
   "outputs": [
    {
     "data": {
      "text/plain": [
       "[1, 2, 10]"
      ]
     },
     "execution_count": 33,
     "metadata": {},
     "output_type": "execute_result"
    }
   ],
   "source": [
    "x"
   ]
  },
  {
   "cell_type": "code",
   "execution_count": 34,
   "id": "bb18c8f9-1d5c-45a2-856b-8cd5af38be3e",
   "metadata": {},
   "outputs": [
    {
     "data": {
      "text/plain": [
       "[1, 2, 10]"
      ]
     },
     "execution_count": 34,
     "metadata": {},
     "output_type": "execute_result"
    }
   ],
   "source": [
    "z"
   ]
  },
  {
   "cell_type": "code",
   "execution_count": 35,
   "id": "f1edbeb2-ca74-4f10-b71f-d6618c39b0ae",
   "metadata": {},
   "outputs": [
    {
     "data": {
      "text/plain": [
       "(2346645167168, 2346645167168)"
      ]
     },
     "execution_count": 35,
     "metadata": {},
     "output_type": "execute_result"
    }
   ],
   "source": [
    "id(x), id(z)"
   ]
  },
  {
   "cell_type": "code",
   "execution_count": 36,
   "id": "2e9bdb4b-2719-403a-bda6-15c9fe0404ec",
   "metadata": {},
   "outputs": [],
   "source": [
    "#memebesrship operator"
   ]
  },
  {
   "cell_type": "code",
   "execution_count": 38,
   "id": "6b3aec3b-e7a4-4e94-ba2c-3d12424bdfc5",
   "metadata": {},
   "outputs": [],
   "source": [
    "#in , not in"
   ]
  },
  {
   "cell_type": "code",
   "execution_count": 39,
   "id": "e9cb3b58-493f-4010-8bbd-8511c81d05a7",
   "metadata": {},
   "outputs": [],
   "source": [
    "l =[12, 34, 11, 10]"
   ]
  },
  {
   "cell_type": "code",
   "execution_count": 40,
   "id": "0cec4253-ca19-447d-acbb-607c5e40cab1",
   "metadata": {},
   "outputs": [
    {
     "data": {
      "text/plain": [
       "True"
      ]
     },
     "execution_count": 40,
     "metadata": {},
     "output_type": "execute_result"
    }
   ],
   "source": [
    "10 in l"
   ]
  },
  {
   "cell_type": "code",
   "execution_count": 42,
   "id": "78b7bcfd-de6a-453d-bd79-0c9e5da9a048",
   "metadata": {},
   "outputs": [
    {
     "data": {
      "text/plain": [
       "False"
      ]
     },
     "execution_count": 42,
     "metadata": {},
     "output_type": "execute_result"
    }
   ],
   "source": [
    "10 not in l"
   ]
  },
  {
   "cell_type": "code",
   "execution_count": 43,
   "id": "67466799-0c0c-4991-bb46-e54b1fe7c577",
   "metadata": {},
   "outputs": [],
   "source": [
    "# precedence and association"
   ]
  },
  {
   "cell_type": "code",
   "execution_count": 44,
   "id": "60e5a810-d0aa-43c0-a8be-77f4aeb53b1d",
   "metadata": {},
   "outputs": [],
   "source": [
    "# BODMAS"
   ]
  },
  {
   "cell_type": "code",
   "execution_count": 45,
   "id": "cf40d8a1-c943-4ca7-b39f-7794d33cc56a",
   "metadata": {},
   "outputs": [
    {
     "data": {
      "text/plain": [
       "6"
      ]
     },
     "execution_count": 45,
     "metadata": {},
     "output_type": "execute_result"
    }
   ],
   "source": [
    "5 + 3 -2"
   ]
  },
  {
   "cell_type": "code",
   "execution_count": 46,
   "id": "d5fb7de3-6662-4a5e-a178-a077a705caca",
   "metadata": {},
   "outputs": [
    {
     "data": {
      "text/plain": [
       "1"
      ]
     },
     "execution_count": 46,
     "metadata": {},
     "output_type": "execute_result"
    }
   ],
   "source": [
    "(2 - 1) ** 100"
   ]
  },
  {
   "cell_type": "code",
   "execution_count": 48,
   "id": "432e6268-b4aa-4854-beb3-36bb9a3654b0",
   "metadata": {},
   "outputs": [
    {
     "data": {
      "text/plain": [
       "256"
      ]
     },
     "execution_count": 48,
     "metadata": {},
     "output_type": "execute_result"
    }
   ],
   "source": [
    "2 ** 2 **3 # right association"
   ]
  },
  {
   "cell_type": "code",
   "execution_count": 49,
   "id": "044a8021-7e47-4ea7-98c8-52878722a441",
   "metadata": {},
   "outputs": [
    {
     "data": {
      "text/plain": [
       "4"
      ]
     },
     "execution_count": 49,
     "metadata": {},
     "output_type": "execute_result"
    }
   ],
   "source": [
    "2 ** 3 // 2"
   ]
  },
  {
   "cell_type": "code",
   "execution_count": 50,
   "id": "2b55d338-578c-43d9-8de2-08e6f7782d5b",
   "metadata": {},
   "outputs": [],
   "source": [
    "#print function"
   ]
  },
  {
   "cell_type": "code",
   "execution_count": 51,
   "id": "eb4d781a-685a-4f31-af18-c9f58d758326",
   "metadata": {},
   "outputs": [],
   "source": [
    "name = \"sia\"\n",
    "marks = 75"
   ]
  },
  {
   "cell_type": "code",
   "execution_count": 52,
   "id": "28f11119-89b1-4bec-9a03-fc61364653b6",
   "metadata": {},
   "outputs": [],
   "source": [
    "# my name is sia and marks are 75"
   ]
  },
  {
   "cell_type": "code",
   "execution_count": 55,
   "id": "05156eeb-7bb9-4a52-8161-f401e69cdf79",
   "metadata": {},
   "outputs": [
    {
     "name": "stdout",
     "output_type": "stream",
     "text": [
      "sia 75\n"
     ]
    }
   ],
   "source": [
    "print(name,marks)"
   ]
  },
  {
   "cell_type": "code",
   "execution_count": 56,
   "id": "3f42f511-3566-469d-aa78-f3f2ab992368",
   "metadata": {},
   "outputs": [
    {
     "name": "stdout",
     "output_type": "stream",
     "text": [
      "my name is sia and marks is 75\n"
     ]
    }
   ],
   "source": [
    "print(\"my name is\",name,\"and marks is\", marks)"
   ]
  },
  {
   "cell_type": "code",
   "execution_count": 60,
   "id": "2dcd6362-52e1-4318-85fa-d26b2666c445",
   "metadata": {},
   "outputs": [
    {
     "name": "stdout",
     "output_type": "stream",
     "text": [
      "my name is sia and marks is 75\n"
     ]
    }
   ],
   "source": [
    "print(\"my name is %s and marks is %i\" %(name, marks))"
   ]
  },
  {
   "cell_type": "code",
   "execution_count": 61,
   "id": "2686770b-dd51-4e3d-b05c-3d059d59e6c9",
   "metadata": {},
   "outputs": [
    {
     "name": "stdout",
     "output_type": "stream",
     "text": [
      "my name is sia and marks are 75\n"
     ]
    }
   ],
   "source": [
    "print(f\"my name is {name} and marks are {marks}\")"
   ]
  },
  {
   "cell_type": "code",
   "execution_count": 62,
   "id": "f61da68f-cae1-4b49-935b-697fa675cfd0",
   "metadata": {},
   "outputs": [],
   "source": [
    "# dir and help"
   ]
  },
  {
   "cell_type": "code",
   "execution_count": 63,
   "id": "843420c8-a0d7-4e58-87eb-985c53cc4e58",
   "metadata": {},
   "outputs": [
    {
     "data": {
      "text/plain": [
       "['__abs__',\n",
       " '__add__',\n",
       " '__and__',\n",
       " '__bool__',\n",
       " '__ceil__',\n",
       " '__class__',\n",
       " '__delattr__',\n",
       " '__dir__',\n",
       " '__divmod__',\n",
       " '__doc__',\n",
       " '__eq__',\n",
       " '__float__',\n",
       " '__floor__',\n",
       " '__floordiv__',\n",
       " '__format__',\n",
       " '__ge__',\n",
       " '__getattribute__',\n",
       " '__getnewargs__',\n",
       " '__getstate__',\n",
       " '__gt__',\n",
       " '__hash__',\n",
       " '__index__',\n",
       " '__init__',\n",
       " '__init_subclass__',\n",
       " '__int__',\n",
       " '__invert__',\n",
       " '__le__',\n",
       " '__lshift__',\n",
       " '__lt__',\n",
       " '__mod__',\n",
       " '__mul__',\n",
       " '__ne__',\n",
       " '__neg__',\n",
       " '__new__',\n",
       " '__or__',\n",
       " '__pos__',\n",
       " '__pow__',\n",
       " '__radd__',\n",
       " '__rand__',\n",
       " '__rdivmod__',\n",
       " '__reduce__',\n",
       " '__reduce_ex__',\n",
       " '__repr__',\n",
       " '__rfloordiv__',\n",
       " '__rlshift__',\n",
       " '__rmod__',\n",
       " '__rmul__',\n",
       " '__ror__',\n",
       " '__round__',\n",
       " '__rpow__',\n",
       " '__rrshift__',\n",
       " '__rshift__',\n",
       " '__rsub__',\n",
       " '__rtruediv__',\n",
       " '__rxor__',\n",
       " '__setattr__',\n",
       " '__sizeof__',\n",
       " '__str__',\n",
       " '__sub__',\n",
       " '__subclasshook__',\n",
       " '__truediv__',\n",
       " '__trunc__',\n",
       " '__xor__',\n",
       " 'as_integer_ratio',\n",
       " 'bit_count',\n",
       " 'bit_length',\n",
       " 'conjugate',\n",
       " 'denominator',\n",
       " 'from_bytes',\n",
       " 'imag',\n",
       " 'is_integer',\n",
       " 'numerator',\n",
       " 'real',\n",
       " 'to_bytes']"
      ]
     },
     "execution_count": 63,
     "metadata": {},
     "output_type": "execute_result"
    }
   ],
   "source": [
    "dir(marks)"
   ]
  },
  {
   "cell_type": "code",
   "execution_count": 64,
   "id": "1e0a28ed-0fca-4628-9d24-4706a3d65d26",
   "metadata": {},
   "outputs": [
    {
     "name": "stdout",
     "output_type": "stream",
     "text": [
      "Help on built-in function lstrip:\n",
      "\n",
      "lstrip(chars=None, /) method of builtins.str instance\n",
      "    Return a copy of the string with leading whitespace removed.\n",
      "\n",
      "    If chars is given and not None, remove characters in chars instead.\n",
      "\n"
     ]
    }
   ],
   "source": [
    "help(name.lstrip)"
   ]
  },
  {
   "cell_type": "code",
   "execution_count": 65,
   "id": "51dd480c-9ef9-4e10-ab9f-1ddea68c4a11",
   "metadata": {},
   "outputs": [],
   "source": [
    "# ascii values"
   ]
  },
  {
   "cell_type": "code",
   "execution_count": 66,
   "id": "7815df4a-fff5-4ace-950d-a08564129e7f",
   "metadata": {},
   "outputs": [
    {
     "data": {
      "text/plain": [
       "97"
      ]
     },
     "execution_count": 66,
     "metadata": {},
     "output_type": "execute_result"
    }
   ],
   "source": [
    "ord(\"a\")"
   ]
  },
  {
   "cell_type": "code",
   "execution_count": 67,
   "id": "fb0c4960-a5f4-4773-ba05-afdf95c74a47",
   "metadata": {},
   "outputs": [
    {
     "data": {
      "text/plain": [
       "114"
      ]
     },
     "execution_count": 67,
     "metadata": {},
     "output_type": "execute_result"
    }
   ],
   "source": [
    "ord(\"r\")"
   ]
  },
  {
   "cell_type": "code",
   "execution_count": 69,
   "id": "099b140f-9e17-4ad9-8e39-f7cff17020b8",
   "metadata": {},
   "outputs": [
    {
     "data": {
      "text/plain": [
       "64"
      ]
     },
     "execution_count": 69,
     "metadata": {},
     "output_type": "execute_result"
    }
   ],
   "source": [
    "ord(\"@\")"
   ]
  },
  {
   "cell_type": "code",
   "execution_count": 70,
   "id": "c318d6bb-05e6-4c13-a744-ddc5a7b32642",
   "metadata": {},
   "outputs": [
    {
     "data": {
      "text/plain": [
       "'r'"
      ]
     },
     "execution_count": 70,
     "metadata": {},
     "output_type": "execute_result"
    }
   ],
   "source": [
    "chr(114)"
   ]
  },
  {
   "cell_type": "code",
   "execution_count": 71,
   "id": "e5f4c683-3237-476b-bc16-f4c7e7781357",
   "metadata": {},
   "outputs": [],
   "source": [
    "# typecasting"
   ]
  },
  {
   "cell_type": "code",
   "execution_count": 72,
   "id": "c44eb4cc-8993-43fe-aefb-d1def5a61809",
   "metadata": {},
   "outputs": [],
   "source": [
    "a = 12\n",
    "b = 23.45\n",
    "c = \"pune\""
   ]
  },
  {
   "cell_type": "code",
   "execution_count": 73,
   "id": "6d3eba5a-b5d2-4183-8f92-70a446c79f96",
   "metadata": {},
   "outputs": [
    {
     "data": {
      "text/plain": [
       "12.0"
      ]
     },
     "execution_count": 73,
     "metadata": {},
     "output_type": "execute_result"
    }
   ],
   "source": [
    "float(a)"
   ]
  },
  {
   "cell_type": "code",
   "execution_count": 74,
   "id": "fa5d1a91-6b5a-4272-b8b0-b61100cfb3ec",
   "metadata": {},
   "outputs": [
    {
     "data": {
      "text/plain": [
       "23"
      ]
     },
     "execution_count": 74,
     "metadata": {},
     "output_type": "execute_result"
    }
   ],
   "source": [
    "int(b)"
   ]
  },
  {
   "cell_type": "code",
   "execution_count": 75,
   "id": "29eff39a-eeab-4867-94a0-7867c25fabed",
   "metadata": {},
   "outputs": [
    {
     "data": {
      "text/plain": [
       "'23.45'"
      ]
     },
     "execution_count": 75,
     "metadata": {},
     "output_type": "execute_result"
    }
   ],
   "source": [
    "\n",
    "\n",
    "str(b)"
   ]
  },
  {
   "cell_type": "code",
   "execution_count": 76,
   "id": "7b2d6ac5-ed6d-4a71-8cb4-c424a4b43176",
   "metadata": {},
   "outputs": [],
   "source": [
    "d =\"100\""
   ]
  },
  {
   "cell_type": "code",
   "execution_count": 77,
   "id": "81550627-dd40-4cd3-adec-26af16acc5a9",
   "metadata": {},
   "outputs": [
    {
     "data": {
      "text/plain": [
       "100"
      ]
     },
     "execution_count": 77,
     "metadata": {},
     "output_type": "execute_result"
    }
   ],
   "source": [
    "int(d)"
   ]
  },
  {
   "cell_type": "code",
   "execution_count": 78,
   "id": "56dce93b-60c1-4f02-826a-fc923d76d62e",
   "metadata": {},
   "outputs": [],
   "source": [
    "# user input"
   ]
  },
  {
   "cell_type": "code",
   "execution_count": 79,
   "id": "c9b7d687-ba98-4920-972f-187e4aa4d4e0",
   "metadata": {},
   "outputs": [
    {
     "name": "stdout",
     "output_type": "stream",
     "text": [
      "30\n"
     ]
    }
   ],
   "source": [
    "a = 10\n",
    "b = 20\n",
    "\n",
    "res = a + b\n",
    "print(res)"
   ]
  },
  {
   "cell_type": "code",
   "execution_count": 83,
   "id": "076bf661-665b-4f38-835b-80d078c42e88",
   "metadata": {},
   "outputs": [
    {
     "name": "stdin",
     "output_type": "stream",
     "text": [
      "enter the first num 10\n",
      "enter the second num 20\n"
     ]
    },
    {
     "name": "stdout",
     "output_type": "stream",
     "text": [
      "30\n"
     ]
    }
   ],
   "source": [
    "a =int( input(\"enter the first num\"))\n",
    "b =int(input(\"enter the second num\"))\n",
    "\n",
    "res = a + b\n",
    "print(res)\n",
    "\n"
   ]
  },
  {
   "cell_type": "code",
   "execution_count": 84,
   "id": "9225b32a-7c9b-4518-945b-280ea5c7504f",
   "metadata": {},
   "outputs": [
    {
     "name": "stdin",
     "output_type": "stream",
     "text": [
      "enter the sec 60\n"
     ]
    },
    {
     "name": "stdout",
     "output_type": "stream",
     "text": [
      "hours: 60 minutes: 60 sec 60\n"
     ]
    }
   ],
   "source": [
    "sec = int(input(\"enter the sec\"))\n",
    "\n",
    "hours = sec\n",
    "minutes = sec\n",
    "sec = sec\n",
    "print(\"hours:\",hours, \"minutes:\",minutes, \"sec\",sec)\n",
    "\n"
   ]
  },
  {
   "cell_type": "code",
   "execution_count": 85,
   "id": "93251947-91fc-48b1-86da-99eb46a7691d",
   "metadata": {},
   "outputs": [
    {
     "ename": "SyntaxError",
     "evalue": "unterminated f-string literal (detected at line 8) (522266268.py, line 8)",
     "output_type": "error",
     "traceback": [
      "\u001b[1;36m  Cell \u001b[1;32mIn[85], line 8\u001b[1;36m\u001b[0m\n\u001b[1;33m    print(f\"{hours}:{minutes:02}:{sec:02})\u001b[0m\n\u001b[1;37m          ^\u001b[0m\n\u001b[1;31mSyntaxError\u001b[0m\u001b[1;31m:\u001b[0m unterminated f-string literal (detected at line 8)\n"
     ]
    }
   ],
   "source": [
    "sec = int(input(\"enter the sec\"))\n",
    "\n",
    "hours = sec\n",
    "minutes = sec\n",
    "sec = sec\n",
    "print(\"hours:\",hours, \"minutes:\",minutes, \"sec\",sec)\n",
    "\n",
    "print(f\"{hours}:{minutes:02}:{sec:02})\n"
   ]
  },
  {
   "cell_type": "code",
   "execution_count": 86,
   "id": "96d93abd-3119-40a8-ada9-5d8cd6ee456f",
   "metadata": {},
   "outputs": [
    {
     "name": "stdin",
     "output_type": "stream",
     "text": [
      "enter the sec 60\n"
     ]
    },
    {
     "name": "stdout",
     "output_type": "stream",
     "text": [
      "hours: 60 minutes: 60 sec 60\n",
      "60:60:60\n"
     ]
    }
   ],
   "source": [
    "sec = int(input(\"enter the sec\"))\n",
    "\n",
    "hours = sec\n",
    "minutes = sec\n",
    "sec = sec\n",
    "print(\"hours:\",hours, \"minutes:\",minutes, \"sec\",sec)\n",
    "\n",
    "print(f\"{hours}:{minutes:02}:{sec:02}\")\n"
   ]
  },
  {
   "cell_type": "code",
   "execution_count": 87,
   "id": "f860cd2b-9dfb-47d0-870f-bf7ec8f88c47",
   "metadata": {},
   "outputs": [
    {
     "name": "stdin",
     "output_type": "stream",
     "text": [
      "enter the sec 370\n"
     ]
    },
    {
     "name": "stdout",
     "output_type": "stream",
     "text": [
      "hours: 370 minutes: 370 sec 370\n",
      "370:370:370\n"
     ]
    }
   ],
   "source": [
    "sec = int(input(\"enter the sec\"))\n",
    "\n",
    "hours = sec\n",
    "minutes = sec\n",
    "sec = sec\n",
    "print(\"hours:\",hours, \"minutes:\",minutes, \"sec\",sec)\n",
    "\n",
    "print(f\"{hours}:{minutes:}:{sec:}\")\n"
   ]
  },
  {
   "cell_type": "code",
   "execution_count": 88,
   "id": "50ff8a08-95c2-47e7-be27-a64bf379bea8",
   "metadata": {},
   "outputs": [
    {
     "name": "stdin",
     "output_type": "stream",
     "text": [
      "enter the sec 348\n"
     ]
    },
    {
     "name": "stdout",
     "output_type": "stream",
     "text": [
      "hours: 348 minutes: 348 sec 348\n",
      "348:348:348\n"
     ]
    }
   ],
   "source": [
    "sec = int(input(\"enter the sec\"))\n",
    "\n",
    "hours = sec\n",
    "minutes = sec%3600\n",
    "sec = sec%3600\n",
    "print(\"hours:\",hours, \"minutes:\",minutes, \"sec\",sec)\n",
    "\n",
    "print(f\"{hours}:{minutes:}:{sec:}\")"
   ]
  },
  {
   "cell_type": "code",
   "execution_count": 89,
   "id": "928b9bc7-d98b-4e1b-8ed2-272de021330d",
   "metadata": {},
   "outputs": [
    {
     "name": "stdin",
     "output_type": "stream",
     "text": [
      "enter the sec 360\n"
     ]
    },
    {
     "name": "stdout",
     "output_type": "stream",
     "text": [
      "hours: 360 minutes: 360 sec 360\n",
      "360:360:360\n"
     ]
    }
   ],
   "source": [
    "sec = int(input(\"enter the sec\"))\n",
    "\n",
    "hours = sec\n",
    "minutes = (sec%3600)//60\n",
    "sec = sec%60\n",
    "print(\"hours:\",hours, \"minutes:\",minutes, \"sec\",sec)\n",
    "\n",
    "print(f\"{hours}:{minutes:}:{sec:}\")"
   ]
  },
  {
   "cell_type": "code",
   "execution_count": 90,
   "id": "5890174a-74b9-46fd-b540-9117cf9b5c8f",
   "metadata": {},
   "outputs": [
    {
     "name": "stdin",
     "output_type": "stream",
     "text": [
      "enter the sec 20\n"
     ]
    },
    {
     "name": "stdout",
     "output_type": "stream",
     "text": [
      "hours: 20 minutes: 0 sec 20\n",
      "20:0:20\n"
     ]
    }
   ],
   "source": [
    "sec = int(input(\"enter the sec\"))\n",
    "\n",
    "hours = sec//3600\n",
    "minutes = (sec%3600)//60\n",
    "sec = sec%60\n",
    "print(\"hours:\",hours, \"minutes:\",minutes, \"sec\",sec)\n",
    "\n",
    "print(f\"{hours}:{minutes:}:{sec:}\")"
   ]
  },
  {
   "cell_type": "code",
   "execution_count": 91,
   "id": "6cb0fcd1-bc58-4836-b93f-53f8a07e1e91",
   "metadata": {},
   "outputs": [
    {
     "name": "stdin",
     "output_type": "stream",
     "text": [
      "enter the sec 20\n"
     ]
    },
    {
     "name": "stdout",
     "output_type": "stream",
     "text": [
      "hours: 0 minutes: 0 sec 20\n",
      "0:0:20\n"
     ]
    }
   ],
   "source": [
    "sec = int(input(\"enter the sec\"))\n",
    "\n",
    "hours = sec//3600\n",
    "minutes = (sec%3600)//60\n",
    "sec = sec%60\n",
    "print(\"hours:\",hours, \"minutes:\",minutes, \"sec\",sec)\n",
    "\n",
    "print(f\"{hours}:{minutes:}:{sec:}\")"
   ]
  },
  {
   "cell_type": "code",
   "execution_count": 92,
   "id": "5c26a98b-66d3-4f6b-b3b6-ec2006d5c27f",
   "metadata": {},
   "outputs": [
    {
     "name": "stdin",
     "output_type": "stream",
     "text": [
      "enter the sec 360\n"
     ]
    },
    {
     "name": "stdout",
     "output_type": "stream",
     "text": [
      "hours: 0 minutes: 6 sec 0\n",
      "0:6:0\n"
     ]
    }
   ],
   "source": [
    "sec = int(input(\"enter the sec\"))\n",
    "\n",
    "hours = sec//3600\n",
    "minutes = (sec%3600)//60\n",
    "sec = sec%60\n",
    "print(\"hours:\",hours, \"minutes:\",minutes, \"sec\",sec)\n",
    "\n",
    "print(f\"{hours}:{minutes:}:{sec:}\")"
   ]
  },
  {
   "cell_type": "code",
   "execution_count": 93,
   "id": "e576d2fc-b438-4600-9f01-cd2505fbb53e",
   "metadata": {},
   "outputs": [
    {
     "name": "stdin",
     "output_type": "stream",
     "text": [
      "enter the sec 357\n"
     ]
    },
    {
     "name": "stdout",
     "output_type": "stream",
     "text": [
      "hours: 0 minutes: 5 sec 57\n",
      "0:5:57\n"
     ]
    }
   ],
   "source": []
  },
  {
   "cell_type": "code",
   "execution_count": 94,
   "id": "1b3695aa-c2c6-46af-b978-906c77b80a43",
   "metadata": {},
   "outputs": [
    {
     "name": "stdin",
     "output_type": "stream",
     "text": [
      "enter the sec 72\n"
     ]
    },
    {
     "name": "stdout",
     "output_type": "stream",
     "text": [
      "hours: 0 minutes: 1 sec 12\n",
      "0:1:12\n"
     ]
    }
   ],
   "source": [
    "sec = int(input(\"enter the sec\"))\n",
    "\n",
    "hours = sec//3600\n",
    "minutes = (sec%3600)//60\n",
    "sec = sec%60 \n",
    "\n",
    "print(f\"{hours}:{minutes:}:{sec:}\")"
   ]
  },
  {
   "cell_type": "code",
   "execution_count": 96,
   "id": "a0841af0-f7e3-4fc5-b382-9356145dd36f",
   "metadata": {},
   "outputs": [
    {
     "name": "stdout",
     "output_type": "stream",
     "text": [
      "Welcome to Python Programming\n"
     ]
    }
   ],
   "source": [
    "print(\"Welcome to Python Programming\")\n",
    "#print() function is used to display the output"
   ]
  },
  {
   "cell_type": "code",
   "execution_count": 97,
   "id": "52172e5f-39b7-43c1-b4b2-08db8bc05f97",
   "metadata": {},
   "outputs": [],
   "source": [
    "#2"
   ]
  },
  {
   "cell_type": "code",
   "execution_count": 98,
   "id": "fbd59413-1533-4af2-bcf0-65000ce398dc",
   "metadata": {},
   "outputs": [
    {
     "name": "stdout",
     "output_type": "stream",
     "text": [
      "False\n",
      "True\n",
      "False\n"
     ]
    }
   ],
   "source": [
    "is_number = True\n",
    "has_discount = False\n",
    "print(is_number and has_discount)\n",
    "print(is_number or has_discount)\n",
    "print( not is_number)\n",
    "\n",
    "\n"
   ]
  },
  {
   "cell_type": "code",
   "execution_count": 99,
   "id": "b1528b3c-117e-4cba-abc8-c8af6a829d85",
   "metadata": {},
   "outputs": [],
   "source": [
    "#3"
   ]
  },
  {
   "cell_type": "code",
   "execution_count": 100,
   "id": "c9c00688-a95b-4e1b-8135-af46b85db82d",
   "metadata": {},
   "outputs": [
    {
     "name": "stdout",
     "output_type": "stream",
     "text": [
      "You have purchased 10 units of PEN at $ 20.15 each\n"
     ]
    }
   ],
   "source": [
    "product_name = \"PEN\"\n",
    "quantity = 10\n",
    "unit_price = 20.15\n",
    "print(\"You have purchased\",quantity,\"units of\",product_name, \"at $\",unit_price,\"each\")"
   ]
  },
  {
   "cell_type": "code",
   "execution_count": 101,
   "id": "e0a0e7f9-d026-4623-8d99-f78582d280a9",
   "metadata": {},
   "outputs": [],
   "source": [
    "#4"
   ]
  },
  {
   "cell_type": "code",
   "execution_count": 102,
   "id": "fa24b68c-8771-4892-a591-74836fe7a491",
   "metadata": {},
   "outputs": [
    {
     "name": "stdout",
     "output_type": "stream",
     "text": [
      "10\n"
     ]
    }
   ],
   "source": [
    "is_active_user = 10\n",
    "print(is_active_user)\n"
   ]
  },
  {
   "cell_type": "code",
   "execution_count": 103,
   "id": "a3cf44d6-af39-4dd8-bdd1-1eb636a40541",
   "metadata": {},
   "outputs": [],
   "source": [
    "#5"
   ]
  },
  {
   "cell_type": "code",
   "execution_count": 104,
   "id": "b3f3031a-a3b3-4f01-9b16-f02cb33c37b6",
   "metadata": {},
   "outputs": [
    {
     "name": "stdin",
     "output_type": "stream",
     "text": [
      "enter lenght 20\n",
      "enter width 50\n"
     ]
    },
    {
     "name": "stdout",
     "output_type": "stream",
     "text": [
      "1000\n"
     ]
    }
   ],
   "source": [
    "len = int(input(\"enter lenght\"))\n",
    "width = int(input(\"enter width\"))\n",
    "area = len * width\n",
    "\n",
    "print(area)\n"
   ]
  },
  {
   "cell_type": "code",
   "execution_count": 106,
   "id": "2a2a6643-ca81-4dec-9b76-28ce76a361e8",
   "metadata": {},
   "outputs": [],
   "source": [
    "#6"
   ]
  },
  {
   "cell_type": "code",
   "execution_count": 107,
   "id": "291b2d70-2d5d-4222-a373-53e57e3d0222",
   "metadata": {},
   "outputs": [
    {
     "name": "stdout",
     "output_type": "stream",
     "text": [
      "1250\n"
     ]
    }
   ],
   "source": [
    "initial_balance = 1000\n",
    "initial_balance += 250\n",
    "initial_balance / 2\n",
    "initial_balance < 600\n",
    "print(initial_balance )"
   ]
  },
  {
   "cell_type": "code",
   "execution_count": 108,
   "id": "0a22e565-320b-415d-8d94-102ebd6b41ef",
   "metadata": {},
   "outputs": [],
   "source": [
    "#7"
   ]
  },
  {
   "cell_type": "code",
   "execution_count": 109,
   "id": "aaef2ae2-ba0e-40d2-b0d9-7d618ae30329",
   "metadata": {},
   "outputs": [
    {
     "name": "stdout",
     "output_type": "stream",
     "text": [
      "24.0\n"
     ]
    }
   ],
   "source": [
    "result = 15 + 4 * 3 - 9 / 3\n",
    "print(result)"
   ]
  },
  {
   "cell_type": "code",
   "execution_count": 110,
   "id": "e8be30a2-aecf-4ed3-b2e6-5dcb90129f11",
   "metadata": {},
   "outputs": [],
   "source": [
    "   #8"
   ]
  },
  {
   "cell_type": "code",
   "execution_count": 1,
   "id": "0b072326-5cf8-4f9b-bb23-0f99948749ad",
   "metadata": {},
   "outputs": [
    {
     "name": "stdin",
     "output_type": "stream",
     "text": [
      "Enter your favorite decimal number:  0.1\n"
     ]
    },
    {
     "name": "stdout",
     "output_type": "stream",
     "text": [
      "The new calculated number is 10.6\n"
     ]
    }
   ],
   "source": [
    "fav_decimalnum = input(\"Enter your favorite decimal number: \")\n",
    "fav_decimalnum = float(fav_decimalnum)   # Convert string to float\n",
    "fav_decimalnum += 10.5\n",
    "print(\"The new calculated number is\", fav_decimalnum)"
   ]
  },
  {
   "cell_type": "code",
   "execution_count": null,
   "id": "9082ce16-863f-4786-9f6d-51cef934a8e3",
   "metadata": {},
   "outputs": [],
   "source": []
  }
 ],
 "metadata": {
  "kernelspec": {
   "display_name": "Python [conda env:base] *",
   "language": "python",
   "name": "conda-base-py"
  },
  "language_info": {
   "codemirror_mode": {
    "name": "ipython",
    "version": 3
   },
   "file_extension": ".py",
   "mimetype": "text/x-python",
   "name": "python",
   "nbconvert_exporter": "python",
   "pygments_lexer": "ipython3",
   "version": "3.12.7"
  }
 },
 "nbformat": 4,
 "nbformat_minor": 5
}
