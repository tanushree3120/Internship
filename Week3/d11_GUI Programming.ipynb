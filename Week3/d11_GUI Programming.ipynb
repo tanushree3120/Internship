{
 "cells": [
  {
   "cell_type": "code",
   "execution_count": 1,
   "id": "683e6179-87e3-49df-8ca1-2af1d4fb9614",
   "metadata": {},
   "outputs": [],
   "source": [
    "from tkinter import *"
   ]
  },
  {
   "cell_type": "code",
   "execution_count": 6,
   "id": "86936c93-89a8-450d-b02f-4d34d393d1eb",
   "metadata": {},
   "outputs": [],
   "source": [
    "top = Tk()\n",
    "\n",
    "top.mainloop()"
   ]
  },
  {
   "cell_type": "markdown",
   "id": "b3d03cb9-e546-4c19-aee2-e644ae43fb56",
   "metadata": {},
   "source": [
    "Label of window"
   ]
  },
  {
   "cell_type": "code",
   "execution_count": 14,
   "id": "6f8a0386-3e45-461e-b243-2ec168689c75",
   "metadata": {},
   "outputs": [],
   "source": [
    "top = Tk()\n",
    "top.geometry('600x400')\n",
    "top.title('MY first application')\n",
    "l = label(top, text ='welcome to the first GUI application', fg='red', bg='blue',\n",
    "         font =('Arial',20)\n",
    "l.pack()\n",
    "top.mainloop()"
   ]
  },
  {
   "cell_type": "code",
   "execution_count": 26,
   "id": "6d2e6596-1bcf-4b94-9843-22b29a62efef",
   "metadata": {},
   "outputs": [],
   "source": [
    "top = Tk()\n",
    "top.geometry('600x400')\n",
    "top.title('MY first application')\n",
    "l1= Label(top, text ='welcome to the first GUI application', fg='red', bg='pink',\n",
    "         font =('Arial',20,'italic'))\n",
    "l2= Label(top, text ='hello', fg='red', bg='pink',\n",
    "         font =('Arial',20))\n",
    "l3= Label(top, text ='hii', fg='red', bg='pink',\n",
    "         font =('Arial',20))\n",
    "l1.pack(side = TOP)\n",
    "l2.pack(side = LEFT)\n",
    "l3.pack(side = BOTTOM)\n",
    "\n",
    "\n",
    "top.mainloop()"
   ]
  },
  {
   "cell_type": "markdown",
   "id": "cd2a6a7f-7e6d-4082-80ba-a939fd7624d8",
   "metadata": {},
   "source": [
    "Button"
   ]
  },
  {
   "cell_type": "code",
   "execution_count": 30,
   "id": "09e3d6cd-b5f7-4b60-9f45-08faf7100781",
   "metadata": {},
   "outputs": [],
   "source": [
    "top = Tk()\n",
    "top.geometry('600x400')\n",
    "top.title('MY first application')\n",
    "b=Button(top, text='Click Here', fg='magenta', bg='pink',\n",
    "         font =('Arial',20,'italic'))\n",
    "b.pack(side = LEFT, padx = 200)\n",
    "top.mainloop()"
   ]
  },
  {
   "cell_type": "markdown",
   "id": "8bdbabf0-460d-4a4d-abc3-f9c5f91959df",
   "metadata": {},
   "source": [
    "action generation for button"
   ]
  },
  {
   "cell_type": "code",
   "execution_count": 34,
   "id": "d7ef8573-9f0a-43b0-bece-1897fda4c19c",
   "metadata": {},
   "outputs": [
    {
     "name": "stdout",
     "output_type": "stream",
     "text": [
      "you clicked the button!!!\n",
      "you clicked the button!!!\n",
      "you clicked the button!!!\n",
      "you clicked the button!!!\n",
      "you clicked the button!!!\n",
      "you clicked the button!!!\n",
      "you clicked the button!!!\n",
      "you clicked the button!!!\n",
      "you clicked the button!!!\n"
     ]
    }
   ],
   "source": [
    "top = Tk()\n",
    "top.geometry('600x400')\n",
    "top.title('MY first application')\n",
    "\n",
    "def cacl():\n",
    "    print('you clicked the button!!!')\n",
    "b=Button(top, text='Click Here', fg='magenta', bg='pink',\n",
    "         font =('Arial',20,'italic'), command = cacl)\n",
    "b.pack(side = LEFT, padx = 200)\n",
    "top.mainloop()"
   ]
  },
  {
   "cell_type": "code",
   "execution_count": 41,
   "id": "2af106a6-ed34-47dd-ae17-d107e1f615b9",
   "metadata": {},
   "outputs": [],
   "source": [
    "top = Tk()\n",
    "top.geometry('600x400')\n",
    "top.title('MY first application')\n",
    "\n",
    "def cacl():\n",
    "    l.config(text='Good Bye!!', fg='dark green' ,font =('Arial',20,'bold'))\n",
    "b=Button(top, text='Click Here', font =('Arial',20,'italic'), command = cacl)\n",
    "l=Label(top, text='hello world')\n",
    "b.pack()\n",
    "l.pack()\n",
    "top.mainloop()"
   ]
  },
  {
   "cell_type": "markdown",
   "id": "170c14b5-690b-4ecd-b8c1-e36058b28e1d",
   "metadata": {},
   "source": [
    "Entry"
   ]
  },
  {
   "cell_type": "code",
   "execution_count": 42,
   "id": "29c1c683-9db9-4919-a4fc-b3cef1e12dfb",
   "metadata": {},
   "outputs": [],
   "source": [
    "top = Tk()\n",
    "top.geometry('600x400')\n",
    "top.title('MY first application')\n",
    "\n",
    "e = Entry(top,font=('Arial',20))\n",
    "e.pack()\n",
    "top.mainloop()"
   ]
  },
  {
   "cell_type": "code",
   "execution_count": 46,
   "id": "e21f0f80-b747-4760-80ee-ff23f1e45c46",
   "metadata": {},
   "outputs": [],
   "source": [
    "top = Tk()\n",
    "top.geometry('600x400')\n",
    "top.title('MY first application')\n",
    "\n",
    "def cacl():\n",
    "    num = int(e.get())\n",
    "    out.config(text = 'Result:' + str(num))\n",
    "\n",
    "l=Label(top, text='Enter the number:', font = ('Arial',20))\n",
    "e = Entry(top,font=('Arial',20))\n",
    "b=Button(top, text='Find square', font =('Arial',20,'italic'), command = cacl)\n",
    "out = Label(top, text = 'Result:',font = ('Times New Roman',20))\n",
    "\n",
    "l.pack()\n",
    "e.pack()\n",
    "b.pack()\n",
    "out.pack()\n",
    "top.mainloop()"
   ]
  },
  {
   "cell_type": "code",
   "execution_count": 47,
   "id": "95904b47-b4c9-461c-a1e8-cfdb760a49db",
   "metadata": {},
   "outputs": [],
   "source": [
    "top = Tk()\n",
    "top.geometry('600x400')\n",
    "top.title('MY first application')\n",
    "\n",
    "e = Entry(top,font=('Arial',20),show ='*')\n",
    "e.pack()\n",
    "top.mainloop()"
   ]
  },
  {
   "cell_type": "code",
   "execution_count": 64,
   "id": "25194f65-57a9-46af-9351-190b59de0acc",
   "metadata": {},
   "outputs": [],
   "source": [
    "top = Tk()\n",
    "top.geometry('800x600')\n",
    "top.title('MY first application')\n",
    "\n",
    "def save():\n",
    "    f = open('demo.txt', 'w')\n",
    "    f.write(t.get(\"1.0\",END))\n",
    "    f.close()\n",
    "\n",
    "def clear():\n",
    "    t.delete(\"1.0\",END)\n",
    "    \n",
    "t=Text(top,font=('Times New Roman',20), height= 15,width =40)\n",
    "b=Button(top, text='Save', font =('Times New Roman',20,'italic'), command = save)\n",
    "b1=Button(top, text='Clear', font =('Times New Roman',20,'italic'), command = clear)\n",
    "\n",
    "t.pack()\n",
    "b.pack()\n",
    "b1.pack()\n",
    "top.mainloop()"
   ]
  },
  {
   "cell_type": "markdown",
   "id": "c536d0ff-43d9-4355-b562-05fffb1265fc",
   "metadata": {},
   "source": [
    "Binding the events"
   ]
  },
  {
   "cell_type": "code",
   "execution_count": 72,
   "id": "ebbca6c2-66b3-4b01-990b-0c1835f96a95",
   "metadata": {},
   "outputs": [
    {
     "name": "stdout",
     "output_type": "stream",
     "text": [
      "double clicked\n",
      "double clicked\n",
      "double clicked\n"
     ]
    }
   ],
   "source": [
    "top = Tk()\n",
    "top.geometry('800x600')\n",
    "top.title('Simple binding of events')\n",
    "\n",
    "def hello(event):\n",
    "    print('left click')\n",
    "\n",
    "def quit(event):\n",
    "    print('double clicked')\n",
    "\n",
    "def right(event):\n",
    "    print('right clicked')\n",
    "\n",
    "b1=Button(top, text='button clicked', font =('Times New Roman',20,'italic'))\n",
    "b1.bind('<Button-1>',hello) \n",
    "b1.bind('<Button-1>',quit) \n",
    "b1.bind('<Button-3>',right) \n",
    "\n",
    "b1.pack()\n",
    "top.mainloop()\n"
   ]
  },
  {
   "cell_type": "markdown",
   "id": "5165809d-5651-4585-aee9-ab888cc30e3a",
   "metadata": {},
   "source": [
    "Pack manager"
   ]
  },
  {
   "cell_type": "code",
   "execution_count": 78,
   "id": "2b16ddda-1f69-45ce-b854-71864eb7c3aa",
   "metadata": {},
   "outputs": [],
   "source": [
    "top = Tk()\n",
    "top.geometry('600x400')\n",
    "top.title('MY first application')\n",
    "l1= Label(top, text ='welcome to the first GUI application', fg='red', bg='pink',\n",
    "         font =('Arial',20,'italic'))\n",
    "l2= Label(top, text ='hello', fg='red', bg='cyan',\n",
    "         font =('Arial',20))\n",
    "l3= Label(top, text ='hii', fg='red', bg='light blue',\n",
    "         font =('Arial',20))\n",
    "l1.pack(fill=X, padx=20, pady = 20)\n",
    "l2.pack(fill=X, padx=20, pady = 20)\n",
    "l3.pack(fill=X, padx=20, pady = 20)\n",
    "\n",
    "\n",
    "top.mainloop()"
   ]
  },
  {
   "cell_type": "markdown",
   "id": "d1f26fc6-e1ac-4a5b-a885-6f41056a43a2",
   "metadata": {},
   "source": [
    "Place manager"
   ]
  },
  {
   "cell_type": "code",
   "execution_count": 81,
   "id": "e268021b-6a3e-44ec-af1c-422f4b3fc8f1",
   "metadata": {},
   "outputs": [],
   "source": [
    "top = Tk()\n",
    "top.geometry('600x400')\n",
    "top.title('MY first application')\n",
    "\n",
    "def cacl():\n",
    "    num = int(e.get())\n",
    "    out.config(text = 'Result:' + str(num))\n",
    "\n",
    "l=Label(top, text='Enter the number:', font = ('Arial',20))\n",
    "e = Entry(top,font=('Times New Roman',20))\n",
    "b=Button(top, text='Find square', font =('Times New Roman',20,'italic'), command = cacl)\n",
    "out = Label(top, text = 'Result:',font = ('Times New Roman',20))\n",
    "\n",
    "l.place(x=20 , y=20)\n",
    "e.place(x=250, y=20)\n",
    "b.place(x=250,  y=80)\n",
    "out.place(x=250, y=150)\n",
    "top.mainloop()"
   ]
  },
  {
   "cell_type": "markdown",
   "id": "58fca020-69eb-4488-ac60-e4a90761c4d2",
   "metadata": {},
   "source": [
    "Grid manager"
   ]
  },
  {
   "cell_type": "code",
   "execution_count": 82,
   "id": "a5017e79-0f47-43ba-89f7-38e73da3bf83",
   "metadata": {},
   "outputs": [],
   "source": [
    "top = Tk()\n",
    "top.geometry('600x400')\n",
    "top.title('MY first application')\n",
    "\n",
    "def cacl():\n",
    "    num = int(e.get())\n",
    "    out.config(text = 'Result:' + str(num))\n",
    "\n",
    "l=Label(top, text='Enter the number:', font = ('Arial',20))\n",
    "e = Entry(top,font=('Times New Roman',20))\n",
    "b=Button(top, text='Find square', font =('Times New Roman',20,'italic'), command = cacl)\n",
    "out = Label(top, text = 'Result:',font = ('Times New Roman',20))\n",
    "\n",
    "l.grid(row=0 , column=0)\n",
    "e.grid(row=0, column=1)\n",
    "b.grid(row=1,  column=0)\n",
    "out.grid(row=1, column=1)\n",
    "top.mainloop()"
   ]
  },
  {
   "cell_type": "code",
   "execution_count": null,
   "id": "9bee55a3-6a3d-48dd-b266-7fe1bfcbb602",
   "metadata": {},
   "outputs": [],
   "source": [
    "num1 = Entry(top, font=('Times New Roman',20))\n",
    "num2 = Entry(top, font=('Times New Roman',20))\n",
    "add = Button(top, text=\"Add\", font=('Times New Roman',20), command=add)\n",
    "sub = Button(top, text=\"Sub\", font=('Times New Roman',20), command=sub)\n",
    "mul = Button(top, text=\"Mul\", font=('Times New Roman',20), command=mul)\n",
    "div = Button(top, text=\"Div\", font=('Times New Roman',20), command=div)\n",
    "result = Label(top, text=\"Result: \", font=('Times New Roman',20))\n",
    "num1.place(x=50, y=20);   num2.place(x=300, y=20);\n",
    "a"
   ]
  },
  {
   "cell_type": "code",
   "execution_count": null,
   "id": "9ac7b68b-f3df-43a1-9fbc-aaf51b01e6f0",
   "metadata": {},
   "outputs": [],
   "source": [
    "num1 = Entry(top, font=('Times New Roman',20))\n",
    "num2 = Entry(top, font=('Times New Roman',20))\n",
    "add = Button(top, text=\"Add\", font=('Times New Roman',20), command=add)\n",
    "sub = Button(top, text=\"Sub\", font=('Times New Roman',20), command=sub)\n",
    "mul = Button(top, text=\"Mul\", font=('Times New Roman',20), command=mul)\n",
    "div = Button(top, text=\"Div\", font=('Times New Roman',20), command=div)\n",
    "result = Label(top, text=\"Result: \", font=('Times New Roman',20))\n",
    "num1.place(x=50, y=20);   num2.place(x=300, y=20);\n",
    "add.place(x=50,y=100); sub.place(x=150,y=100); mul.place(x=250,y=100); div.place(x=350,y=100);\n",
    "result.place(x=50, y=200)\n",
    "top.mainloop()\n",
    "def add():\n",
    "    a = int(num1.get()) + int(num2.get())\n",
    "    result.config(text='Addition:' + str(a))\n",
    "\n",
    "def sub():\n",
    "    a = int(num1.get()) - int(num2.get())\n",
    "    result.config(text='Subtraction:' + str(a))\n",
    "def mul():\n",
    "    a = int(num1.get()) * int(num2.get())\n",
    "    result.config(text='Multiplication:' + str(a))\n",
    "\n",
    "def div():\n",
    "    a = int(num1.get()) / int(num2.get())\n",
    "    result.config(text='Division:' + str(a))\n",
    "    \n",
    "num1 = Entry(top,font=('Times New Roman',20))\n",
    "num2 = Entry(top,font=('Times New Roman',20))\n",
    "add = Button(top,text='add',font=('Times New Roman',20),command=add)\n",
    "sub = Button(top,text='sub',font=('Times New Roman',20),command=sub)\n",
    "mul = Button(top,text='mul',font=('Times New Roman',20),command=mul)\n",
    "div = Button(top,text='div',font=('Times New Roman',20),command=div)\n",
    "result = Label(top,text='Result:',font=('Times New Roman',20))\n",
    "num1.place(x=50,y=20); num2.place(x=300,y=20);\n",
    "add.place(x=50,y=100); sub.place(x=150,y=100);\n",
    "mul.place(x=250,y=100); div.place(x=350,y=100)\n",
    "result.place(x=50,y=200)\n",
    "\n",
    "top.mainloop()\n"
   ]
  }
 ],
 "metadata": {
  "kernelspec": {
   "display_name": "Python 3 (ipykernel)",
   "language": "python",
   "name": "python3"
  },
  "language_info": {
   "codemirror_mode": {
    "name": "ipython",
    "version": 3
   },
   "file_extension": ".py",
   "mimetype": "text/x-python",
   "name": "python",
   "nbconvert_exporter": "python",
   "pygments_lexer": "ipython3",
   "version": "3.12.7"
  }
 },
 "nbformat": 4,
 "nbformat_minor": 5
}
