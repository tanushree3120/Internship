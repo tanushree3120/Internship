{
 "cells": [
  {
   "cell_type": "code",
   "execution_count": 3,
   "id": "29bd37d6-039f-4802-97c6-3bda0a5d8473",
   "metadata": {},
   "outputs": [],
   "source": [
    "#clASS DEFINITION\n",
    "\n",
    "class Test:\n",
    "    #simple method/ function\n",
    "    def show(self):\n",
    "        print(\"hello world!\")"
   ]
  },
  {
   "cell_type": "code",
   "execution_count": 4,
   "id": "79dcb097-7c10-406b-80e8-904b5c9678c2",
   "metadata": {},
   "outputs": [],
   "source": [
    "#create the object\n",
    "obj = Test()"
   ]
  },
  {
   "cell_type": "code",
   "execution_count": 7,
   "id": "5cfab8da-6661-4593-89dd-a593b81dfdbf",
   "metadata": {},
   "outputs": [
    {
     "name": "stdout",
     "output_type": "stream",
     "text": [
      "hello world!\n"
     ]
    }
   ],
   "source": [
    "obj.show()"
   ]
  },
  {
   "cell_type": "markdown",
   "id": "65ba5921-5554-4759-af11-95b723cf8503",
   "metadata": {},
   "source": [
    "In object oriented programming, a consructor is a special method in which  class that is automatically invoked when a new object of that class is created.\n",
    "Its primary purose is to initialize the object,s attributse or memebers, setting them to the initial state.Constructors ensure that new objects are in a\n",
    "valid and usable state when they are first created."
   ]
  },
  {
   "cell_type": "markdown",
   "id": "b13b03fd-15cd-48a2-a5d4-8a0e9ad8a62b",
   "metadata": {},
   "source": [
    " defining properties attributes using constructors"
   ]
  },
  {
   "cell_type": "code",
   "execution_count": 24,
   "id": "fdabe2f0-bcd7-4d04-a9a0-82edd2bb229c",
   "metadata": {},
   "outputs": [],
   "source": [
    "#define class\n",
    "\n",
    "class MyClass:\n",
    "  def __init__(self):   #constructor\n",
    "    print(\"Hello world!!\")"
   ]
  },
  {
   "cell_type": "code",
   "execution_count": 25,
   "id": "f1e7d7ae-03e3-41b8-bef4-2b0bbaa04fef",
   "metadata": {},
   "outputs": [
    {
     "name": "stdout",
     "output_type": "stream",
     "text": [
      "Hello world!!\n"
     ]
    }
   ],
   "source": [
    "m = MyClass()"
   ]
  },
  {
   "cell_type": "code",
   "execution_count": 26,
   "id": "efe404e6-a5b6-4973-9ea0-336de7b8cfde",
   "metadata": {},
   "outputs": [],
   "source": [
    "class MyClass:\n",
    "  def __init__(self, x):   #constructor\n",
    "    print('Hello',x)"
   ]
  },
  {
   "cell_type": "code",
   "execution_count": 27,
   "id": "dd02247a-6421-4623-b94f-dabb0878bdae",
   "metadata": {},
   "outputs": [
    {
     "name": "stdout",
     "output_type": "stream",
     "text": [
      "Hello MOHINI\n"
     ]
    }
   ],
   "source": [
    "m = MyClass ('MOHINI')"
   ]
  },
  {
   "cell_type": "code",
   "execution_count": 28,
   "id": "16ad974f-cf07-4941-81ea-63270ca4ae3d",
   "metadata": {},
   "outputs": [],
   "source": [
    "class MyClass:\n",
    "  def __init__(self, x):   #constructor\n",
    "      self.name = x\n",
    "      print(\"Hello \", self.name)"
   ]
  },
  {
   "cell_type": "code",
   "execution_count": 29,
   "id": "e6606103-b962-4bcf-886e-a32bb378f3e3",
   "metadata": {},
   "outputs": [
    {
     "name": "stdout",
     "output_type": "stream",
     "text": [
      "Hello  hdf\n"
     ]
    }
   ],
   "source": [
    "m = MyClass('hdf')"
   ]
  },
  {
   "cell_type": "code",
   "execution_count": 30,
   "id": "2627d72a-d93b-4bcc-afc8-82fc0ac5cdb4",
   "metadata": {},
   "outputs": [
    {
     "data": {
      "text/plain": [
       "'hdf'"
      ]
     },
     "execution_count": 30,
     "metadata": {},
     "output_type": "execute_result"
    }
   ],
   "source": [
    "m.name"
   ]
  },
  {
   "cell_type": "code",
   "execution_count": 33,
   "id": "eead35f1-3b8a-4228-8af3-762323962fff",
   "metadata": {},
   "outputs": [],
   "source": [
    "class Calc:\n",
    "    def __init__(self, num):    #consructor\n",
    "        self.num = num\n",
    "    def square(self):         #method1\n",
    "        print('square of', self.num,'is:', self.num * self.num)\n",
    "    def cube(self):           #method2\n",
    "        print('cube of', self.num,'is:', self.num ** 3)\n"
   ]
  },
  {
   "cell_type": "code",
   "execution_count": 34,
   "id": "0c404bb1-6732-4324-af3a-20b5e20c78ed",
   "metadata": {},
   "outputs": [],
   "source": [
    "c1 = Calc(5)\n",
    "c2 = Calc(7)"
   ]
  },
  {
   "cell_type": "code",
   "execution_count": 35,
   "id": "4f7a7e2c-176d-484f-b72e-9f8793df48ab",
   "metadata": {},
   "outputs": [
    {
     "name": "stdout",
     "output_type": "stream",
     "text": [
      "square of 5 is: 25\n"
     ]
    }
   ],
   "source": [
    "c1.square()"
   ]
  },
  {
   "cell_type": "code",
   "execution_count": 36,
   "id": "03ba6b1e-32ab-4b63-9171-7ce8e85196a4",
   "metadata": {},
   "outputs": [
    {
     "name": "stdout",
     "output_type": "stream",
     "text": [
      "square of 7 is: 49\n"
     ]
    }
   ],
   "source": [
    "c2.square()"
   ]
  },
  {
   "cell_type": "code",
   "execution_count": 37,
   "id": "6b02526a-9d0d-4e46-8700-663f03f651c1",
   "metadata": {},
   "outputs": [
    {
     "name": "stdout",
     "output_type": "stream",
     "text": [
      "cube of 5 is: 125\n"
     ]
    }
   ],
   "source": [
    "c1.cube()"
   ]
  },
  {
   "cell_type": "code",
   "execution_count": 38,
   "id": "29ebec1f-83d2-4bcf-85fd-c82301940b6a",
   "metadata": {},
   "outputs": [
    {
     "name": "stdout",
     "output_type": "stream",
     "text": [
      "cube of 7 is: 343\n"
     ]
    }
   ],
   "source": [
    "c2.cube()"
   ]
  },
  {
   "cell_type": "code",
   "execution_count": 39,
   "id": "22e15b34-79d3-4b63-9564-de3f016d2ef3",
   "metadata": {},
   "outputs": [
    {
     "data": {
      "text/plain": [
       "(5, 7)"
      ]
     },
     "execution_count": 39,
     "metadata": {},
     "output_type": "execute_result"
    }
   ],
   "source": [
    "c1.num, c2.num"
   ]
  },
  {
   "cell_type": "code",
   "execution_count": 45,
   "id": "76638b73-d9b6-4f19-a0a7-e5637f544e70",
   "metadata": {},
   "outputs": [],
   "source": [
    "class Person:\n",
    "    def __init__(self, n, a):\n",
    "        self.name = n  \n",
    "        self.age = a\n",
    "    def show(self):\n",
    "        print('Your data')\n",
    "        print(self.name, self.age)"
   ]
  },
  {
   "cell_type": "code",
   "execution_count": 46,
   "id": "2f9a0d58-35de-4e59-8854-d9cf514063bd",
   "metadata": {},
   "outputs": [],
   "source": [
    "p1 = Person('Ram', 34)\n",
    "p2 = Person('Shruti', 25)"
   ]
  },
  {
   "cell_type": "code",
   "execution_count": 47,
   "id": "02a70593-1ab2-404c-a954-a0d35b16ea18",
   "metadata": {},
   "outputs": [
    {
     "name": "stdout",
     "output_type": "stream",
     "text": [
      "Your data\n",
      "Ram 34\n"
     ]
    }
   ],
   "source": [
    "p1.show()"
   ]
  },
  {
   "cell_type": "code",
   "execution_count": 48,
   "id": "afbc3ce6-df53-4244-8060-7f7bbcd56f29",
   "metadata": {},
   "outputs": [
    {
     "name": "stdout",
     "output_type": "stream",
     "text": [
      "Your data\n",
      "Shruti 25\n"
     ]
    }
   ],
   "source": [
    "p2.show()"
   ]
  },
  {
   "cell_type": "code",
   "execution_count": 49,
   "id": "d0ec2b52-1e0a-4816-8a63-b7e56a285c65",
   "metadata": {},
   "outputs": [],
   "source": [
    "p2.name = 'Riya'"
   ]
  },
  {
   "cell_type": "code",
   "execution_count": 50,
   "id": "3edcf959-bdce-4c83-bdad-22b657efb07f",
   "metadata": {},
   "outputs": [
    {
     "name": "stdout",
     "output_type": "stream",
     "text": [
      "Your data\n",
      "Riya 25\n"
     ]
    }
   ],
   "source": [
    "p2.show()"
   ]
  },
  {
   "cell_type": "code",
   "execution_count": 51,
   "id": "f21785e7-2b30-48cd-b99e-b623aac6291c",
   "metadata": {},
   "outputs": [],
   "source": [
    "class Person:\n",
    "    def __init__(self, n, a = 30):\n",
    "        self.name = n  \n",
    "        self.age = a\n",
    "    def show(self):\n",
    "        print('Your data')\n",
    "        print(self.name, self.age)"
   ]
  },
  {
   "cell_type": "code",
   "execution_count": 54,
   "id": "4efb53ea-bf0c-4a8b-8485-f6e8fe55b23f",
   "metadata": {},
   "outputs": [],
   "source": [
    "p3 = Person('Ajay', 30)"
   ]
  },
  {
   "cell_type": "code",
   "execution_count": 55,
   "id": "72c89c0d-6bd5-44b3-9ef3-bdf9040a48e1",
   "metadata": {},
   "outputs": [
    {
     "name": "stdout",
     "output_type": "stream",
     "text": [
      "Your data\n",
      "Ajay 30\n"
     ]
    }
   ],
   "source": [
    "p3.show()"
   ]
  },
  {
   "cell_type": "code",
   "execution_count": 56,
   "id": "ee1837cc-38a2-4872-9874-599405c6aa06",
   "metadata": {},
   "outputs": [],
   "source": [
    "p4 = Person('Vijay')"
   ]
  },
  {
   "cell_type": "code",
   "execution_count": 57,
   "id": "d186d8a8-222b-4f9f-b75e-05d65bbfad84",
   "metadata": {},
   "outputs": [
    {
     "name": "stdout",
     "output_type": "stream",
     "text": [
      "Your data\n",
      "Vijay 30\n"
     ]
    }
   ],
   "source": [
    "p4.show()"
   ]
  },
  {
   "cell_type": "code",
   "execution_count": 58,
   "id": "2f4f7d7e-bec7-47cb-bd82-abf998b8bbb3",
   "metadata": {},
   "outputs": [],
   "source": [
    "p5 = Person(a = 34, n = 'Aryan')  # keyword arguments"
   ]
  },
  {
   "cell_type": "code",
   "execution_count": 59,
   "id": "2d8cb85d-a147-4118-9f86-111ade24d02e",
   "metadata": {},
   "outputs": [
    {
     "name": "stdout",
     "output_type": "stream",
     "text": [
      "Your data\n",
      "Aryan 34\n"
     ]
    }
   ],
   "source": [
    "p5.show()"
   ]
  },
  {
   "cell_type": "code",
   "execution_count": 64,
   "id": "43faef07-67f3-44a5-a9fe-29eb64fdd8d6",
   "metadata": {},
   "outputs": [],
   "source": [
    "# write a method isEligible(), that prints true if the person is eligible for license and false if not\n",
    "\n",
    "class Person:\n",
    "    city = 'Pune'\n",
    "    def __init__(self, name, age):\n",
    "        self.name = name\n",
    "        self.age = age\n",
    "\n",
    "    def isEligible(self):\n",
    "        if self.age >= 18:\n",
    "            print(True)\n",
    "        else:\n",
    "            print(False)\n",
    "\n",
    "\n"
   ]
  },
  {
   "cell_type": "code",
   "execution_count": 61,
   "id": "24a34f19-9962-40e6-9327-dedc0cbb203c",
   "metadata": {},
   "outputs": [
    {
     "name": "stdout",
     "output_type": "stream",
     "text": [
      "True\n"
     ]
    }
   ],
   "source": [
    "p1 = Person(\"Asha\", 20)\n"
   ]
  },
  {
   "cell_type": "code",
   "execution_count": 69,
   "id": "14e2c3f9-7102-4413-93b0-91cb60e4ffd5",
   "metadata": {},
   "outputs": [],
   "source": [
    "p2 = Person(\"Ravi\", 16)\n",
    "\n"
   ]
  },
  {
   "cell_type": "code",
   "execution_count": 70,
   "id": "17debd3b-0494-4058-b1a1-b8d92defd715",
   "metadata": {},
   "outputs": [
    {
     "data": {
      "text/plain": [
       "'Pune'"
      ]
     },
     "execution_count": 70,
     "metadata": {},
     "output_type": "execute_result"
    }
   ],
   "source": [
    "p2.city"
   ]
  },
  {
   "cell_type": "code",
   "execution_count": 72,
   "id": "8f170af0-09e4-4b15-bec9-f12a4e34af72",
   "metadata": {},
   "outputs": [],
   "source": [
    "p2.city = 'Mumbai'"
   ]
  },
  {
   "cell_type": "code",
   "execution_count": 73,
   "id": "3abc6d3b-7489-4cdc-af57-331414e948e9",
   "metadata": {},
   "outputs": [
    {
     "data": {
      "text/plain": [
       "'Mumbai'"
      ]
     },
     "execution_count": 73,
     "metadata": {},
     "output_type": "execute_result"
    }
   ],
   "source": [
    "p2.city"
   ]
  },
  {
   "cell_type": "markdown",
   "id": "b1e80845-1d6d-420d-b929-97b75bb5f721",
   "metadata": {},
   "source": [
    "DATA HIDING"
   ]
  },
  {
   "cell_type": "code",
   "execution_count": 74,
   "id": "50ca64e4-8326-40d4-a82a-92e5e27d4e1d",
   "metadata": {},
   "outputs": [],
   "source": [
    "class Player:\n",
    "    def __init__(self, n, m):\n",
    "      self.name = n\n",
    "      self.matches = m\n",
    "    def display(self):\n",
    "        print(self.name,'has played',self.matches,'matches')"
   ]
  },
  {
   "cell_type": "code",
   "execution_count": 75,
   "id": "3adf0537-52ad-4abb-8e90-e7fb8276df78",
   "metadata": {},
   "outputs": [],
   "source": [
    "p1 = Player('Dhoni', 1900)"
   ]
  },
  {
   "cell_type": "code",
   "execution_count": 76,
   "id": "2a792f67-81e0-4962-a62f-7ed0667f07a6",
   "metadata": {},
   "outputs": [
    {
     "name": "stdout",
     "output_type": "stream",
     "text": [
      "Dhoni has played 1900 matches\n"
     ]
    }
   ],
   "source": [
    "p1.display()"
   ]
  },
  {
   "cell_type": "code",
   "execution_count": 77,
   "id": "d4870511-a44f-410a-b39f-01447346bb40",
   "metadata": {},
   "outputs": [],
   "source": [
    "class Player:\n",
    "    def __init__(self, n, m):\n",
    "      self.__name = n\n",
    "      self.matches = m\n",
    "    def display(self):\n",
    "        print(self.__name,'has played',self.matches,'matches')"
   ]
  },
  {
   "cell_type": "code",
   "execution_count": 80,
   "id": "775113cb-860c-4e6c-a225-c79a787eb238",
   "metadata": {},
   "outputs": [],
   "source": [
    "p2 = Player('Rohit', 1005)"
   ]
  },
  {
   "cell_type": "code",
   "execution_count": 82,
   "id": "67462b41-1d4d-4898-b383-70c413c913f6",
   "metadata": {},
   "outputs": [
    {
     "name": "stdout",
     "output_type": "stream",
     "text": [
      "Rohit has played 1005 matches\n"
     ]
    }
   ],
   "source": [
    "p2.display()class Person:\n",
    "    def __init__(self, n, a = 30):\n",
    "        self.name = n  \n",
    "        self.age = a\n",
    "    def show(self):\n",
    "        print('Your data')\n",
    "        print(self.name, self.age)"
   ]
  },
  {
   "cell_type": "code",
   "execution_count": 83,
   "id": "fb813121-9711-41a7-ad40-33dcc9eb7624",
   "metadata": {},
   "outputs": [],
   "source": [
    "class Person:\n",
    "    def __init__(self, n, a = 30):\n",
    "        self.name = n  \n",
    "        self.age = a\n",
    "    def show(self):\n",
    "        print('Your data')\n",
    "        print(self.name, self.age)\n",
    "\n",
    "class Employee:\n",
    "    def isEligible(self):\n",
    "        if self.age  >= 18:\n",
    "            return True\n",
    "        else:\n",
    "            return False"
   ]
  },
  {
   "cell_type": "code",
   "execution_count": 84,
   "id": "a12deec7-ebac-4be3-957f-1fbf6e55e5d2",
   "metadata": {},
   "outputs": [],
   "source": [
    "emp = Person('Ram', 43)"
   ]
  },
  {
   "cell_type": "code",
   "execution_count": 85,
   "id": "1b7cd567-72a1-41d7-a07a-3a95f748df5b",
   "metadata": {},
   "outputs": [
    {
     "name": "stdout",
     "output_type": "stream",
     "text": [
      "Your data\n",
      "Ram 43\n"
     ]
    }
   ],
   "source": [
    "emp.show()"
   ]
  },
  {
   "cell_type": "markdown",
   "id": "61f3d642-01e2-4f2c-b45b-113b4214be00",
   "metadata": {},
   "source": [
    "check subclass"
   ]
  },
  {
   "cell_type": "code",
   "execution_count": 88,
   "id": "c328b915-1f0a-4d81-8d63-c5465b122a9f",
   "metadata": {},
   "outputs": [],
   "source": [
    "class Base(object):\n",
    "    pass\n",
    "class Derived(Base):\n",
    "    pass"
   ]
  },
  {
   "cell_type": "code",
   "execution_count": 89,
   "id": "2c115de2-8aa7-467b-b8ff-75e7c3efae12",
   "metadata": {},
   "outputs": [
    {
     "data": {
      "text/plain": [
       "False"
      ]
     },
     "execution_count": 89,
     "metadata": {},
     "output_type": "execute_result"
    }
   ],
   "source": [
    "issubclass(Base, Derived)"
   ]
  },
  {
   "cell_type": "code",
   "execution_count": 90,
   "id": "d8a3c54b-6ef7-4f80-a2ee-f8c7c802fed1",
   "metadata": {},
   "outputs": [
    {
     "data": {
      "text/plain": [
       "True"
      ]
     },
     "execution_count": 90,
     "metadata": {},
     "output_type": "execute_result"
    }
   ],
   "source": [
    "issubclass(Derived, Base)"
   ]
  },
  {
   "cell_type": "code",
   "execution_count": 91,
   "id": "b9b8f0b4-ec29-48d1-8d8e-b14376cd24d8",
   "metadata": {},
   "outputs": [],
   "source": [
    "b = Base()\n",
    "d = Derived()"
   ]
  },
  {
   "cell_type": "code",
   "execution_count": 93,
   "id": "bb337928-f6f0-4773-9e87-aaf50b97c0b8",
   "metadata": {},
   "outputs": [
    {
     "data": {
      "text/plain": [
       "False"
      ]
     },
     "execution_count": 93,
     "metadata": {},
     "output_type": "execute_result"
    }
   ],
   "source": [
    "isinstance(b, Derived)"
   ]
  },
  {
   "cell_type": "code",
   "execution_count": 94,
   "id": "ec1ea3de-b756-434c-869c-162f019b67c6",
   "metadata": {},
   "outputs": [
    {
     "data": {
      "text/plain": [
       "True"
      ]
     },
     "execution_count": 94,
     "metadata": {},
     "output_type": "execute_result"
    }
   ],
   "source": [
    "isinstance(b, Base)"
   ]
  },
  {
   "cell_type": "code",
   "execution_count": 101,
   "id": "cb461e04-c424-42e6-a929-d538f82c52d0",
   "metadata": {},
   "outputs": [],
   "source": [
    "class Base1(object):\n",
    "    def __init__(self):\n",
    "        self.str1 = 'Rajesh'\n",
    "        print('Base1')\n",
    "class Base2(object):\n",
    "    def __init__(self):\n",
    "        self.str2 = 'Radha'\n",
    "        print('Base2')\n",
    "class Derived(Base1, Base2):\n",
    "    def __init__(self):\n",
    "        Base1.__init__(self)\n",
    "        Base2.__init__(self)\n",
    "        print('Derived')\n",
    "    def printValues(self):\n",
    "        print(self.str1, self.str2)\n"
   ]
  },
  {
   "cell_type": "code",
   "execution_count": 102,
   "id": "4f33c6a9-4ae7-47a3-b05e-d2a288e183ef",
   "metadata": {},
   "outputs": [
    {
     "name": "stdout",
     "output_type": "stream",
     "text": [
      "Base1\n",
      "Base2\n",
      "Derived\n"
     ]
    }
   ],
   "source": [
    "d = Derived()"
   ]
  },
  {
   "cell_type": "code",
   "execution_count": 103,
   "id": "3b926e14-d871-4944-ab38-e0d0b1e9980a",
   "metadata": {},
   "outputs": [
    {
     "name": "stdout",
     "output_type": "stream",
     "text": [
      "Rajesh Radha\n"
     ]
    }
   ],
   "source": [
    "d.printValues()"
   ]
  },
  {
   "cell_type": "code",
   "execution_count": null,
   "id": "524e2e97-c1e9-4f78-9b83-96e68996d9d6",
   "metadata": {},
   "outputs": [],
   "source": []
  },
  {
   "cell_type": "code",
   "execution_count": null,
   "id": "a962e898-12e4-41db-b3ec-5bb6c6977d08",
   "metadata": {},
   "outputs": [],
   "source": []
  }
 ],
 "metadata": {
  "kernelspec": {
   "display_name": "Python [conda env:base] *",
   "language": "python",
   "name": "conda-base-py"
  },
  "language_info": {
   "codemirror_mode": {
    "name": "ipython",
    "version": 3
   },
   "file_extension": ".py",
   "mimetype": "text/x-python",
   "name": "python",
   "nbconvert_exporter": "python",
   "pygments_lexer": "ipython3",
   "version": "3.12.7"
  }
 },
 "nbformat": 4,
 "nbformat_minor": 5
}
