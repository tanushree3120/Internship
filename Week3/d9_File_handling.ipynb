{
 "cells": [
  {
   "cell_type": "markdown",
   "id": "7349402c-5b91-46e4-a06a-f130f9dcd3ea",
   "metadata": {},
   "source": [
    "# reading a file "
   ]
  },
  {
   "cell_type": "code",
   "execution_count": 1,
   "id": "c79380e1-9e54-4f5d-b787-f7a08176d604",
   "metadata": {},
   "outputs": [],
   "source": [
    "file = open('maharashtra.txt')"
   ]
  },
  {
   "cell_type": "code",
   "execution_count": 2,
   "id": "84873d6b-c7e9-4e6d-93b0-546e876cc620",
   "metadata": {},
   "outputs": [
    {
     "data": {
      "text/plain": [
       "<_io.TextIOWrapper name='maharashtra.txt' mode='r' encoding='cp1252'>"
      ]
     },
     "execution_count": 2,
     "metadata": {},
     "output_type": "execute_result"
    }
   ],
   "source": [
    "file\n"
   ]
  },
  {
   "cell_type": "markdown",
   "id": "f8ec77a6-4abe-456d-a101-48b7f3e70321",
   "metadata": {},
   "source": [
    "## with statement"
   ]
  },
  {
   "cell_type": "code",
   "execution_count": 3,
   "id": "b7a4921e-38ef-4a6c-aea1-1cd4155bc6d9",
   "metadata": {},
   "outputs": [],
   "source": [
    "with open('maharashtra.txt') as f:\n",
    "    data = f.read()"
   ]
  },
  {
   "cell_type": "code",
   "execution_count": 4,
   "id": "64d3e89b-39a1-4d39-a655-01b832d83f64",
   "metadata": {},
   "outputs": [
    {
     "name": "stdout",
     "output_type": "stream",
     "text": [
      "yes! \n",
      "hiiiii!\n"
     ]
    }
   ],
   "source": [
    "print(data)"
   ]
  },
  {
   "cell_type": "markdown",
   "id": "95169da6-4ca3-4606-8f95-3c76b899e75d",
   "metadata": {},
   "source": [
    "## Writing in file "
   ]
  },
  {
   "cell_type": "code",
   "execution_count": 6,
   "id": "4a0df613-d18a-406e-ad38-4295da60568d",
   "metadata": {},
   "outputs": [],
   "source": [
    "# mode -'w'(existing file will be overwritten otherwise created )"
   ]
  },
  {
   "cell_type": "code",
   "execution_count": 7,
   "id": "05f1b811-a802-4c23-9bf0-56609758314f",
   "metadata": {},
   "outputs": [],
   "source": [
    "f = open('maharashtra.txt','w')"
   ]
  },
  {
   "cell_type": "code",
   "execution_count": 8,
   "id": "96bdcc36-d5c7-4b3d-855e-c3d017e4f998",
   "metadata": {},
   "outputs": [
    {
     "data": {
      "text/plain": [
       "<_io.TextIOWrapper name='maharashtra.txt' mode='w' encoding='cp1252'>"
      ]
     },
     "execution_count": 8,
     "metadata": {},
     "output_type": "execute_result"
    }
   ],
   "source": [
    "f"
   ]
  },
  {
   "cell_type": "markdown",
   "id": "6692c4ac-6cfa-4e30-baf5-37dbf0f04005",
   "metadata": {},
   "source": [
    "#####  function"
   ]
  },
  {
   "cell_type": "code",
   "execution_count": 10,
   "id": "0ff54c99-9e8f-4512-80d8-fdcb06155d28",
   "metadata": {},
   "outputs": [
    {
     "data": {
      "text/plain": [
       "False"
      ]
     },
     "execution_count": 10,
     "metadata": {},
     "output_type": "execute_result"
    }
   ],
   "source": [
    "f.readable()"
   ]
  },
  {
   "cell_type": "code",
   "execution_count": 11,
   "id": "358d0212-3e55-4631-bd55-8f6c93167a35",
   "metadata": {},
   "outputs": [
    {
     "data": {
      "text/plain": [
       "True"
      ]
     },
     "execution_count": 11,
     "metadata": {},
     "output_type": "execute_result"
    }
   ],
   "source": [
    "f.writable()"
   ]
  },
  {
   "cell_type": "markdown",
   "id": "fc6dc4ae-8106-45ec-ad35-56dabbdf410b",
   "metadata": {},
   "source": [
    "#### writelines() function"
   ]
  },
  {
   "cell_type": "code",
   "execution_count": 25,
   "id": "bb2f5181-eadb-4269-82e5-791fee68a5d0",
   "metadata": {},
   "outputs": [],
   "source": [
    "lines = ['It is raining heavingly','It may cause flood']"
   ]
  },
  {
   "cell_type": "code",
   "execution_count": null,
   "id": "84be8f79-bc5c-4812-abd7-44527d24c1e9",
   "metadata": {},
   "outputs": [],
   "source": [
    "f.writelines(lines)"
   ]
  },
  {
   "cell_type": "code",
   "execution_count": 27,
   "id": "e3e133d7-2464-45d2-91f8-79b2b31bb5ce",
   "metadata": {},
   "outputs": [],
   "source": [
    "f.close()"
   ]
  },
  {
   "cell_type": "markdown",
   "id": "e16c42d6-49eb-4afa-9af6-db6272d8baf0",
   "metadata": {},
   "source": [
    "#### write () function"
   ]
  },
  {
   "cell_type": "code",
   "execution_count": 29,
   "id": "625480d0-4233-4b34-a3c7-1ff099f2268b",
   "metadata": {},
   "outputs": [],
   "source": [
    "sent = 'python is interpreted language . we need an interpreted to it.'"
   ]
  },
  {
   "cell_type": "code",
   "execution_count": 30,
   "id": "00489397-cdf2-4b08-858f-1b4d11dfa602",
   "metadata": {},
   "outputs": [],
   "source": [
    "f = open('myfile.txt','w')\n",
    "f.write(sent)\n",
    "f.close()"
   ]
  },
  {
   "cell_type": "code",
   "execution_count": 31,
   "id": "fa38b9f4-6de0-4163-99a0-b9e70db70574",
   "metadata": {},
   "outputs": [],
   "source": [
    "with open('myfile.txt','w') as f:\n",
    "    f.write('hello\\n')\n",
    "    f.write('this is second line\\n')\n",
    "    f.write('nd the last line')"
   ]
  },
  {
   "cell_type": "markdown",
   "id": "66a256ce-c97c-40f2-b814-07a15ba7cdf5",
   "metadata": {},
   "source": [
    "##### simple file copy operation"
   ]
  },
  {
   "cell_type": "code",
   "execution_count": 32,
   "id": "a99b0c57-07ec-4296-801f-7a2cd2944604",
   "metadata": {},
   "outputs": [],
   "source": [
    "# source file - myfile.txt \n",
    "# destinationn file - mydata.txt "
   ]
  },
  {
   "cell_type": "code",
   "execution_count": 1,
   "id": "81f4f3dd-60d6-483d-8b2a-8015d2bd780a",
   "metadata": {},
   "outputs": [],
   "source": [
    "s = open('myfile.txt','r')\n",
    "d = open('mydata.txt','w')\n"
   ]
  },
  {
   "cell_type": "code",
   "execution_count": 2,
   "id": "43315643-4395-4a39-b039-3707b01d7fb8",
   "metadata": {},
   "outputs": [],
   "source": [
    "content = s.read()\n",
    "d.write(content)\n",
    "d.close()"
   ]
  },
  {
   "cell_type": "markdown",
   "id": "d3c71872-6ce7-4c10-a8b0-f2b9b29b980c",
   "metadata": {},
   "source": [
    "### appending the data to file"
   ]
  },
  {
   "cell_type": "code",
   "execution_count": 35,
   "id": "27ee180c-37dd-448e-a488-e3be68d04591",
   "metadata": {},
   "outputs": [],
   "source": [
    "s = open('myfile.txt','a')   # a is used for append"
   ]
  },
  {
   "cell_type": "code",
   "execution_count": 36,
   "id": "6b3e248e-9363-433f-a90f-cc69b82801e2",
   "metadata": {},
   "outputs": [
    {
     "data": {
      "text/plain": [
       "11"
      ]
     },
     "execution_count": 36,
     "metadata": {},
     "output_type": "execute_result"
    }
   ],
   "source": [
    "s.write('\\n good bye!')"
   ]
  },
  {
   "cell_type": "code",
   "execution_count": 37,
   "id": "a90f13c6-307c-45db-9b25-ea2e3545b99a",
   "metadata": {},
   "outputs": [],
   "source": [
    "s.close()"
   ]
  },
  {
   "cell_type": "code",
   "execution_count": 38,
   "id": "07058271-2b45-43a8-894c-730bca2ad91c",
   "metadata": {},
   "outputs": [
    {
     "name": "stdout",
     "output_type": "stream",
     "text": [
      "hello\n",
      "this is second line\n",
      "nd the last line\n",
      " good bye!\n"
     ]
    }
   ],
   "source": [
    "s = open('myfile.txt','r')\n",
    "print(s.read())"
   ]
  },
  {
   "cell_type": "markdown",
   "id": "70874987-2839-47c7-a30d-25f9bb20853e",
   "metadata": {},
   "source": [
    "#### exclusive creation"
   ]
  },
  {
   "cell_type": "code",
   "execution_count": null,
   "id": "f6b35723-2cc7-47f5-b2c5-eba4db8f2eb6",
   "metadata": {},
   "outputs": [],
   "source": [
    "f = open('myfile.txt','x')"
   ]
  },
  {
   "cell_type": "code",
   "execution_count": 40,
   "id": "0d882345-174d-45d1-9d95-6d580491686a",
   "metadata": {},
   "outputs": [],
   "source": [
    "f = open('mytext.txt','x')"
   ]
  },
  {
   "cell_type": "code",
   "execution_count": 1,
   "id": "fe3d2d75-1213-46fb-9864-538bd5f9a623",
   "metadata": {},
   "outputs": [],
   "source": [
    "#example"
   ]
  },
  {
   "cell_type": "code",
   "execution_count": 3,
   "id": "bb76e6b3-a3a9-4e57-bfa0-2a2a2456895b",
   "metadata": {},
   "outputs": [],
   "source": [
    "f = open('num1.txt')"
   ]
  },
  {
   "cell_type": "code",
   "execution_count": 4,
   "id": "2345efe6-20b8-43f5-9d5b-1691db4511bd",
   "metadata": {},
   "outputs": [],
   "source": [
    "data = f.read()"
   ]
  },
  {
   "cell_type": "code",
   "execution_count": 6,
   "id": "3fe5c459-57e6-4e9e-9346-fd038f6c6723",
   "metadata": {},
   "outputs": [
    {
     "data": {
      "text/plain": [
       "'23\\n54\\n12\\n67\\n39\\n81\\n50\\n88\\n97\\n33\\n'"
      ]
     },
     "execution_count": 6,
     "metadata": {},
     "output_type": "execute_result"
    }
   ],
   "source": [
    "data"
   ]
  },
  {
   "cell_type": "markdown",
   "id": "f408e3cd-c48e-476c-a20b-8bd6060dd007",
   "metadata": {},
   "source": []
  }
 ],
 "metadata": {
  "kernelspec": {
   "display_name": "base",
   "language": "python",
   "name": "python3"
  },
  "language_info": {
   "codemirror_mode": {
    "name": "ipython",
    "version": 3
   },
   "file_extension": ".py",
   "mimetype": "text/x-python",
   "name": "python",
   "nbconvert_exporter": "python",
   "pygments_lexer": "ipython3",
   "version": "3.12.7"
  }
 },
 "nbformat": 4,
 "nbformat_minor": 5
}
