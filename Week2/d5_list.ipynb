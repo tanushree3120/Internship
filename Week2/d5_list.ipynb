{
 "cells": [
  {
   "cell_type": "code",
   "execution_count": 1,
   "id": "58bd23b2-6b2f-4ef0-8a69-57ed59f84f8b",
   "metadata": {},
   "outputs": [],
   "source": [
    "l = [34, 56,76,78,45]"
   ]
  },
  {
   "cell_type": "code",
   "execution_count": 2,
   "id": "41d00c43-cc17-4043-a2ed-e07ba2469a73",
   "metadata": {},
   "outputs": [
    {
     "name": "stdout",
     "output_type": "stream",
     "text": [
      "[34, 56, 76, 78, 45]\n"
     ]
    }
   ],
   "source": [
    "print(l)"
   ]
  },
  {
   "cell_type": "code",
   "execution_count": 3,
   "id": "6c666ac2-9add-4578-8fdd-0ee79a2b2594",
   "metadata": {},
   "outputs": [
    {
     "data": {
      "text/plain": [
       "list"
      ]
     },
     "execution_count": 3,
     "metadata": {},
     "output_type": "execute_result"
    }
   ],
   "source": [
    "type(l)"
   ]
  },
  {
   "cell_type": "code",
   "execution_count": 4,
   "id": "880e0a4d-9b2c-4348-b034-1fdaa4d94aae",
   "metadata": {},
   "outputs": [],
   "source": [
    "#list  are hetrogeneous"
   ]
  },
  {
   "cell_type": "code",
   "execution_count": 5,
   "id": "0ff4ee1c-a11c-4830-afe5-82dcea753f31",
   "metadata": {},
   "outputs": [],
   "source": [
    "l = [24, 45, True, 'pune']"
   ]
  },
  {
   "cell_type": "code",
   "execution_count": 6,
   "id": "1c8c8a3f-868e-4186-b489-c6f3f71ca9d5",
   "metadata": {},
   "outputs": [
    {
     "data": {
      "text/plain": [
       "[24, 45, True, 'pune']"
      ]
     },
     "execution_count": 6,
     "metadata": {},
     "output_type": "execute_result"
    }
   ],
   "source": [
    "l"
   ]
  },
  {
   "cell_type": "code",
   "execution_count": 7,
   "id": "db6b4e56-ed58-40a0-aa70-2e979644bd83",
   "metadata": {},
   "outputs": [],
   "source": [
    "# access the data\n",
    "# list are ordered(indexing is present)"
   ]
  },
  {
   "cell_type": "code",
   "execution_count": 8,
   "id": "dfb4702b-1367-40d7-a8e7-dcc6f1b3c126",
   "metadata": {},
   "outputs": [
    {
     "data": {
      "text/plain": [
       "24"
      ]
     },
     "execution_count": 8,
     "metadata": {},
     "output_type": "execute_result"
    }
   ],
   "source": [
    "l[0]"
   ]
  },
  {
   "cell_type": "code",
   "execution_count": 9,
   "id": "9e8d3969-44e6-4df6-9462-a1703b73bbc5",
   "metadata": {},
   "outputs": [
    {
     "data": {
      "text/plain": [
       "'pune'"
      ]
     },
     "execution_count": 9,
     "metadata": {},
     "output_type": "execute_result"
    }
   ],
   "source": [
    "l[-1]"
   ]
  },
  {
   "cell_type": "code",
   "execution_count": 10,
   "id": "6515ec85-ff54-417f-bfa6-1ee73269d08f",
   "metadata": {},
   "outputs": [],
   "source": [
    "l[2] = 50"
   ]
  },
  {
   "cell_type": "code",
   "execution_count": 11,
   "id": "eb0eca3b-f511-4bff-8508-844f2ede2fd6",
   "metadata": {},
   "outputs": [
    {
     "data": {
      "text/plain": [
       "[24, 45, 50, 'pune']"
      ]
     },
     "execution_count": 11,
     "metadata": {},
     "output_type": "execute_result"
    }
   ],
   "source": [
    "l"
   ]
  },
  {
   "cell_type": "code",
   "execution_count": 12,
   "id": "58adf099-95fc-416f-80a7-309ef35f0bcc",
   "metadata": {},
   "outputs": [],
   "source": [
    "l[-3] = False"
   ]
  },
  {
   "cell_type": "code",
   "execution_count": 13,
   "id": "f7307d9b-07cc-4100-af5a-057db0a822a7",
   "metadata": {},
   "outputs": [
    {
     "data": {
      "text/plain": [
       "False"
      ]
     },
     "execution_count": 13,
     "metadata": {},
     "output_type": "execute_result"
    }
   ],
   "source": [
    "l[-3]"
   ]
  },
  {
   "cell_type": "code",
   "execution_count": 17,
   "id": "ab5eb508-a5c0-45d8-a900-f4ad5b2a6905",
   "metadata": {},
   "outputs": [],
   "source": [
    "# list slicingg"
   ]
  },
  {
   "cell_type": "code",
   "execution_count": 19,
   "id": "88018ed2-08cd-40f7-9b1a-590cbd6b8e60",
   "metadata": {},
   "outputs": [],
   "source": [
    "l1 = [56, 74, 80, 34, 54, 19, 20]"
   ]
  },
  {
   "cell_type": "code",
   "execution_count": 16,
   "id": "e95b11d1-33b0-4d5e-829e-2d11de12758f",
   "metadata": {},
   "outputs": [
    {
     "data": {
      "text/plain": [
       "[74, 80, 34]"
      ]
     },
     "execution_count": 16,
     "metadata": {},
     "output_type": "execute_result"
    }
   ],
   "source": [
    "l1[1 :4]"
   ]
  },
  {
   "cell_type": "code",
   "execution_count": 21,
   "id": "7138a94f-f86a-4515-bb8f-bb4ac1984460",
   "metadata": {},
   "outputs": [
    {
     "data": {
      "text/plain": [
       "[34, 54, 19, 20]"
      ]
     },
     "execution_count": 21,
     "metadata": {},
     "output_type": "execute_result"
    }
   ],
   "source": [
    "l1[3 :7]"
   ]
  },
  {
   "cell_type": "code",
   "execution_count": 22,
   "id": "7fbf50d7-799e-461b-8a71-b55d1cc0d2ad",
   "metadata": {},
   "outputs": [
    {
     "data": {
      "text/plain": [
       "[34, 54, 19]"
      ]
     },
     "execution_count": 22,
     "metadata": {},
     "output_type": "execute_result"
    }
   ],
   "source": [
    "l1[3:-1]"
   ]
  },
  {
   "cell_type": "code",
   "execution_count": 23,
   "id": "bd0babbe-d0f2-43f7-9817-067ca514f77f",
   "metadata": {},
   "outputs": [
    {
     "data": {
      "text/plain": [
       "[56, 74, 80, 34, 54, 19, 20]"
      ]
     },
     "execution_count": 23,
     "metadata": {},
     "output_type": "execute_result"
    }
   ],
   "source": [
    "l1[:]"
   ]
  },
  {
   "cell_type": "code",
   "execution_count": 24,
   "id": "8b92a9a9-db5b-4798-b22a-b2321a20b28f",
   "metadata": {},
   "outputs": [
    {
     "data": {
      "text/plain": [
       "[56, 74, 80]"
      ]
     },
     "execution_count": 24,
     "metadata": {},
     "output_type": "execute_result"
    }
   ],
   "source": [
    "l1[:3]"
   ]
  },
  {
   "cell_type": "code",
   "execution_count": 25,
   "id": "f3f26fb8-13e0-46ae-91f7-ef4bfabb44a8",
   "metadata": {},
   "outputs": [
    {
     "data": {
      "text/plain": [
       "[56, 80, 54, 20]"
      ]
     },
     "execution_count": 25,
     "metadata": {},
     "output_type": "execute_result"
    }
   ],
   "source": [
    "l1[::2]"
   ]
  },
  {
   "cell_type": "code",
   "execution_count": 28,
   "id": "4482bc69-17b3-49b4-94e8-d463f4129dbd",
   "metadata": {},
   "outputs": [
    {
     "data": {
      "text/plain": [
       "[20, 19, 54, 34, 80, 74, 56]"
      ]
     },
     "execution_count": 28,
     "metadata": {},
     "output_type": "execute_result"
    }
   ],
   "source": [
    "l1[::-1]"
   ]
  },
  {
   "cell_type": "code",
   "execution_count": 29,
   "id": "b91bf49b-0ea1-4518-ae0f-d9be376afa62",
   "metadata": {},
   "outputs": [],
   "source": [
    "l1[1:4] = 23, 90, 21"
   ]
  },
  {
   "cell_type": "code",
   "execution_count": 30,
   "id": "5e0de329-3f2a-4dc6-bf06-820b2da5203f",
   "metadata": {},
   "outputs": [
    {
     "data": {
      "text/plain": [
       "[56, 23, 90, 21, 54, 19, 20]"
      ]
     },
     "execution_count": 30,
     "metadata": {},
     "output_type": "execute_result"
    }
   ],
   "source": [
    "l1"
   ]
  },
  {
   "cell_type": "code",
   "execution_count": 31,
   "id": "e3b546e9-6d7b-413e-bf46-bf987deb84f0",
   "metadata": {},
   "outputs": [],
   "source": [
    "del l1[2]"
   ]
  },
  {
   "cell_type": "code",
   "execution_count": 32,
   "id": "68b003f8-f31a-4d73-9906-78d114591944",
   "metadata": {},
   "outputs": [
    {
     "data": {
      "text/plain": [
       "[56, 23, 21, 54, 19, 20]"
      ]
     },
     "execution_count": 32,
     "metadata": {},
     "output_type": "execute_result"
    }
   ],
   "source": [
    "l1"
   ]
  },
  {
   "cell_type": "code",
   "execution_count": 33,
   "id": "73b64a50-b517-451e-a379-89c25a4f75eb",
   "metadata": {},
   "outputs": [],
   "source": [
    "n = [19, 34, 58]"
   ]
  },
  {
   "cell_type": "code",
   "execution_count": 34,
   "id": "36bfba00-5ecf-4753-91fb-6f30d0807634",
   "metadata": {},
   "outputs": [],
   "source": [
    "del n"
   ]
  },
  {
   "cell_type": "code",
   "execution_count": 36,
   "id": "42ae1bfe-5515-421e-88ec-464bb79c9b1b",
   "metadata": {},
   "outputs": [
    {
     "data": {
      "text/plain": [
       "False"
      ]
     },
     "execution_count": 36,
     "metadata": {},
     "output_type": "execute_result"
    }
   ],
   "source": [
    "100 in l1"
   ]
  },
  {
   "cell_type": "code",
   "execution_count": 37,
   "id": "4a1265a0-e1b2-461e-9428-10a435124320",
   "metadata": {},
   "outputs": [
    {
     "data": {
      "text/plain": [
       "False"
      ]
     },
     "execution_count": 37,
     "metadata": {},
     "output_type": "execute_result"
    }
   ],
   "source": [
    "90 in l1"
   ]
  },
  {
   "cell_type": "code",
   "execution_count": 38,
   "id": "264c205c-95dc-49fb-ba8e-27b550610609",
   "metadata": {},
   "outputs": [
    {
     "data": {
      "text/plain": [
       "True"
      ]
     },
     "execution_count": 38,
     "metadata": {},
     "output_type": "execute_result"
    }
   ],
   "source": [
    "23 in l1"
   ]
  },
  {
   "cell_type": "code",
   "execution_count": 39,
   "id": "74015776-6c25-47fe-99ec-91faa8de6af1",
   "metadata": {},
   "outputs": [],
   "source": [
    "#arithmetic operators"
   ]
  },
  {
   "cell_type": "code",
   "execution_count": 40,
   "id": "61ac1216-510a-4c08-a776-48c65a84aa37",
   "metadata": {},
   "outputs": [
    {
     "data": {
      "text/plain": [
       "[56, 23, 21, 54, 19, 20]"
      ]
     },
     "execution_count": 40,
     "metadata": {},
     "output_type": "execute_result"
    }
   ],
   "source": [
    "l1"
   ]
  },
  {
   "cell_type": "code",
   "execution_count": 41,
   "id": "e8bb1537-e399-4e8e-ac60-6966c82b0a8e",
   "metadata": {},
   "outputs": [
    {
     "data": {
      "text/plain": [
       "[56, 23, 21, 54, 19, 20, 56, 23, 21, 54, 19, 20]"
      ]
     },
     "execution_count": 41,
     "metadata": {},
     "output_type": "execute_result"
    }
   ],
   "source": [
    "l1 * 2"
   ]
  },
  {
   "cell_type": "code",
   "execution_count": 42,
   "id": "254d6621-0f00-4ee2-b39b-6744c654e6ad",
   "metadata": {},
   "outputs": [
    {
     "data": {
      "text/plain": [
       "[56, 23, 21, 54, 19, 20, 56, 23, 21, 54, 19, 20, 56, 23, 21, 54, 19, 20]"
      ]
     },
     "execution_count": 42,
     "metadata": {},
     "output_type": "execute_result"
    }
   ],
   "source": [
    "l1 * 3"
   ]
  },
  {
   "cell_type": "code",
   "execution_count": 43,
   "id": "a5657204-bad4-4444-850a-49369a538331",
   "metadata": {},
   "outputs": [
    {
     "data": {
      "text/plain": [
       "[56, 23, 21, 54, 19, 20, 10, 100]"
      ]
     },
     "execution_count": 43,
     "metadata": {},
     "output_type": "execute_result"
    }
   ],
   "source": [
    "l1+[10, 100]"
   ]
  },
  {
   "cell_type": "code",
   "execution_count": 45,
   "id": "203a6415-d91c-4ff7-b093-794e747f5ebf",
   "metadata": {},
   "outputs": [
    {
     "data": {
      "text/plain": [
       "[56, 23, 21, 54, 19, 20, 24, False, 50, 'pune']"
      ]
     },
     "execution_count": 45,
     "metadata": {},
     "output_type": "execute_result"
    }
   ],
   "source": [
    "l1 + l"
   ]
  },
  {
   "cell_type": "code",
   "execution_count": 48,
   "id": "3978829f-2b5f-41a3-b217-d533e561a479",
   "metadata": {},
   "outputs": [
    {
     "name": "stdout",
     "output_type": "stream",
     "text": [
      "3136\n",
      "529\n",
      "441\n",
      "2916\n",
      "361\n",
      "400\n"
     ]
    }
   ],
   "source": [
    "#print the square of all the numbers i the list\n",
    "\n",
    "l1 = [56, 23, 21, 54, 19, 20]\n",
    "for num in l1:\n",
    "    print(num * num)"
   ]
  },
  {
   "cell_type": "code",
   "execution_count": 51,
   "id": "40f15d29-eaea-4e38-8885-efab9db994f5",
   "metadata": {},
   "outputs": [
    {
     "name": "stdout",
     "output_type": "stream",
     "text": [
      "odd numbers are 23\n",
      "odd numbers are 21\n",
      "odd numbers are 19\n"
     ]
    }
   ],
   "source": [
    "# print odd number from the list\n",
    "\n",
    "for i in l1:\n",
    "    if i % 2 != 0:\n",
    "        print(\"odd numbers are\",i)\n"
   ]
  },
  {
   "cell_type": "code",
   "execution_count": 52,
   "id": "c3cb95f0-ee3b-4bd4-8268-02880410c750",
   "metadata": {},
   "outputs": [],
   "source": [
    "# list comprehension"
   ]
  },
  {
   "cell_type": "code",
   "execution_count": 53,
   "id": "768a0e46-eed9-4e55-a9cc-ecbcf60fffea",
   "metadata": {},
   "outputs": [
    {
     "data": {
      "text/plain": [
       "[56, 23, 21, 54, 19, 20]"
      ]
     },
     "execution_count": 53,
     "metadata": {},
     "output_type": "execute_result"
    }
   ],
   "source": [
    "l1"
   ]
  },
  {
   "cell_type": "code",
   "execution_count": 54,
   "id": "a413ede4-f051-4010-9130-5ce5c5949f99",
   "metadata": {},
   "outputs": [],
   "source": [
    "#map\n",
    "new1 = [i * i for i in l1]"
   ]
  },
  {
   "cell_type": "code",
   "execution_count": 55,
   "id": "92ed1ea5-5d77-443c-8fb9-3a86e7944276",
   "metadata": {},
   "outputs": [
    {
     "data": {
      "text/plain": [
       "[3136, 529, 441, 2916, 361, 400]"
      ]
     },
     "execution_count": 55,
     "metadata": {},
     "output_type": "execute_result"
    }
   ],
   "source": [
    "new1"
   ]
  },
  {
   "cell_type": "code",
   "execution_count": 56,
   "id": "f4814915-d4b3-4cb2-8234-221bb78bb986",
   "metadata": {},
   "outputs": [
    {
     "data": {
      "text/plain": [
       "list"
      ]
     },
     "execution_count": 56,
     "metadata": {},
     "output_type": "execute_result"
    }
   ],
   "source": [
    "type(new1)"
   ]
  },
  {
   "cell_type": "code",
   "execution_count": 57,
   "id": "f2c9e48b-7a50-4694-aa0f-20d02947bcf5",
   "metadata": {},
   "outputs": [
    {
     "name": "stdout",
     "output_type": "stream",
     "text": [
      "[28.0, 11.5, 10.5, 27.0, 9.5, 10.0]\n"
     ]
    }
   ],
   "source": [
    "# create list having half of values\n",
    "\n",
    "half_values = [i / 2 for i in l1]\n",
    "print(half_values)\n"
   ]
  },
  {
   "cell_type": "code",
   "execution_count": 58,
   "id": "3d6ecd4a-7873-4f8f-87a5-d57f95132beb",
   "metadata": {},
   "outputs": [],
   "source": [
    "#filter "
   ]
  },
  {
   "cell_type": "code",
   "execution_count": 61,
   "id": "d7f7b8f2-6cf1-43f5-97e2-faa3c574ca2c",
   "metadata": {},
   "outputs": [],
   "source": [
    "#odd numbers\n",
    "\n",
    "n1 = [i for i in l1 if i % 2 != 0]"
   ]
  },
  {
   "cell_type": "code",
   "execution_count": 62,
   "id": "557b7dd6-d9de-4f8d-bbd7-cebb5a19a46a",
   "metadata": {},
   "outputs": [
    {
     "data": {
      "text/plain": [
       "[23, 21, 19]"
      ]
     },
     "execution_count": 62,
     "metadata": {},
     "output_type": "execute_result"
    }
   ],
   "source": [
    "n1"
   ]
  },
  {
   "cell_type": "code",
   "execution_count": 80,
   "id": "af7320a0-083e-4583-a60f-2f36d9b2e861",
   "metadata": {},
   "outputs": [],
   "source": [
    "names = ['Tanushree', 'Palak', 'siddhi', 'Shruti', 'kalyani', 'puja', 'Shravani', 'vaishnavi', 'Aaditi', 'Dhanashri', 'mohini']"
   ]
  },
  {
   "cell_type": "code",
   "execution_count": 83,
   "id": "8e65019e-5a01-4966-b8e7-2b051634eaac",
   "metadata": {},
   "outputs": [
    {
     "name": "stdout",
     "output_type": "stream",
     "text": [
      "['Palak', 'puja']\n"
     ]
    }
   ],
   "source": [
    "# create a list those names starting with P\n",
    "\n",
    "P = [i for i in names if i.lower().startswith('p')]\n",
    "print(P)"
   ]
  },
  {
   "cell_type": "code",
   "execution_count": 86,
   "id": "850ede50-aece-4bba-979d-c77e68a8930b",
   "metadata": {},
   "outputs": [],
   "source": [
    "e = []"
   ]
  },
  {
   "cell_type": "code",
   "execution_count": 87,
   "id": "cc483b15-05b5-4ea5-a400-b8a3d4a10744",
   "metadata": {},
   "outputs": [
    {
     "data": {
      "text/plain": [
       "[]"
      ]
     },
     "execution_count": 87,
     "metadata": {},
     "output_type": "execute_result"
    }
   ],
   "source": [
    "e"
   ]
  },
  {
   "cell_type": "code",
   "execution_count": 89,
   "id": "ea47d867-2f21-4e49-86f7-b3d52129f368",
   "metadata": {},
   "outputs": [],
   "source": [
    "#list decomposition"
   ]
  },
  {
   "cell_type": "code",
   "execution_count": 90,
   "id": "befb770e-0cc9-424d-9ba5-6c413e8ad9d7",
   "metadata": {},
   "outputs": [],
   "source": [
    "l = [12, 23, 45]"
   ]
  },
  {
   "cell_type": "code",
   "execution_count": 91,
   "id": "ae144892-1cc1-4ec4-b2d7-67b7376d29cb",
   "metadata": {},
   "outputs": [],
   "source": [
    " x, y, z = l"
   ]
  },
  {
   "cell_type": "code",
   "execution_count": 92,
   "id": "7631b89d-c763-49d9-abf5-d2e587b7a014",
   "metadata": {},
   "outputs": [
    {
     "data": {
      "text/plain": [
       "[12, 23, 45]"
      ]
     },
     "execution_count": 92,
     "metadata": {},
     "output_type": "execute_result"
    }
   ],
   "source": [
    "l"
   ]
  },
  {
   "cell_type": "code",
   "execution_count": 93,
   "id": "8c803c9f-8f20-4b81-a47d-2f9425c33013",
   "metadata": {},
   "outputs": [
    {
     "data": {
      "text/plain": [
       "12"
      ]
     },
     "execution_count": 93,
     "metadata": {},
     "output_type": "execute_result"
    }
   ],
   "source": [
    "x"
   ]
  },
  {
   "cell_type": "code",
   "execution_count": 94,
   "id": "fbfc10e9-0fee-4eba-93d1-07b328a9bdc4",
   "metadata": {},
   "outputs": [],
   "source": [
    "#functions"
   ]
  },
  {
   "cell_type": "code",
   "execution_count": 95,
   "id": "7864b0f6-b69f-4a80-8eaf-512fafdef458",
   "metadata": {},
   "outputs": [
    {
     "data": {
      "text/plain": [
       "[56, 23, 21, 54, 19, 20]"
      ]
     },
     "execution_count": 95,
     "metadata": {},
     "output_type": "execute_result"
    }
   ],
   "source": [
    "l1"
   ]
  },
  {
   "cell_type": "code",
   "execution_count": 97,
   "id": "27ff45bc-3e4d-4edb-a31b-5fd2471e4e8e",
   "metadata": {},
   "outputs": [
    {
     "data": {
      "text/plain": [
       "6"
      ]
     },
     "execution_count": 97,
     "metadata": {},
     "output_type": "execute_result"
    }
   ],
   "source": [
    "len(l1)"
   ]
  },
  {
   "cell_type": "code",
   "execution_count": 98,
   "id": "a82b2455-527f-40de-a085-9315bfb937c8",
   "metadata": {},
   "outputs": [
    {
     "data": {
      "text/plain": [
       "193"
      ]
     },
     "execution_count": 98,
     "metadata": {},
     "output_type": "execute_result"
    }
   ],
   "source": [
    "sum(l1)"
   ]
  },
  {
   "cell_type": "code",
   "execution_count": 100,
   "id": "62428f98-3753-4bbf-a2b6-6b5cff292263",
   "metadata": {},
   "outputs": [
    {
     "data": {
      "text/plain": [
       "[19, 20, 21, 23, 54, 56]"
      ]
     },
     "execution_count": 100,
     "metadata": {},
     "output_type": "execute_result"
    }
   ],
   "source": [
    "sorted(l1)"
   ]
  },
  {
   "cell_type": "code",
   "execution_count": 101,
   "id": "34f1fa59-d048-4f91-b1eb-aea0340604bd",
   "metadata": {},
   "outputs": [
    {
     "data": {
      "text/plain": [
       "[56, 54, 23, 21, 20, 19]"
      ]
     },
     "execution_count": 101,
     "metadata": {},
     "output_type": "execute_result"
    }
   ],
   "source": [
    "sorted(l1, reverse=True)"
   ]
  },
  {
   "cell_type": "code",
   "execution_count": 102,
   "id": "f0f9d37e-804f-4de4-8b07-8085b91de94a",
   "metadata": {},
   "outputs": [],
   "source": [
    "name = \"pune\""
   ]
  },
  {
   "cell_type": "code",
   "execution_count": 104,
   "id": "2d07355e-52eb-4dff-a733-ebf443690811",
   "metadata": {},
   "outputs": [
    {
     "data": {
      "text/plain": [
       "['p', 'u', 'n', 'e']"
      ]
     },
     "execution_count": 104,
     "metadata": {},
     "output_type": "execute_result"
    }
   ],
   "source": [
    "list(name)"
   ]
  },
  {
   "cell_type": "code",
   "execution_count": 105,
   "id": "de9f9db4-000d-460c-9f13-0d9ec685b565",
   "metadata": {},
   "outputs": [],
   "source": [
    "#methods"
   ]
  },
  {
   "cell_type": "code",
   "execution_count": 106,
   "id": "72b05226-a94c-4823-bb39-6dd289031bf3",
   "metadata": {},
   "outputs": [],
   "source": [
    "#adding elements at the end"
   ]
  },
  {
   "cell_type": "code",
   "execution_count": 107,
   "id": "7c3dcc89-0053-4e9d-84ec-fef8342988cd",
   "metadata": {},
   "outputs": [
    {
     "data": {
      "text/plain": [
       "[56, 23, 21, 54, 19, 20]"
      ]
     },
     "execution_count": 107,
     "metadata": {},
     "output_type": "execute_result"
    }
   ],
   "source": [
    "l1"
   ]
  },
  {
   "cell_type": "code",
   "execution_count": 108,
   "id": "eb6a70bf-4128-4d6d-b547-33dd9702d7b6",
   "metadata": {},
   "outputs": [],
   "source": [
    "l1.append(100)"
   ]
  },
  {
   "cell_type": "code",
   "execution_count": 109,
   "id": "5afe8358-94d8-4d3a-b2c4-bf96b36c4322",
   "metadata": {},
   "outputs": [
    {
     "data": {
      "text/plain": [
       "[56, 23, 21, 54, 19, 20, 100]"
      ]
     },
     "execution_count": 109,
     "metadata": {},
     "output_type": "execute_result"
    }
   ],
   "source": [
    "l1"
   ]
  },
  {
   "cell_type": "code",
   "execution_count": 110,
   "id": "4dee5868-bf1a-4d4a-b2d0-1ec4abc8bd52",
   "metadata": {},
   "outputs": [],
   "source": [
    "# append and extend"
   ]
  },
  {
   "cell_type": "code",
   "execution_count": 111,
   "id": "5947f6f7-c7b8-4f55-94e5-42605ad8b538",
   "metadata": {},
   "outputs": [],
   "source": [
    "n1 = [12, 13 , 14]\n",
    "n2 = [12, 13 , 14]"
   ]
  },
  {
   "cell_type": "code",
   "execution_count": 113,
   "id": "cc019923-8ad9-4770-8395-ffaca4945166",
   "metadata": {},
   "outputs": [],
   "source": [
    "n1.append([100, 200])\n",
    "n2.extend([100, 200])"
   ]
  },
  {
   "cell_type": "code",
   "execution_count": 114,
   "id": "3fad8091-2394-48d3-ac79-3ccfe6d7a75b",
   "metadata": {},
   "outputs": [
    {
     "data": {
      "text/plain": [
       "[12, 13, 14, [100, 200]]"
      ]
     },
     "execution_count": 114,
     "metadata": {},
     "output_type": "execute_result"
    }
   ],
   "source": [
    "n1"
   ]
  },
  {
   "cell_type": "code",
   "execution_count": 115,
   "id": "c1b46a4a-d5db-4f48-ad8a-b824366870b8",
   "metadata": {},
   "outputs": [
    {
     "data": {
      "text/plain": [
       "[12, 13, 14, 100, 200]"
      ]
     },
     "execution_count": 115,
     "metadata": {},
     "output_type": "execute_result"
    }
   ],
   "source": [
    "n2"
   ]
  },
  {
   "cell_type": "code",
   "execution_count": 122,
   "id": "d9132484-f318-44c3-b79c-346b9b5f5166",
   "metadata": {},
   "outputs": [
    {
     "data": {
      "text/plain": [
       "100"
      ]
     },
     "execution_count": 122,
     "metadata": {},
     "output_type": "execute_result"
    }
   ],
   "source": [
    "n1[3][0]"
   ]
  },
  {
   "cell_type": "code",
   "execution_count": 123,
   "id": "08f39b5a-75f3-4df8-9d76-3c12db95ac89",
   "metadata": {},
   "outputs": [
    {
     "data": {
      "text/plain": [
       "[56, 23, 21, 54, 19, 20, 100]"
      ]
     },
     "execution_count": 123,
     "metadata": {},
     "output_type": "execute_result"
    }
   ],
   "source": [
    "l1"
   ]
  },
  {
   "cell_type": "code",
   "execution_count": 124,
   "id": "78498010-095e-47f6-8bf1-61f9fe3f478e",
   "metadata": {},
   "outputs": [],
   "source": [
    "l1.insert(1, 1000)"
   ]
  },
  {
   "cell_type": "code",
   "execution_count": 125,
   "id": "d5f99458-34e8-4ae0-949a-301298653666",
   "metadata": {},
   "outputs": [
    {
     "data": {
      "text/plain": [
       "[56, 1000, 23, 21, 54, 19, 20, 100]"
      ]
     },
     "execution_count": 125,
     "metadata": {},
     "output_type": "execute_result"
    }
   ],
   "source": [
    "l1"
   ]
  },
  {
   "cell_type": "code",
   "execution_count": 126,
   "id": "1e1d8b2b-58ac-4787-9dc0-26b30cb43f40",
   "metadata": {},
   "outputs": [],
   "source": [
    "l1.remove(1000)"
   ]
  },
  {
   "cell_type": "code",
   "execution_count": 127,
   "id": "4a8d0c37-7aa8-4fd6-872f-bd644ea895b7",
   "metadata": {},
   "outputs": [
    {
     "data": {
      "text/plain": [
       "[56, 23, 21, 54, 19, 20, 100]"
      ]
     },
     "execution_count": 127,
     "metadata": {},
     "output_type": "execute_result"
    }
   ],
   "source": [
    "l1"
   ]
  },
  {
   "cell_type": "code",
   "execution_count": 128,
   "id": "56baf7fb-d5ce-4199-a783-c28c8fe54a2f",
   "metadata": {},
   "outputs": [
    {
     "data": {
      "text/plain": [
       "100"
      ]
     },
     "execution_count": 128,
     "metadata": {},
     "output_type": "execute_result"
    }
   ],
   "source": [
    "l1.pop()"
   ]
  },
  {
   "cell_type": "code",
   "execution_count": 129,
   "id": "5cf278f4-b02b-4a1b-aad9-2463dd129f24",
   "metadata": {},
   "outputs": [
    {
     "data": {
      "text/plain": [
       "23"
      ]
     },
     "execution_count": 129,
     "metadata": {},
     "output_type": "execute_result"
    }
   ],
   "source": [
    "l1.pop(1)"
   ]
  },
  {
   "cell_type": "code",
   "execution_count": 130,
   "id": "d58de4df-6613-45d7-88b1-fd5271c10097",
   "metadata": {},
   "outputs": [
    {
     "data": {
      "text/plain": [
       "[56, 21, 54, 19, 20]"
      ]
     },
     "execution_count": 130,
     "metadata": {},
     "output_type": "execute_result"
    }
   ],
   "source": [
    "l1"
   ]
  },
  {
   "cell_type": "code",
   "execution_count": 131,
   "id": "5a8cd929-fc38-48db-99a5-86995b476fb8",
   "metadata": {},
   "outputs": [
    {
     "data": {
      "text/plain": [
       "2"
      ]
     },
     "execution_count": 131,
     "metadata": {},
     "output_type": "execute_result"
    }
   ],
   "source": [
    "l1.index(54)"
   ]
  },
  {
   "cell_type": "code",
   "execution_count": 132,
   "id": "58af1058-fbf8-420e-952f-82adaf04d7a3",
   "metadata": {},
   "outputs": [
    {
     "data": {
      "text/plain": [
       "1"
      ]
     },
     "execution_count": 132,
     "metadata": {},
     "output_type": "execute_result"
    }
   ],
   "source": [
    "l1.count(20)"
   ]
  },
  {
   "cell_type": "code",
   "execution_count": 133,
   "id": "b0c671f4-af2c-47f9-8186-7e02cd67f22a",
   "metadata": {},
   "outputs": [],
   "source": [
    "#  copying/clonig a list"
   ]
  },
  {
   "cell_type": "code",
   "execution_count": 134,
   "id": "5a15723e-e597-4876-8b34-c8313c2660dc",
   "metadata": {},
   "outputs": [
    {
     "data": {
      "text/plain": [
       "[12, 13, 14, [100, 200]]"
      ]
     },
     "execution_count": 134,
     "metadata": {},
     "output_type": "execute_result"
    }
   ],
   "source": [
    "n1"
   ]
  },
  {
   "cell_type": "code",
   "execution_count": 135,
   "id": "1c7bcb43-723d-4a15-bd4e-8eb87200fb99",
   "metadata": {},
   "outputs": [],
   "source": [
    "c1 = n1"
   ]
  },
  {
   "cell_type": "code",
   "execution_count": 136,
   "id": "6e185c3e-c4e2-4ed5-88cf-64a21def0fbb",
   "metadata": {},
   "outputs": [
    {
     "data": {
      "text/plain": [
       "[12, 13, 14, [100, 200]]"
      ]
     },
     "execution_count": 136,
     "metadata": {},
     "output_type": "execute_result"
    }
   ],
   "source": [
    "c1"
   ]
  },
  {
   "cell_type": "code",
   "execution_count": 137,
   "id": "973a329f-43aa-40de-a76b-1b7d9db6c4df",
   "metadata": {},
   "outputs": [],
   "source": [
    "n1.append(1000)"
   ]
  },
  {
   "cell_type": "code",
   "execution_count": 138,
   "id": "8984782e-d41b-4f61-8e9b-cfe18efed972",
   "metadata": {},
   "outputs": [
    {
     "data": {
      "text/plain": [
       "[12, 13, 14, [100, 200], 1000]"
      ]
     },
     "execution_count": 138,
     "metadata": {},
     "output_type": "execute_result"
    }
   ],
   "source": [
    "n1"
   ]
  },
  {
   "cell_type": "code",
   "execution_count": 139,
   "id": "268f6542-c765-4c38-a6e4-6c8c3e16e7ac",
   "metadata": {},
   "outputs": [
    {
     "data": {
      "text/plain": [
       "[12, 13, 14, [100, 200], 1000]"
      ]
     },
     "execution_count": 139,
     "metadata": {},
     "output_type": "execute_result"
    }
   ],
   "source": [
    "c1"
   ]
  },
  {
   "cell_type": "code",
   "execution_count": 140,
   "id": "30ce033b-070a-471a-aa80-d4dbdd8bb4c1",
   "metadata": {},
   "outputs": [],
   "source": [
    "c1 = n1.copy()"
   ]
  },
  {
   "cell_type": "code",
   "execution_count": 141,
   "id": "77a51490-f75d-4f75-b8e6-7562aa20e460",
   "metadata": {},
   "outputs": [
    {
     "data": {
      "text/plain": [
       "[12, 13, 14, [100, 200], 1000]"
      ]
     },
     "execution_count": 141,
     "metadata": {},
     "output_type": "execute_result"
    }
   ],
   "source": [
    "n1"
   ]
  },
  {
   "cell_type": "code",
   "execution_count": 142,
   "id": "1db70777-a437-4a7f-864b-eb686f96967c",
   "metadata": {},
   "outputs": [],
   "source": [
    "n1.append(1000)"
   ]
  },
  {
   "cell_type": "code",
   "execution_count": 143,
   "id": "8b3ea865-8389-404d-b0ff-8ec545241433",
   "metadata": {},
   "outputs": [
    {
     "data": {
      "text/plain": [
       "[12, 13, 14, [100, 200], 1000, 1000]"
      ]
     },
     "execution_count": 143,
     "metadata": {},
     "output_type": "execute_result"
    }
   ],
   "source": [
    "n1"
   ]
  },
  {
   "cell_type": "code",
   "execution_count": 144,
   "id": "7fa7f25e-e56f-4dab-bfff-18f3565ced49",
   "metadata": {},
   "outputs": [
    {
     "data": {
      "text/plain": [
       "[12, 13, 14, [100, 200], 1000]"
      ]
     },
     "execution_count": 144,
     "metadata": {},
     "output_type": "execute_result"
    }
   ],
   "source": [
    "c1"
   ]
  },
  {
   "cell_type": "code",
   "execution_count": 145,
   "id": "c7c4121c-4032-4388-9a87-d21868fc3bb8",
   "metadata": {},
   "outputs": [],
   "source": [
    "n1[3][0] = 214124"
   ]
  },
  {
   "cell_type": "code",
   "execution_count": 146,
   "id": "415d1294-9045-44a0-a044-d0d0ec80929a",
   "metadata": {},
   "outputs": [
    {
     "data": {
      "text/plain": [
       "[12, 13, 14, [214124, 200], 1000]"
      ]
     },
     "execution_count": 146,
     "metadata": {},
     "output_type": "execute_result"
    }
   ],
   "source": [
    "c1"
   ]
  },
  {
   "cell_type": "code",
   "execution_count": 147,
   "id": "5c2ac9cb-5ced-4dfb-99c6-79d8e9aa89aa",
   "metadata": {},
   "outputs": [],
   "source": [
    "l = [12, 34, 45, 67, 45, 90, 11]"
   ]
  },
  {
   "cell_type": "code",
   "execution_count": 148,
   "id": "96c83f69-4276-4fd6-8079-b6b9d398dc6a",
   "metadata": {},
   "outputs": [],
   "source": [
    "#iterate over the list and print ==> index ==> value\n",
    "#ex:= 0--> 12\n",
    "#     1--> 34 and so on"
   ]
  },
  {
   "cell_type": "code",
   "execution_count": 157,
   "id": "92fecf05-6342-454c-a3f9-93084f35aabe",
   "metadata": {},
   "outputs": [
    {
     "name": "stdout",
     "output_type": "stream",
     "text": [
      "0 --> 12\n",
      "1 --> 34\n",
      "2 --> 45\n",
      "3 --> 67\n",
      "4 --> 45\n",
      "5 --> 90\n",
      "6 --> 11\n"
     ]
    }
   ],
   "source": [
    "l = [12, 34, 45, 67, 45, 90, 11]\n",
    "\n",
    "for i in range(len(l)):\n",
    "    print(f\"{i} --> {l[i]}\")"
   ]
  },
  {
   "cell_type": "code",
   "execution_count": 159,
   "id": "78a08fc7-8c37-414b-850a-90110243d1d4",
   "metadata": {},
   "outputs": [
    {
     "name": "stdout",
     "output_type": "stream",
     "text": [
      "0 --> 12\n",
      "1 --> 34\n",
      "2 --> 45\n",
      "3 --> 67\n",
      "4 --> 45\n",
      "5 --> 90\n",
      "6 --> 11\n"
     ]
    }
   ],
   "source": [
    "for ind,val in enumerate(l):\n",
    "    print(f\"{ind} --> {val}\")"
   ]
  },
  {
   "cell_type": "code",
   "execution_count": 160,
   "id": "cf967b14-7b99-4c96-bdb2-2fcbe82c5f60",
   "metadata": {},
   "outputs": [
    {
     "data": {
      "text/plain": [
       "[12, 34, 45, 67, 45, 90, 11]"
      ]
     },
     "execution_count": 160,
     "metadata": {},
     "output_type": "execute_result"
    }
   ],
   "source": [
    "l"
   ]
  },
  {
   "cell_type": "code",
   "execution_count": 161,
   "id": "1f04aafd-72d8-42d2-a2c3-3fe8f3080f47",
   "metadata": {},
   "outputs": [],
   "source": [
    "l.clear()"
   ]
  },
  {
   "cell_type": "code",
   "execution_count": 162,
   "id": "ad77e80a-9746-4eec-8f11-6134d8469604",
   "metadata": {},
   "outputs": [
    {
     "data": {
      "text/plain": [
       "[]"
      ]
     },
     "execution_count": 162,
     "metadata": {},
     "output_type": "execute_result"
    }
   ],
   "source": [
    "l"
   ]
  },
  {
   "cell_type": "code",
   "execution_count": 163,
   "id": "7b5b2f64-0b1a-4010-a501-23bcd51e0087",
   "metadata": {},
   "outputs": [
    {
     "name": "stdout",
     "output_type": "stream",
     "text": [
      "Help on class list in module builtins:\n",
      "\n",
      "class list(object)\n",
      " |  list(iterable=(), /)\n",
      " |\n",
      " |  Built-in mutable sequence.\n",
      " |\n",
      " |  If no argument is given, the constructor creates a new empty list.\n",
      " |  The argument must be an iterable if specified.\n",
      " |\n",
      " |  Methods defined here:\n",
      " |\n",
      " |  __add__(self, value, /)\n",
      " |      Return self+value.\n",
      " |\n",
      " |  __contains__(self, key, /)\n",
      " |      Return bool(key in self).\n",
      " |\n",
      " |  __delitem__(self, key, /)\n",
      " |      Delete self[key].\n",
      " |\n",
      " |  __eq__(self, value, /)\n",
      " |      Return self==value.\n",
      " |\n",
      " |  __ge__(self, value, /)\n",
      " |      Return self>=value.\n",
      " |\n",
      " |  __getattribute__(self, name, /)\n",
      " |      Return getattr(self, name).\n",
      " |\n",
      " |  __getitem__(self, index, /)\n",
      " |      Return self[index].\n",
      " |\n",
      " |  __gt__(self, value, /)\n",
      " |      Return self>value.\n",
      " |\n",
      " |  __iadd__(self, value, /)\n",
      " |      Implement self+=value.\n",
      " |\n",
      " |  __imul__(self, value, /)\n",
      " |      Implement self*=value.\n",
      " |\n",
      " |  __init__(self, /, *args, **kwargs)\n",
      " |      Initialize self.  See help(type(self)) for accurate signature.\n",
      " |\n",
      " |  __iter__(self, /)\n",
      " |      Implement iter(self).\n",
      " |\n",
      " |  __le__(self, value, /)\n",
      " |      Return self<=value.\n",
      " |\n",
      " |  __len__(self, /)\n",
      " |      Return len(self).\n",
      " |\n",
      " |  __lt__(self, value, /)\n",
      " |      Return self<value.\n",
      " |\n",
      " |  __mul__(self, value, /)\n",
      " |      Return self*value.\n",
      " |\n",
      " |  __ne__(self, value, /)\n",
      " |      Return self!=value.\n",
      " |\n",
      " |  __repr__(self, /)\n",
      " |      Return repr(self).\n",
      " |\n",
      " |  __reversed__(self, /)\n",
      " |      Return a reverse iterator over the list.\n",
      " |\n",
      " |  __rmul__(self, value, /)\n",
      " |      Return value*self.\n",
      " |\n",
      " |  __setitem__(self, key, value, /)\n",
      " |      Set self[key] to value.\n",
      " |\n",
      " |  __sizeof__(self, /)\n",
      " |      Return the size of the list in memory, in bytes.\n",
      " |\n",
      " |  append(self, object, /)\n",
      " |      Append object to the end of the list.\n",
      " |\n",
      " |  clear(self, /)\n",
      " |      Remove all items from list.\n",
      " |\n",
      " |  copy(self, /)\n",
      " |      Return a shallow copy of the list.\n",
      " |\n",
      " |  count(self, value, /)\n",
      " |      Return number of occurrences of value.\n",
      " |\n",
      " |  extend(self, iterable, /)\n",
      " |      Extend list by appending elements from the iterable.\n",
      " |\n",
      " |  index(self, value, start=0, stop=9223372036854775807, /)\n",
      " |      Return first index of value.\n",
      " |\n",
      " |      Raises ValueError if the value is not present.\n",
      " |\n",
      " |  insert(self, index, object, /)\n",
      " |      Insert object before index.\n",
      " |\n",
      " |  pop(self, index=-1, /)\n",
      " |      Remove and return item at index (default last).\n",
      " |\n",
      " |      Raises IndexError if list is empty or index is out of range.\n",
      " |\n",
      " |  remove(self, value, /)\n",
      " |      Remove first occurrence of value.\n",
      " |\n",
      " |      Raises ValueError if the value is not present.\n",
      " |\n",
      " |  reverse(self, /)\n",
      " |      Reverse *IN PLACE*.\n",
      " |\n",
      " |  sort(self, /, *, key=None, reverse=False)\n",
      " |      Sort the list in ascending order and return None.\n",
      " |\n",
      " |      The sort is in-place (i.e. the list itself is modified) and stable (i.e. the\n",
      " |      order of two equal elements is maintained).\n",
      " |\n",
      " |      If a key function is given, apply it once to each list item and sort them,\n",
      " |      ascending or descending, according to their function values.\n",
      " |\n",
      " |      The reverse flag can be set to sort in descending order.\n",
      " |\n",
      " |  ----------------------------------------------------------------------\n",
      " |  Class methods defined here:\n",
      " |\n",
      " |  __class_getitem__(object, /)\n",
      " |      See PEP 585\n",
      " |\n",
      " |  ----------------------------------------------------------------------\n",
      " |  Static methods defined here:\n",
      " |\n",
      " |  __new__(*args, **kwargs)\n",
      " |      Create and return a new object.  See help(type) for accurate signature.\n",
      " |\n",
      " |  ----------------------------------------------------------------------\n",
      " |  Data and other attributes defined here:\n",
      " |\n",
      " |  __hash__ = None\n",
      "\n"
     ]
    }
   ],
   "source": [
    "help(list)"
   ]
  },
  {
   "cell_type": "markdown",
   "id": "c92fa4ca-89f2-4a00-900a-173469577144",
   "metadata": {},
   "source": [
    "# Practice Questions"
   ]
  },
  {
   "cell_type": "code",
   "execution_count": 165,
   "id": "ab7a7e4a-f3cd-4f42-b5c1-2df870ba50b0",
   "metadata": {},
   "outputs": [
    {
     "name": "stdout",
     "output_type": "stream",
     "text": [
      "[5, 10, 20, 35, 50, 60, 70]\n"
     ]
    }
   ],
   "source": [
    "#Question_1\n",
    "\n",
    "\n",
    "my_list = [10, 20, 30, 40, 50, 60]\n",
    "\n",
    "my_list[2] = 35\n",
    "my_list.append(70)\n",
    "my_list.insert(0, 5)\n",
    "my_list.remove(40)\n",
    "\n",
    "print(my_list)\n"
   ]
  },
  {
   "cell_type": "code",
   "execution_count": null,
   "id": "2d26e66e-3088-4746-845e-80e30dacffbf",
   "metadata": {},
   "outputs": [],
   "source": [
    "#Question_02"
   ]
  },
  {
   "cell_type": "code",
   "execution_count": 166,
   "id": "247d69e9-ee70-4eea-abb2-67ec1eaf009d",
   "metadata": {},
   "outputs": [
    {
     "name": "stdout",
     "output_type": "stream",
     "text": [
      "Sum of even numbers: 126\n"
     ]
    }
   ],
   "source": [
    "numbers = [12, 7, 23, 48, 15, 66, 9]\n",
    "\n",
    "even = 0\n",
    "\n",
    "for num in numbers:\n",
    "    if num % 2 == 0:  \n",
    "        even = even + num\n",
    "\n",
    "print(\"Sum of even numbers:\", even)"
   ]
  },
  {
   "cell_type": "code",
   "execution_count": 167,
   "id": "a615d6c9-77da-4fde-a497-b63ecfcc3dc1",
   "metadata": {},
   "outputs": [
    {
     "name": "stdout",
     "output_type": "stream",
     "text": [
      "Reversed list: ['elderberry', 'date', 'cherry', 'banana', 'apple']\n"
     ]
    }
   ],
   "source": [
    "#Question_03\n",
    "\n",
    "data = ['apple', 'banana', 'cherry', 'date', 'elderberry']\n",
    "reversed_data = []\n",
    "for i in range(len(data) - 1, -1, -1):\n",
    "    reversed_data.append(data[i])\n",
    "\n",
    "print(\"Reversed list:\", reversed_data)\n"
   ]
  },
  {
   "cell_type": "code",
   "execution_count": 168,
   "id": "c5205cb6-99c9-4fcb-953c-db12b29f074a",
   "metadata": {},
   "outputs": [
    {
     "name": "stdout",
     "output_type": "stream",
     "text": [
      "Maximum value: 17\n"
     ]
    }
   ],
   "source": [
    "#question_04\n",
    "\n",
    "values = [8, 2, 10, 5, 17, 3, 14]\n",
    "\n",
    "max_value = values[0]\n",
    "\n",
    "for num in values[1:]:\n",
    "    if num > max_value:\n",
    "        max_value = num\n",
    "\n",
    "print(\"Maximum value:\", max_value)\n"
   ]
  },
  {
   "cell_type": "code",
   "execution_count": 1,
   "id": "049ad84d-5a2a-4a67-9f35-e662a88cff7d",
   "metadata": {},
   "outputs": [
    {
     "name": "stdout",
     "output_type": "stream",
     "text": [
      "The number of times 'red' appears is: 3\n"
     ]
    }
   ],
   "source": [
    "#Question_05\n",
    "\n",
    "items = ['red', 'blue', 'green', 'red', 'yellow', 'blue', 'red']\n",
    "\n",
    "count = 0\n",
    "for item in items:\n",
    "    if item == 'red':\n",
    "        count += 1\n",
    "\n",
    "print(\"The number of times 'red' appears is:\", count)\n"
   ]
  },
  {
   "cell_type": "code",
   "execution_count": 2,
   "id": "ef315b03-6b5a-47cb-879e-655746947c92",
   "metadata": {},
   "outputs": [
    {
     "name": "stdout",
     "output_type": "stream",
     "text": [
      "List after removing all 5s: [1, 2, 3, 4]\n"
     ]
    }
   ],
   "source": [
    "#question_06\n",
    "\n",
    "mixed_numbers = [1, 5, 2, 5, 3, 5, 4, 5]\n",
    "\n",
    "result = []\n",
    "for num in mixed_numbers:\n",
    "    if num != 5:\n",
    "        result.append(num)\n",
    "\n",
    "print(\"List after removing all 5s:\", result)\n"
   ]
  },
  {
   "cell_type": "code",
   "execution_count": 3,
   "id": "09be20f5-983a-44e8-943f-0cb7c54c2cf7",
   "metadata": {},
   "outputs": [
    {
     "name": "stdout",
     "output_type": "stream",
     "text": [
      "list1: Palindrome\n",
      "list2: Not a Palindrome\n"
     ]
    }
   ],
   "source": [
    "#Question_07\n",
    "\n",
    "def is_palindrome(lst):\n",
    "    length = len(lst)\n",
    "    for i in range(length // 2):\n",
    "        if lst[i] != lst[length - 1 - i]:\n",
    "            return \"Not a Palindrome\"\n",
    "    return \"Palindrome\"\n",
    "\n",
    "list1 = [1, 2, 3, 2, 1]\n",
    "list2 = ['a', 'b', 'c', 'b', 'd']\n",
    "\n",
    "print(\"list1:\", is_palindrome(list1))  \n",
    "print(\"list2:\", is_palindrome(list2))  "
   ]
  },
  {
   "cell_type": "code",
   "execution_count": 4,
   "id": "8c691258-e472-4f42-b2c6-73a27c678d0f",
   "metadata": {},
   "outputs": [
    {
     "name": "stdout",
     "output_type": "stream",
     "text": [
      "Sorted merged list: [0, 1, 2, 3, 4, 5]\n"
     ]
    }
   ],
   "source": [
    "#Question_08\n",
    "\n",
    "list_a = [3, 1, 4]\n",
    "list_b = [2, 5, 0]\n",
    "combined = list_a + list_b\n",
    "\n",
    "n = len(combined)\n",
    "for i in range(n):\n",
    "    for j in range(0, n - i - 1):\n",
    "        if combined[j] > combined[j + 1]:\n",
    "            combined[j], combined[j + 1] = combined[j + 1], combined[j]\n",
    "\n",
    "print(\"Sorted merged list:\", combined)\n"
   ]
  },
  {
   "cell_type": "code",
   "execution_count": 5,
   "id": "03d0d298-3f8f-47c9-9371-250c6be7b21f",
   "metadata": {},
   "outputs": [
    {
     "name": "stdout",
     "output_type": "stream",
     "text": [
      "Flattened list: [1, 2, 3, 4, 5, 6, 7, 8]\n"
     ]
    }
   ],
   "source": [
    "#Quesion_09\n",
    "\n",
    "nested_list = [1, [2, 3], 4, [5, 6, 7], 8]\n",
    "flat_list = []\n",
    "\n",
    "for item in nested_list:\n",
    "    if isinstance(item, list):\n",
    "        for num in item:\n",
    "            flat_list.append(num)\n",
    "    else:\n",
    "        flat_list.append(item)\n",
    "\n",
    "print(\"Flattened list:\", flat_list)\n"
   ]
  },
  {
   "cell_type": "code",
   "execution_count": 6,
   "id": "b671a644-889a-41a9-adfe-84baa2c593d3",
   "metadata": {},
   "outputs": [
    {
     "name": "stdout",
     "output_type": "stream",
     "text": [
      "Common elements: [4, 5]\n"
     ]
    }
   ],
   "source": [
    "#Question_10\n",
    "\n",
    "list_p = [1, 2, 3, 4, 5]\n",
    "list_q = [4, 5, 6, 7, 8]\n",
    "\n",
    "common = []\n",
    "for item in list_p:\n",
    "    if item in list_q:\n",
    "        common.append(item)\n",
    "\n",
    "print(\"Common elements:\", common)\n"
   ]
  },
  {
   "cell_type": "code",
   "execution_count": null,
   "id": "d1d60f41-4579-4424-b0cd-8d538f7ae1d4",
   "metadata": {},
   "outputs": [],
   "source": []
  }
 ],
 "metadata": {
  "kernelspec": {
   "display_name": "Python [conda env:base] *",
   "language": "python",
   "name": "conda-base-py"
  },
  "language_info": {
   "codemirror_mode": {
    "name": "ipython",
    "version": 3
   },
   "file_extension": ".py",
   "mimetype": "text/x-python",
   "name": "python",
   "nbconvert_exporter": "python",
   "pygments_lexer": "ipython3",
   "version": "3.12.7"
  }
 },
 "nbformat": 4,
 "nbformat_minor": 5
}
