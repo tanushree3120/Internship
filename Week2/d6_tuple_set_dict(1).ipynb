{
 "cells": [
  {
   "cell_type": "code",
   "execution_count": 1,
   "id": "4bcab345-848b-4240-8781-da084fc165ae",
   "metadata": {},
   "outputs": [],
   "source": [
    "#tuple"
   ]
  },
  {
   "cell_type": "code",
   "execution_count": 2,
   "id": "b0302305-5f72-447b-87c6-20e341025ca2",
   "metadata": {},
   "outputs": [],
   "source": [
    "t = (23, 45, 67, 68, 30)"
   ]
  },
  {
   "cell_type": "code",
   "execution_count": 3,
   "id": "65a9584e-f782-49ec-8951-88332a53c8cd",
   "metadata": {},
   "outputs": [
    {
     "data": {
      "text/plain": [
       "(23, 45, 67, 68, 30)"
      ]
     },
     "execution_count": 3,
     "metadata": {},
     "output_type": "execute_result"
    }
   ],
   "source": [
    "t"
   ]
  },
  {
   "cell_type": "code",
   "execution_count": 4,
   "id": "721a7985-8fe4-4d3b-b3d9-55f965d45955",
   "metadata": {},
   "outputs": [
    {
     "data": {
      "text/plain": [
       "tuple"
      ]
     },
     "execution_count": 4,
     "metadata": {},
     "output_type": "execute_result"
    }
   ],
   "source": [
    "type(t)"
   ]
  },
  {
   "cell_type": "code",
   "execution_count": 9,
   "id": "e2b2d67b-122b-431b-a65b-19b02f4e9c70",
   "metadata": {},
   "outputs": [],
   "source": [
    "t1 = (12, 34.55, \"pune\", 12)  #hetrogeneous,duplicates are allowed,ordered, immutable"
   ]
  },
  {
   "cell_type": "code",
   "execution_count": 10,
   "id": "2e277613-cde1-4f09-b89a-4c27396185f3",
   "metadata": {},
   "outputs": [
    {
     "data": {
      "text/plain": [
       "(12, 34.55, 'pune', 12)"
      ]
     },
     "execution_count": 10,
     "metadata": {},
     "output_type": "execute_result"
    }
   ],
   "source": [
    "t1"
   ]
  },
  {
   "cell_type": "code",
   "execution_count": 11,
   "id": "faca30e0-10ac-4872-b69e-8dd10309766b",
   "metadata": {},
   "outputs": [
    {
     "data": {
      "text/plain": [
       "34.55"
      ]
     },
     "execution_count": 11,
     "metadata": {},
     "output_type": "execute_result"
    }
   ],
   "source": [
    "t1[1]"
   ]
  },
  {
   "cell_type": "code",
   "execution_count": 12,
   "id": "5b8030f4-ff0d-43e9-8354-b2c0bc1429eb",
   "metadata": {},
   "outputs": [
    {
     "ename": "TypeError",
     "evalue": "'tuple' object does not support item assignment",
     "output_type": "error",
     "traceback": [
      "\u001b[1;31m---------------------------------------------------------------------------\u001b[0m",
      "\u001b[1;31mTypeError\u001b[0m                                 Traceback (most recent call last)",
      "Cell \u001b[1;32mIn[12], line 1\u001b[0m\n\u001b[1;32m----> 1\u001b[0m \u001b[43mt1\u001b[49m\u001b[43m[\u001b[49m\u001b[38;5;241;43m1\u001b[39;49m\u001b[43m]\u001b[49m \u001b[38;5;241m=\u001b[39m \u001b[38;5;241m45\u001b[39m\n",
      "\u001b[1;31mTypeError\u001b[0m: 'tuple' object does not support item assignment"
     ]
    }
   ],
   "source": [
    "t1[1] = 45      # immutable"
   ]
  },
  {
   "cell_type": "code",
   "execution_count": 13,
   "id": "6048ed7c-5e97-46b7-80fe-6255ccae3699",
   "metadata": {},
   "outputs": [],
   "source": [
    "t = 34, 56, 78"
   ]
  },
  {
   "cell_type": "code",
   "execution_count": 14,
   "id": "84ee42cc-a25a-4a96-a3b1-1c77ee85b679",
   "metadata": {},
   "outputs": [
    {
     "data": {
      "text/plain": [
       "(34, 56, 78)"
      ]
     },
     "execution_count": 14,
     "metadata": {},
     "output_type": "execute_result"
    }
   ],
   "source": [
    "t"
   ]
  },
  {
   "cell_type": "code",
   "execution_count": 15,
   "id": "dd37921c-1bdf-47ff-9c50-ee7b41dee732",
   "metadata": {},
   "outputs": [
    {
     "data": {
      "text/plain": [
       "tuple"
      ]
     },
     "execution_count": 15,
     "metadata": {},
     "output_type": "execute_result"
    }
   ],
   "source": [
    "type(t)"
   ]
  },
  {
   "cell_type": "code",
   "execution_count": 16,
   "id": "624451c0-c4a4-4d4a-93df-e919eda5e231",
   "metadata": {},
   "outputs": [],
   "source": [
    "t2= (3,)"
   ]
  },
  {
   "cell_type": "code",
   "execution_count": 17,
   "id": "ac6c5635-4220-4f90-9fd5-f8820cfce0ce",
   "metadata": {},
   "outputs": [
    {
     "data": {
      "text/plain": [
       "(3,)"
      ]
     },
     "execution_count": 17,
     "metadata": {},
     "output_type": "execute_result"
    }
   ],
   "source": [
    "t2"
   ]
  },
  {
   "cell_type": "code",
   "execution_count": 18,
   "id": "dc41c26e-e261-41c5-b479-4afc97a94dfd",
   "metadata": {},
   "outputs": [
    {
     "data": {
      "text/plain": [
       "int"
      ]
     },
     "execution_count": 18,
     "metadata": {},
     "output_type": "execute_result"
    }
   ],
   "source": [
    "type(2)"
   ]
  },
  {
   "cell_type": "code",
   "execution_count": 19,
   "id": "2dc0a364-910a-40b8-84a8-46e1d06cc4ee",
   "metadata": {},
   "outputs": [],
   "source": [
    "t3 = 4,"
   ]
  },
  {
   "cell_type": "code",
   "execution_count": 20,
   "id": "89d9f887-2b7a-45bb-8560-6a8367fbaa6c",
   "metadata": {},
   "outputs": [
    {
     "data": {
      "text/plain": [
       "(4,)"
      ]
     },
     "execution_count": 20,
     "metadata": {},
     "output_type": "execute_result"
    }
   ],
   "source": [
    "t3"
   ]
  },
  {
   "cell_type": "code",
   "execution_count": 21,
   "id": "523f86ad-306b-47d7-b88c-b95b91853b30",
   "metadata": {},
   "outputs": [
    {
     "data": {
      "text/plain": [
       "tuple"
      ]
     },
     "execution_count": 21,
     "metadata": {},
     "output_type": "execute_result"
    }
   ],
   "source": [
    "type(t3)"
   ]
  },
  {
   "cell_type": "code",
   "execution_count": 22,
   "id": "544b1bbc-fe6c-4782-9f5b-bba5bd3bee42",
   "metadata": {},
   "outputs": [],
   "source": [
    "t = ()"
   ]
  },
  {
   "cell_type": "code",
   "execution_count": 23,
   "id": "fc304916-2fff-4529-a74b-f901e6cb1ec9",
   "metadata": {},
   "outputs": [
    {
     "data": {
      "text/plain": [
       "()"
      ]
     },
     "execution_count": 23,
     "metadata": {},
     "output_type": "execute_result"
    }
   ],
   "source": [
    "t"
   ]
  },
  {
   "cell_type": "code",
   "execution_count": 24,
   "id": "f4becdc0-7627-4c96-8054-8cafac35c605",
   "metadata": {},
   "outputs": [],
   "source": [
    "t = (45, 67, 34, 90, 12)"
   ]
  },
  {
   "cell_type": "code",
   "execution_count": 25,
   "id": "523f70ff-862f-4979-b738-06217910c0ac",
   "metadata": {},
   "outputs": [
    {
     "data": {
      "text/plain": [
       "(67, 34, 90)"
      ]
     },
     "execution_count": 25,
     "metadata": {},
     "output_type": "execute_result"
    }
   ],
   "source": [
    "t[1:4]"
   ]
  },
  {
   "cell_type": "code",
   "execution_count": 26,
   "id": "435b51b2-48ed-4bd7-80bb-28070ab6dd4c",
   "metadata": {},
   "outputs": [],
   "source": [
    "t1 = (12, 45,[56, 89], 70)"
   ]
  },
  {
   "cell_type": "code",
   "execution_count": 27,
   "id": "b83f39df-c6da-4857-8f13-f389e21de56f",
   "metadata": {},
   "outputs": [
    {
     "data": {
      "text/plain": [
       "(12, 45, [56, 89], 70)"
      ]
     },
     "execution_count": 27,
     "metadata": {},
     "output_type": "execute_result"
    }
   ],
   "source": [
    "t1"
   ]
  },
  {
   "cell_type": "code",
   "execution_count": 30,
   "id": "593cce68-8c1e-476b-a799-4a02dc3eb405",
   "metadata": {},
   "outputs": [],
   "source": [
    "t1[2][0] = 45"
   ]
  },
  {
   "cell_type": "code",
   "execution_count": 31,
   "id": "5aaff56b-1215-4745-b66b-515d1d7faa1b",
   "metadata": {},
   "outputs": [
    {
     "data": {
      "text/plain": [
       "(12, 45, [45, 89], 70)"
      ]
     },
     "execution_count": 31,
     "metadata": {},
     "output_type": "execute_result"
    }
   ],
   "source": [
    "t1"
   ]
  },
  {
   "cell_type": "code",
   "execution_count": 32,
   "id": "8ee280b0-aa41-444b-a8e0-427af7a87635",
   "metadata": {},
   "outputs": [
    {
     "ename": "TypeError",
     "evalue": "'tuple' object does not support item assignment",
     "output_type": "error",
     "traceback": [
      "\u001b[1;31m---------------------------------------------------------------------------\u001b[0m",
      "\u001b[1;31mTypeError\u001b[0m                                 Traceback (most recent call last)",
      "Cell \u001b[1;32mIn[32], line 1\u001b[0m\n\u001b[1;32m----> 1\u001b[0m \u001b[43mt1\u001b[49m\u001b[43m[\u001b[49m\u001b[38;5;241;43m0\u001b[39;49m\u001b[43m]\u001b[49m \u001b[38;5;241m=\u001b[39m [\u001b[38;5;241m24\u001b[39m, \u001b[38;5;241m56\u001b[39m]\n",
      "\u001b[1;31mTypeError\u001b[0m: 'tuple' object does not support item assignment"
     ]
    }
   ],
   "source": [
    "t1[0] = [24, 56]"
   ]
  },
  {
   "cell_type": "code",
   "execution_count": 33,
   "id": "13992df5-4e4a-45c8-a3b2-47d383c6ff4a",
   "metadata": {},
   "outputs": [],
   "source": [
    "t1 = list(t1)"
   ]
  },
  {
   "cell_type": "code",
   "execution_count": 34,
   "id": "5581bad4-9948-4821-9df0-0ba308cfefbd",
   "metadata": {},
   "outputs": [],
   "source": [
    "t1[0] = 1000"
   ]
  },
  {
   "cell_type": "code",
   "execution_count": 35,
   "id": "b5c91ce4-db57-4d0d-8474-52efd0052b90",
   "metadata": {},
   "outputs": [
    {
     "data": {
      "text/plain": [
       "[1000, 45, [45, 89], 70]"
      ]
     },
     "execution_count": 35,
     "metadata": {},
     "output_type": "execute_result"
    }
   ],
   "source": [
    "t1"
   ]
  },
  {
   "cell_type": "code",
   "execution_count": 36,
   "id": "cdd0064b-3c7f-4062-b861-a4772514e2d6",
   "metadata": {},
   "outputs": [
    {
     "data": {
      "text/plain": [
       "(1000, 45, [45, 89], 70)"
      ]
     },
     "execution_count": 36,
     "metadata": {},
     "output_type": "execute_result"
    }
   ],
   "source": [
    "tuple(t1)"
   ]
  },
  {
   "cell_type": "code",
   "execution_count": 44,
   "id": "3dd666f2-b6d2-4835-aaff-4796dffd7ac9",
   "metadata": {},
   "outputs": [],
   "source": [
    "t1 = tuple(t1[2])"
   ]
  },
  {
   "cell_type": "code",
   "execution_count": 45,
   "id": "4c5fb18f-d6d0-433d-a7f3-6b549ab1c7e0",
   "metadata": {},
   "outputs": [
    {
     "data": {
      "text/plain": [
       "(1000, 45, [1000, 45, [[1000, 45, [...], 70], 89], 70], 70)"
      ]
     },
     "execution_count": 45,
     "metadata": {},
     "output_type": "execute_result"
    }
   ],
   "source": [
    "t1"
   ]
  },
  {
   "cell_type": "code",
   "execution_count": 46,
   "id": "22d32789-5100-4307-85db-bb3edac087f4",
   "metadata": {},
   "outputs": [
    {
     "data": {
      "text/plain": [
       "(45, 67, 34, 90, 12)"
      ]
     },
     "execution_count": 46,
     "metadata": {},
     "output_type": "execute_result"
    }
   ],
   "source": [
    "t"
   ]
  },
  {
   "cell_type": "code",
   "execution_count": 47,
   "id": "3ae92f8e-88aa-474e-a9dc-15ad0840b6d0",
   "metadata": {},
   "outputs": [
    {
     "data": {
      "text/plain": [
       "5"
      ]
     },
     "execution_count": 47,
     "metadata": {},
     "output_type": "execute_result"
    }
   ],
   "source": [
    "len(t)"
   ]
  },
  {
   "cell_type": "code",
   "execution_count": 48,
   "id": "663fd870-0ea1-444c-908f-410f5eec737b",
   "metadata": {},
   "outputs": [
    {
     "name": "stdout",
     "output_type": "stream",
     "text": [
      "Help on class tuple in module builtins:\n",
      "\n",
      "class tuple(object)\n",
      " |  tuple(iterable=(), /)\n",
      " |\n",
      " |  Built-in immutable sequence.\n",
      " |\n",
      " |  If no argument is given, the constructor returns an empty tuple.\n",
      " |  If iterable is specified the tuple is initialized from iterable's items.\n",
      " |\n",
      " |  If the argument is a tuple, the return value is the same object.\n",
      " |\n",
      " |  Built-in subclasses:\n",
      " |      asyncgen_hooks\n",
      " |      UnraisableHookArgs\n",
      " |\n",
      " |  Methods defined here:\n",
      " |\n",
      " |  __add__(self, value, /)\n",
      " |      Return self+value.\n",
      " |\n",
      " |  __contains__(self, key, /)\n",
      " |      Return bool(key in self).\n",
      " |\n",
      " |  __eq__(self, value, /)\n",
      " |      Return self==value.\n",
      " |\n",
      " |  __ge__(self, value, /)\n",
      " |      Return self>=value.\n",
      " |\n",
      " |  __getattribute__(self, name, /)\n",
      " |      Return getattr(self, name).\n",
      " |\n",
      " |  __getitem__(self, key, /)\n",
      " |      Return self[key].\n",
      " |\n",
      " |  __getnewargs__(self, /)\n",
      " |\n",
      " |  __gt__(self, value, /)\n",
      " |      Return self>value.\n",
      " |\n",
      " |  __hash__(self, /)\n",
      " |      Return hash(self).\n",
      " |\n",
      " |  __iter__(self, /)\n",
      " |      Implement iter(self).\n",
      " |\n",
      " |  __le__(self, value, /)\n",
      " |      Return self<=value.\n",
      " |\n",
      " |  __len__(self, /)\n",
      " |      Return len(self).\n",
      " |\n",
      " |  __lt__(self, value, /)\n",
      " |      Return self<value.\n",
      " |\n",
      " |  __mul__(self, value, /)\n",
      " |      Return self*value.\n",
      " |\n",
      " |  __ne__(self, value, /)\n",
      " |      Return self!=value.\n",
      " |\n",
      " |  __repr__(self, /)\n",
      " |      Return repr(self).\n",
      " |\n",
      " |  __rmul__(self, value, /)\n",
      " |      Return value*self.\n",
      " |\n",
      " |  count(self, value, /)\n",
      " |      Return number of occurrences of value.\n",
      " |\n",
      " |  index(self, value, start=0, stop=9223372036854775807, /)\n",
      " |      Return first index of value.\n",
      " |\n",
      " |      Raises ValueError if the value is not present.\n",
      " |\n",
      " |  ----------------------------------------------------------------------\n",
      " |  Class methods defined here:\n",
      " |\n",
      " |  __class_getitem__(object, /)\n",
      " |      See PEP 585\n",
      " |\n",
      " |  ----------------------------------------------------------------------\n",
      " |  Static methods defined here:\n",
      " |\n",
      " |  __new__(*args, **kwargs)\n",
      " |      Create and return a new object.  See help(type) for accurate signature.\n",
      "\n"
     ]
    }
   ],
   "source": [
    "help(tuple)"
   ]
  },
  {
   "cell_type": "markdown",
   "id": "d24a5054-3079-4619-8f12-73a667929002",
   "metadata": {},
   "source": [
    "sets"
   ]
  },
  {
   "cell_type": "code",
   "execution_count": 60,
   "id": "e5d03016-71e4-4bb6-b607-b3bce636e1b9",
   "metadata": {},
   "outputs": [],
   "source": [
    "s1 = {2, 3, 45, 56.34 , 60 , \"pune\", 2}  #hetrogeneous,unordered,mutable,duplicates not allowed"
   ]
  },
  {
   "cell_type": "code",
   "execution_count": 61,
   "id": "273416b7-623f-4b2c-973d-e40ac5ed50eb",
   "metadata": {},
   "outputs": [
    {
     "data": {
      "text/plain": [
       "{2, 3, 45, 56.34, 60, 'pune'}"
      ]
     },
     "execution_count": 61,
     "metadata": {},
     "output_type": "execute_result"
    }
   ],
   "source": [
    "s1"
   ]
  },
  {
   "cell_type": "code",
   "execution_count": 62,
   "id": "f1374215-35af-44e9-8fa0-4a35a1de89b4",
   "metadata": {},
   "outputs": [
    {
     "data": {
      "text/plain": [
       "set"
      ]
     },
     "execution_count": 62,
     "metadata": {},
     "output_type": "execute_result"
    }
   ],
   "source": [
    "type(s1)"
   ]
  },
  {
   "cell_type": "code",
   "execution_count": 63,
   "id": "3104c0d3-16cb-4f89-8194-ea8db73aa634",
   "metadata": {},
   "outputs": [
    {
     "ename": "TypeError",
     "evalue": "'set' object is not subscriptable",
     "output_type": "error",
     "traceback": [
      "\u001b[1;31m---------------------------------------------------------------------------\u001b[0m",
      "\u001b[1;31mTypeError\u001b[0m                                 Traceback (most recent call last)",
      "Cell \u001b[1;32mIn[63], line 1\u001b[0m\n\u001b[1;32m----> 1\u001b[0m \u001b[43ms1\u001b[49m\u001b[43m[\u001b[49m\u001b[38;5;241;43m2\u001b[39;49m\u001b[43m]\u001b[49m\n",
      "\u001b[1;31mTypeError\u001b[0m: 'set' object is not subscriptable"
     ]
    }
   ],
   "source": [
    "s1[2]"
   ]
  },
  {
   "cell_type": "code",
   "execution_count": 64,
   "id": "a076c4b7-80ea-4700-bab2-ad9068e6a880",
   "metadata": {},
   "outputs": [],
   "source": [
    "s = {}"
   ]
  },
  {
   "cell_type": "code",
   "execution_count": 65,
   "id": "39863a60-f311-4ca1-a00d-1bf82080026d",
   "metadata": {},
   "outputs": [
    {
     "data": {
      "text/plain": [
       "{}"
      ]
     },
     "execution_count": 65,
     "metadata": {},
     "output_type": "execute_result"
    }
   ],
   "source": [
    "s"
   ]
  },
  {
   "cell_type": "code",
   "execution_count": 66,
   "id": "c794575d-f20f-47d4-aa29-c519ff3b7c6e",
   "metadata": {},
   "outputs": [
    {
     "data": {
      "text/plain": [
       "dict"
      ]
     },
     "execution_count": 66,
     "metadata": {},
     "output_type": "execute_result"
    }
   ],
   "source": [
    "type(s)"
   ]
  },
  {
   "cell_type": "code",
   "execution_count": 67,
   "id": "bf5cbaf1-aa36-428a-a5ff-0c357ffb9bb7",
   "metadata": {},
   "outputs": [],
   "source": [
    "#empty set\n",
    "\n",
    "s = set()"
   ]
  },
  {
   "cell_type": "code",
   "execution_count": 68,
   "id": "d3d46418-25ed-41fa-8192-74c3fa99e273",
   "metadata": {},
   "outputs": [
    {
     "data": {
      "text/plain": [
       "set"
      ]
     },
     "execution_count": 68,
     "metadata": {},
     "output_type": "execute_result"
    }
   ],
   "source": [
    "type(s)"
   ]
  },
  {
   "cell_type": "code",
   "execution_count": 69,
   "id": "c83ee662-90c5-469f-bf22-36118e05984c",
   "metadata": {},
   "outputs": [],
   "source": [
    "#  adding N ELEMENT"
   ]
  },
  {
   "cell_type": "code",
   "execution_count": 73,
   "id": "772e50c2-8297-40cd-9305-71559b903c92",
   "metadata": {},
   "outputs": [],
   "source": [
    "s1.add(4)"
   ]
  },
  {
   "cell_type": "code",
   "execution_count": 74,
   "id": "bbe126d4-15c7-4fe5-a5b8-180acbc7686c",
   "metadata": {},
   "outputs": [
    {
     "data": {
      "text/plain": [
       "{2, 3, 4, 45, 56.34, 60, 'pune'}"
      ]
     },
     "execution_count": 74,
     "metadata": {},
     "output_type": "execute_result"
    }
   ],
   "source": [
    "s1"
   ]
  },
  {
   "cell_type": "code",
   "execution_count": 76,
   "id": "8ff8369d-792e-49b6-9970-0748afa281a7",
   "metadata": {},
   "outputs": [],
   "source": [
    "s1.add(2)"
   ]
  },
  {
   "cell_type": "code",
   "execution_count": 77,
   "id": "045b2248-9d15-4be5-9943-23e33fee97dc",
   "metadata": {},
   "outputs": [
    {
     "data": {
      "text/plain": [
       "{2, 3, 4, 45, 56.34, 60, 'pune'}"
      ]
     },
     "execution_count": 77,
     "metadata": {},
     "output_type": "execute_result"
    }
   ],
   "source": [
    "s1"
   ]
  },
  {
   "cell_type": "code",
   "execution_count": 91,
   "id": "4205f471-37f4-46da-ac03-efb19583e3b8",
   "metadata": {},
   "outputs": [],
   "source": [
    "s1.remove(4)"
   ]
  },
  {
   "cell_type": "code",
   "execution_count": 92,
   "id": "8d0e1cc2-b381-4c6b-90f7-e5ed8bf5cc49",
   "metadata": {},
   "outputs": [
    {
     "data": {
      "text/plain": [
       "{45, 56.34, 60, 'pune'}"
      ]
     },
     "execution_count": 92,
     "metadata": {},
     "output_type": "execute_result"
    }
   ],
   "source": [
    "s1"
   ]
  },
  {
   "cell_type": "code",
   "execution_count": 93,
   "id": "2703deae-d9de-4e48-822e-728aef335d0f",
   "metadata": {},
   "outputs": [],
   "source": [
    "s1.discard(5)"
   ]
  },
  {
   "cell_type": "code",
   "execution_count": 94,
   "id": "fbd158c3-6116-4090-99c2-e42eb0f6e597",
   "metadata": {},
   "outputs": [
    {
     "data": {
      "text/plain": [
       "{45, 56.34, 60, 'pune'}"
      ]
     },
     "execution_count": 94,
     "metadata": {},
     "output_type": "execute_result"
    }
   ],
   "source": [
    "s1"
   ]
  },
  {
   "cell_type": "code",
   "execution_count": 95,
   "id": "5413ea6b-16b8-4b6b-a6cd-445d8071b198",
   "metadata": {},
   "outputs": [],
   "source": [
    "s1 = {1, 2, 3, 4}\n",
    "s2 = {3, 4, 5, 6}"
   ]
  },
  {
   "cell_type": "code",
   "execution_count": 96,
   "id": "386c48ac-69d3-4eb0-8c3e-dda63ab302f0",
   "metadata": {},
   "outputs": [
    {
     "data": {
      "text/plain": [
       "{1, 2, 3, 4, 5, 6}"
      ]
     },
     "execution_count": 96,
     "metadata": {},
     "output_type": "execute_result"
    }
   ],
   "source": [
    "s1.union(s2)"
   ]
  },
  {
   "cell_type": "code",
   "execution_count": 97,
   "id": "d2ee83e0-7748-4ab9-8274-94001c459e73",
   "metadata": {},
   "outputs": [
    {
     "data": {
      "text/plain": [
       "{1, 2, 3, 4, 5, 6}"
      ]
     },
     "execution_count": 97,
     "metadata": {},
     "output_type": "execute_result"
    }
   ],
   "source": [
    "s1 | s2"
   ]
  },
  {
   "cell_type": "code",
   "execution_count": 98,
   "id": "a7e67d00-e0ae-4d24-a8b3-2d6fb689a504",
   "metadata": {},
   "outputs": [
    {
     "data": {
      "text/plain": [
       "{3, 4}"
      ]
     },
     "execution_count": 98,
     "metadata": {},
     "output_type": "execute_result"
    }
   ],
   "source": [
    "s1.intersection(s2)"
   ]
  },
  {
   "cell_type": "code",
   "execution_count": 99,
   "id": "fadc54d6-0e22-409b-bd6d-c3936efc112c",
   "metadata": {},
   "outputs": [
    {
     "data": {
      "text/plain": [
       "{1, 2}"
      ]
     },
     "execution_count": 99,
     "metadata": {},
     "output_type": "execute_result"
    }
   ],
   "source": [
    "s1.difference(s2)"
   ]
  },
  {
   "cell_type": "code",
   "execution_count": 102,
   "id": "bc191413-c152-4a9c-bce0-6626f5f2bf5e",
   "metadata": {},
   "outputs": [
    {
     "data": {
      "text/plain": [
       "{1, 2, 5, 6}"
      ]
     },
     "execution_count": 102,
     "metadata": {},
     "output_type": "execute_result"
    }
   ],
   "source": [
    "s1.symmetric_difference(s2)"
   ]
  },
  {
   "cell_type": "markdown",
   "id": "bcb21ef4-7815-4d7f-ba9d-e2bd3c4039e5",
   "metadata": {},
   "source": [
    "dictionary"
   ]
  },
  {
   "cell_type": "code",
   "execution_count": 103,
   "id": "016c0917-87bd-453d-a019-881228f19091",
   "metadata": {},
   "outputs": [],
   "source": [
    "s1 = {1, 2, 3, 4, 5}\n",
    "s2 = {1, 2, 3}\n",
    "s3 = {1, 6, 8}"
   ]
  },
  {
   "cell_type": "code",
   "execution_count": 106,
   "id": "b1be640a-5c22-460b-af80-2684f7e3826a",
   "metadata": {},
   "outputs": [
    {
     "data": {
      "text/plain": [
       "True"
      ]
     },
     "execution_count": 106,
     "metadata": {},
     "output_type": "execute_result"
    }
   ],
   "source": [
    "s2.issubset(s1)"
   ]
  },
  {
   "cell_type": "code",
   "execution_count": 107,
   "id": "7db70fe6-a635-48ae-bb92-62eb9e44059e",
   "metadata": {},
   "outputs": [
    {
     "data": {
      "text/plain": [
       "True"
      ]
     },
     "execution_count": 107,
     "metadata": {},
     "output_type": "execute_result"
    }
   ],
   "source": [
    "s1.issuperset(s2)"
   ]
  },
  {
   "cell_type": "code",
   "execution_count": 108,
   "id": "a8208b82-ac9d-4e8d-9d0e-6fdc1d57fc30",
   "metadata": {},
   "outputs": [
    {
     "data": {
      "text/plain": [
       "False"
      ]
     },
     "execution_count": 108,
     "metadata": {},
     "output_type": "execute_result"
    }
   ],
   "source": [
    "s3.issubset(s1)"
   ]
  },
  {
   "cell_type": "code",
   "execution_count": 109,
   "id": "2fb6bd6f-519c-464a-b840-8429c82d6f5c",
   "metadata": {},
   "outputs": [
    {
     "data": {
      "text/plain": [
       "False"
      ]
     },
     "execution_count": 109,
     "metadata": {},
     "output_type": "execute_result"
    }
   ],
   "source": [
    "s3.issubset(s2)"
   ]
  },
  {
   "cell_type": "code",
   "execution_count": 110,
   "id": "35c8f9cf-b06b-4d0b-a4fb-7451dd68eace",
   "metadata": {},
   "outputs": [
    {
     "data": {
      "text/plain": [
       "True"
      ]
     },
     "execution_count": 110,
     "metadata": {},
     "output_type": "execute_result"
    }
   ],
   "source": [
    "3 in s1"
   ]
  },
  {
   "cell_type": "code",
   "execution_count": null,
   "id": "ba32c10d-c818-4abc-aa3d-ac6be730d043",
   "metadata": {},
   "outputs": [],
   "source": []
  },
  {
   "cell_type": "code",
   "execution_count": 111,
   "id": "136b3d8b-1d6f-4150-a8f3-e48ec705c0d5",
   "metadata": {},
   "outputs": [],
   "source": [
    "d = {1: \"Ajay\", 2 : \"sia\", 3 : \"palak\",4 : \"siddhi\"}"
   ]
  },
  {
   "cell_type": "code",
   "execution_count": 112,
   "id": "00b317aa-5d58-4c25-8550-64734e86dba1",
   "metadata": {},
   "outputs": [
    {
     "data": {
      "text/plain": [
       "{1: 'Ajay', 2: 'sia', 3: 'palak', 4: 'siddhi'}"
      ]
     },
     "execution_count": 112,
     "metadata": {},
     "output_type": "execute_result"
    }
   ],
   "source": [
    "d"
   ]
  },
  {
   "cell_type": "code",
   "execution_count": 115,
   "id": "5aa50614-c140-4ced-99d1-d86d9846ea56",
   "metadata": {},
   "outputs": [
    {
     "data": {
      "text/plain": [
       "'siddhi'"
      ]
     },
     "execution_count": 115,
     "metadata": {},
     "output_type": "execute_result"
    }
   ],
   "source": [
    "d[4]"
   ]
  },
  {
   "cell_type": "code",
   "execution_count": 116,
   "id": "7c51bb9b-738f-4381-8193-cdd15a481fb6",
   "metadata": {},
   "outputs": [],
   "source": [
    "#keys are unique values can be duplicate\n",
    "\n",
    "d = {1: \"Ajay\", 2 : \"sia\", 3 : \"palak\",4 : \"siddhi\", 21 : \"sia\",}\n"
   ]
  },
  {
   "cell_type": "code",
   "execution_count": 117,
   "id": "92187d83-d72b-4226-8413-5a0ec190c0b6",
   "metadata": {},
   "outputs": [
    {
     "data": {
      "text/plain": [
       "{1: 'Ajay', 2: 'sia', 3: 'palak', 4: 'siddhi', 21: 'sia'}"
      ]
     },
     "execution_count": 117,
     "metadata": {},
     "output_type": "execute_result"
    }
   ],
   "source": [
    "d"
   ]
  },
  {
   "cell_type": "code",
   "execution_count": 119,
   "id": "be7b36e8-b88a-4158-af6e-75e78f7b47ec",
   "metadata": {},
   "outputs": [],
   "source": [
    "d = {1: \"Ajay\", 2 : \"sia\", 3 : \"palak\",4 : \"siddhi\", 21 : \"sia\",22 :34.56}\n"
   ]
  },
  {
   "cell_type": "code",
   "execution_count": 120,
   "id": "025ef853-4471-437e-9a27-9e49e1813f2f",
   "metadata": {},
   "outputs": [
    {
     "data": {
      "text/plain": [
       "{1: 'Ajay', 2: 'sia', 3: 'palak', 4: 'siddhi', 21: 'sia', 222: 34.56}"
      ]
     },
     "execution_count": 120,
     "metadata": {},
     "output_type": "execute_result"
    }
   ],
   "source": [
    "d"
   ]
  },
  {
   "cell_type": "code",
   "execution_count": 126,
   "id": "8af18945-663a-4a9a-884a-7be3f8cdb907",
   "metadata": {},
   "outputs": [],
   "source": [
    "# they are hetrogeneous\n",
    "#muttable\n"
   ]
  },
  {
   "cell_type": "code",
   "execution_count": 122,
   "id": "4d0c7b6f-5195-4c86-8a9f-e331f782f581",
   "metadata": {},
   "outputs": [],
   "source": [
    "d = {1: \"Ajay\", 2 : \"sia\", 3 : \"palak\",4 : \"siddhi\", 21 : \"sia\",22 :34.56 , \"ray\" : 45}\n"
   ]
  },
  {
   "cell_type": "code",
   "execution_count": 123,
   "id": "e4884067-19dd-4ece-90aa-63a6930efdf1",
   "metadata": {},
   "outputs": [
    {
     "data": {
      "text/plain": [
       "{1: 'Ajay', 2: 'sia', 3: 'palak', 4: 'siddhi', 21: 'sia', 22: 34.56, 'ray': 45}"
      ]
     },
     "execution_count": 123,
     "metadata": {},
     "output_type": "execute_result"
    }
   ],
   "source": [
    "d"
   ]
  },
  {
   "cell_type": "code",
   "execution_count": 124,
   "id": "12bcf010-57c6-47f9-beac-77ebb3142776",
   "metadata": {},
   "outputs": [],
   "source": [
    "d[3] = \"raj\""
   ]
  },
  {
   "cell_type": "code",
   "execution_count": 125,
   "id": "d55b789f-5804-4d04-b9e4-6b54523df23f",
   "metadata": {},
   "outputs": [
    {
     "data": {
      "text/plain": [
       "{1: 'Ajay', 2: 'sia', 3: 'raj', 4: 'siddhi', 21: 'sia', 22: 34.56, 'ray': 45}"
      ]
     },
     "execution_count": 125,
     "metadata": {},
     "output_type": "execute_result"
    }
   ],
   "source": [
    "d"
   ]
  },
  {
   "cell_type": "code",
   "execution_count": 127,
   "id": "602851e4-2c04-4ab2-9766-8fd5cb088e6b",
   "metadata": {},
   "outputs": [
    {
     "data": {
      "text/plain": [
       "dict_keys([1, 2, 3, 4, 21, 22, 'ray'])"
      ]
     },
     "execution_count": 127,
     "metadata": {},
     "output_type": "execute_result"
    }
   ],
   "source": [
    "d.keys()"
   ]
  },
  {
   "cell_type": "code",
   "execution_count": 128,
   "id": "fc6876b9-d47e-467e-921d-fdbe78e4d51f",
   "metadata": {},
   "outputs": [
    {
     "data": {
      "text/plain": [
       "dict_values(['Ajay', 'sia', 'raj', 'siddhi', 'sia', 34.56, 45])"
      ]
     },
     "execution_count": 128,
     "metadata": {},
     "output_type": "execute_result"
    }
   ],
   "source": [
    "d.values()"
   ]
  },
  {
   "cell_type": "code",
   "execution_count": 129,
   "id": "7b2769f5-2b3a-44db-8b80-8e675d1c1b0a",
   "metadata": {},
   "outputs": [],
   "source": [
    "# multiple ways to create a dictionary\n",
    "\n"
   ]
  },
  {
   "cell_type": "code",
   "execution_count": 130,
   "id": "ebe4438e-a766-4104-b418-112bf5338c75",
   "metadata": {},
   "outputs": [],
   "source": [
    "# from list of tupples()k,v\n",
    "\n",
    "l = [(1, 'ok'),(2, 'not ok')]"
   ]
  },
  {
   "cell_type": "code",
   "execution_count": 132,
   "id": "dab8e637-a8f5-43c9-be93-ead808526c9c",
   "metadata": {},
   "outputs": [
    {
     "data": {
      "text/plain": [
       "{1: 'ok', 2: 'not ok'}"
      ]
     },
     "execution_count": 132,
     "metadata": {},
     "output_type": "execute_result"
    }
   ],
   "source": [
    "dict(l)"
   ]
  },
  {
   "cell_type": "code",
   "execution_count": 133,
   "id": "2d3b6ef3-06fd-4d94-9e9c-90c92ac874da",
   "metadata": {},
   "outputs": [],
   "source": [
    "d[\"ray\"] = [1, 2, 3]"
   ]
  },
  {
   "cell_type": "code",
   "execution_count": 134,
   "id": "4cbdd30c-cc61-4026-a300-0f183d76a8c9",
   "metadata": {},
   "outputs": [
    {
     "data": {
      "text/plain": [
       "{1: 'Ajay',\n",
       " 2: 'sia',\n",
       " 3: 'raj',\n",
       " 4: 'siddhi',\n",
       " 21: 'sia',\n",
       " 22: 34.56,\n",
       " 'ray': [1, 2, 3]}"
      ]
     },
     "execution_count": 134,
     "metadata": {},
     "output_type": "execute_result"
    }
   ],
   "source": [
    "d"
   ]
  },
  {
   "cell_type": "code",
   "execution_count": 135,
   "id": "27f094ec-51e4-4903-9d5e-1092025ef59f",
   "metadata": {},
   "outputs": [
    {
     "data": {
      "text/plain": [
       "'siddhi'"
      ]
     },
     "execution_count": 135,
     "metadata": {},
     "output_type": "execute_result"
    }
   ],
   "source": [
    "d.pop(4)"
   ]
  },
  {
   "cell_type": "code",
   "execution_count": 136,
   "id": "569f3aae-b055-4aba-bcc0-af3de8c2796c",
   "metadata": {},
   "outputs": [
    {
     "data": {
      "text/plain": [
       "0"
      ]
     },
     "execution_count": 136,
     "metadata": {},
     "output_type": "execute_result"
    }
   ],
   "source": [
    "d.pop(100, 0)"
   ]
  },
  {
   "cell_type": "code",
   "execution_count": 137,
   "id": "afff475d-cddc-4bbb-9514-dbf0e30158fa",
   "metadata": {},
   "outputs": [],
   "source": [
    "d = {1: 'pune', 2: 'mumbai', 4: 'city',  'state': 7}"
   ]
  },
  {
   "cell_type": "code",
   "execution_count": 140,
   "id": "60fe05cc-b265-4283-aae6-b4d77e4de9dc",
   "metadata": {},
   "outputs": [
    {
     "name": "stdout",
     "output_type": "stream",
     "text": [
      "1 --> pune\n",
      "2 --> mumbai\n",
      "4 --> city\n",
      "state --> 7\n"
     ]
    }
   ],
   "source": [
    "# iterate over the dict and print\n",
    "# index/key--> value\n",
    "\n",
    "for key, value in d.items():\n",
    "    print(f\"{key} --> {value}\")"
   ]
  },
  {
   "cell_type": "code",
   "execution_count": 1,
   "id": "2568434d-3ad4-42f1-ac5e-552ab56c544d",
   "metadata": {},
   "outputs": [
    {
     "name": "stdout",
     "output_type": "stream",
     "text": [
      "The list is empty.\n"
     ]
    }
   ],
   "source": [
    "# write a python program to check a list is empty or not\n",
    "\n",
    "my_list = []\n",
    "\n",
    "if not my_list:\n",
    "    print(\"The list is empty.\")\n",
    "else:\n",
    "    print(\"The list is not empty.\")\n"
   ]
  },
  {
   "cell_type": "code",
   "execution_count": 8,
   "id": "89283159-38fb-42b3-83bb-72cf992351ea",
   "metadata": {},
   "outputs": [
    {
     "name": "stdout",
     "output_type": "stream",
     "text": [
      "['Red', 'Green', 'White', 'Black', 'Pink', 'Yellow']\n",
      "after first pop operation: ['Green', 'White', 'Black', 'Pink', 'Yellow']\n",
      "after second pop operation: ['Green', 'White', 'Black', 'Pink']\n",
      "after third pop operation: ['Green', 'White', 'Black']\n",
      "final list is: ['Green', 'White', 'Black']\n"
     ]
    }
   ],
   "source": [
    "# write a pythoin program to print a specified list after removing the 0th, 4th and 5th elements\n",
    "# sample list: ['Red','Green','Black','Pink','Yellow']\n",
    "#expected output: ['Green','White','black']\n",
    "\n",
    "list = ['Red','Green','White','Black','Pink','Yellow']\n",
    "print(list)\n",
    "list.pop(0)\n",
    "print(\"after first pop operation:\",list)\n",
    "list.pop(4)\n",
    "print(\"after second pop operation:\",list)\n",
    "list.pop(3)\n",
    "print(\"after third pop operation:\",list)\n",
    "print(\"final list is:\",list)"
   ]
  },
  {
   "cell_type": "code",
   "execution_count": 3,
   "id": "6fc6a026-0c1d-46a1-a7b6-dc8846ad13da",
   "metadata": {},
   "outputs": [
    {
     "name": "stdout",
     "output_type": "stream",
     "text": [
      "['p1', 'q1', 'p2', 'q2', 'p3', 'q3', 'p4', 'q4', 'p5', 'q5']\n"
     ]
    }
   ],
   "source": [
    "#write a python program to create a list by concatinating a given list which range goes from 1 to n\n",
    "#sample list :['p','q']\n",
    "#n=5\n",
    "#sample output: ['p1','q1','p2','q2','p3','q3','p4','q4','p5','q5']\n",
    "\n",
    "\n",
    "sample_list = ['p', 'q']\n",
    "n = 5\n",
    "result= [item + str(i) for i in range(1, n + 1) for item in sample_list]\n",
    "\n",
    "print(result)\n"
   ]
  },
  {
   "cell_type": "code",
   "execution_count": 4,
   "id": "345ae8d5-a63f-4d9d-a026-eeae606d1661",
   "metadata": {},
   "outputs": [
    {
     "name": "stdout",
     "output_type": "stream",
     "text": [
      "Sorted tuple data: [7.2, 12.5, 29.8, 45.3, 50.0]\n",
      "Is 50 present in the tuple? True\n",
      "Tuple converted into set: {7.2, 12.5, 45.3, 50.0, 29.8}\n"
     ]
    }
   ],
   "source": [
    "#create a tuple of elements with 5 floats values in it and perform following operations \n",
    "# 1--> print the data in a sorted manner\n",
    "# 2--> check to see if the elements 50 is present in it\n",
    "# 3--> convert this tuple in set\n",
    "\n",
    "t = (12.5, 45.3, 50.0, 29.8, 7.2)\n",
    "\n",
    "sorted_data = sorted(t)\n",
    "print(\"Sorted tuple data:\", sorted_data)\n",
    "\n",
    "is_present = 50.0 in t\n",
    "print(\"Is 50 present in the tuple?\", is_present)\n",
    "\n",
    "float_to_set = set(t)\n",
    "print(\"Tuple converted into set:\", float_to_set)\n"
   ]
  },
  {
   "cell_type": "code",
   "execution_count": null,
   "id": "d7f8bd87-f230-4550-a924-be1d4ad9228b",
   "metadata": {},
   "outputs": [],
   "source": [
    "#create a dict of elements: {'a': 'apple','b':'ball','c':'cat','d':'dog','k':'king'}and perform following operations\n",
    "\n",
    "\n",
    "d = {'a': 'apple','b':'ball','c':'cat','d':'dog','k':'king'}\n",
    "\n"
   ]
  }
 ],
 "metadata": {
  "kernelspec": {
   "display_name": "Python [conda env:base] *",
   "language": "python",
   "name": "conda-base-py"
  },
  "language_info": {
   "codemirror_mode": {
    "name": "ipython",
    "version": 3
   },
   "file_extension": ".py",
   "mimetype": "text/x-python",
   "name": "python",
   "nbconvert_exporter": "python",
   "pygments_lexer": "ipython3",
   "version": "3.12.7"
  }
 },
 "nbformat": 4,
 "nbformat_minor": 5
}
