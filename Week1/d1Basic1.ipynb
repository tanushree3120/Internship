{
 "cells": [
  {
   "cell_type": "code",
   "execution_count": 1,
   "id": "f7c99000-b7f0-4b21-8b69-daa5a24c008e",
   "metadata": {},
   "outputs": [
    {
     "data": {
      "text/plain": [
       "6"
      ]
     },
     "execution_count": 1,
     "metadata": {},
     "output_type": "execute_result"
    }
   ],
   "source": [
    "a=2\n",
    "b=4\n",
    "a+b"
   ]
  },
  {
   "cell_type": "code",
   "execution_count": 2,
   "id": "e27c658c-2eb9-4828-bc03-ac9e44983139",
   "metadata": {},
   "outputs": [
    {
     "data": {
      "text/plain": [
       "8"
      ]
     },
     "execution_count": 2,
     "metadata": {},
     "output_type": "execute_result"
    }
   ],
   "source": [
    "a*b"
   ]
  },
  {
   "cell_type": "code",
   "execution_count": 3,
   "id": "1504dc4d-9127-480d-a404-2355de486518",
   "metadata": {},
   "outputs": [
    {
     "data": {
      "text/plain": [
       "16"
      ]
     },
     "execution_count": 3,
     "metadata": {},
     "output_type": "execute_result"
    }
   ],
   "source": [
    "a**b"
   ]
  },
  {
   "cell_type": "code",
   "execution_count": 4,
   "id": "9c1c2f94-a229-4541-bec6-a26c8c9a1927",
   "metadata": {},
   "outputs": [
    {
     "data": {
      "text/plain": [
       "0.5"
      ]
     },
     "execution_count": 4,
     "metadata": {},
     "output_type": "execute_result"
    }
   ],
   "source": [
    "a/b"
   ]
  },
  {
   "cell_type": "code",
   "execution_count": 5,
   "id": "6ade1784-a32a-45d7-9a2e-c50d4c6bacb6",
   "metadata": {},
   "outputs": [
    {
     "data": {
      "text/plain": [
       "2"
      ]
     },
     "execution_count": 5,
     "metadata": {},
     "output_type": "execute_result"
    }
   ],
   "source": [
    "a%b"
   ]
  },
  {
   "cell_type": "code",
   "execution_count": 6,
   "id": "e66281a0-4671-436c-9965-0af449128e79",
   "metadata": {},
   "outputs": [],
   "source": [
    "# Bitwise"
   ]
  },
  {
   "cell_type": "code",
   "execution_count": 7,
   "id": "d61aa985-1e73-4220-956a-add0dd44bb5c",
   "metadata": {},
   "outputs": [
    {
     "data": {
      "text/plain": [
       "'0b1101'"
      ]
     },
     "execution_count": 7,
     "metadata": {},
     "output_type": "execute_result"
    }
   ],
   "source": [
    "bin(13)"
   ]
  },
  {
   "cell_type": "code",
   "execution_count": 8,
   "id": "e8ad908f-f74f-4d62-956c-188867252ffb",
   "metadata": {},
   "outputs": [],
   "source": [
    "a=13;b=15"
   ]
  },
  {
   "cell_type": "code",
   "execution_count": 9,
   "id": "cd048dbb-06e6-4edd-9d33-26203cc8bfb2",
   "metadata": {},
   "outputs": [
    {
     "data": {
      "text/plain": [
       "('0b1101', '0b1111')"
      ]
     },
     "execution_count": 9,
     "metadata": {},
     "output_type": "execute_result"
    }
   ],
   "source": [
    "bin(a),bin(b)"
   ]
  },
  {
   "cell_type": "code",
   "execution_count": 10,
   "id": "6e430918-1d46-41bd-bca2-86e5580f719e",
   "metadata": {},
   "outputs": [
    {
     "data": {
      "text/plain": [
       "13"
      ]
     },
     "execution_count": 10,
     "metadata": {},
     "output_type": "execute_result"
    }
   ],
   "source": [
    "# & => sets 1 only when both bits are 1\n",
    "a&b"
   ]
  },
  {
   "cell_type": "code",
   "execution_count": 11,
   "id": "1e40cd1e-7310-4de0-9925-9b9745af77c7",
   "metadata": {},
   "outputs": [
    {
     "data": {
      "text/plain": [
       "'0b1'"
      ]
     },
     "execution_count": 11,
     "metadata": {},
     "output_type": "execute_result"
    }
   ],
   "source": [
    "bin(1)"
   ]
  },
  {
   "cell_type": "code",
   "execution_count": 12,
   "id": "8ac82c1a-3b90-4fdf-8859-a80b6b24aff9",
   "metadata": {},
   "outputs": [
    {
     "data": {
      "text/plain": [
       "13"
      ]
     },
     "execution_count": 12,
     "metadata": {},
     "output_type": "execute_result"
    }
   ],
   "source": [
    "int('0b1101',2)"
   ]
  },
  {
   "cell_type": "code",
   "execution_count": 13,
   "id": "435bbb48-ec88-470e-9b05-c7cf248553c2",
   "metadata": {},
   "outputs": [
    {
     "data": {
      "text/plain": [
       "'0b1'"
      ]
     },
     "execution_count": 13,
     "metadata": {},
     "output_type": "execute_result"
    }
   ],
   "source": [
    "bin(1)"
   ]
  },
  {
   "cell_type": "code",
   "execution_count": 14,
   "id": "60852aa2-3e80-4dfc-a5ed-e6a3d698b360",
   "metadata": {},
   "outputs": [
    {
     "data": {
      "text/plain": [
       "15"
      ]
     },
     "execution_count": 14,
     "metadata": {},
     "output_type": "execute_result"
    }
   ],
   "source": [
    "# / => will set 1 if one of the bit is 1\n",
    "a|b"
   ]
  },
  {
   "cell_type": "code",
   "execution_count": 15,
   "id": "deb03d28-771a-4406-8714-99f6f03d4440",
   "metadata": {},
   "outputs": [
    {
     "data": {
      "text/plain": [
       "'0b1101'"
      ]
     },
     "execution_count": 15,
     "metadata": {},
     "output_type": "execute_result"
    }
   ],
   "source": [
    "bin(a)"
   ]
  },
  {
   "cell_type": "code",
   "execution_count": 16,
   "id": "4f34005a-ed5c-45c0-83f1-15ce4d92a639",
   "metadata": {},
   "outputs": [
    {
     "data": {
      "text/plain": [
       "'0b110100'"
      ]
     },
     "execution_count": 16,
     "metadata": {},
     "output_type": "execute_result"
    }
   ],
   "source": [
    "bin(a<<2)"
   ]
  },
  {
   "cell_type": "code",
   "execution_count": 17,
   "id": "79872d93-d287-444e-9ba7-18b380073896",
   "metadata": {},
   "outputs": [
    {
     "data": {
      "text/plain": [
       "'0b11'"
      ]
     },
     "execution_count": 17,
     "metadata": {},
     "output_type": "execute_result"
    }
   ],
   "source": [
    "bin(a>>2)"
   ]
  },
  {
   "cell_type": "code",
   "execution_count": 19,
   "id": "b21f0cb5-79ff-4a8e-bc25-e8e55395419c",
   "metadata": {},
   "outputs": [],
   "source": [
    "# assignment operators"
   ]
  },
  {
   "cell_type": "code",
   "execution_count": 20,
   "id": "8f4a1cb6-b16a-4d88-8fe9-576680fcce3d",
   "metadata": {},
   "outputs": [],
   "source": [
    "b=5\n",
    "b+=4"
   ]
  },
  {
   "cell_type": "code",
   "execution_count": 21,
   "id": "c69fe948-44bc-4043-ab69-60803e61eb79",
   "metadata": {},
   "outputs": [
    {
     "data": {
      "text/plain": [
       "9"
      ]
     },
     "execution_count": 21,
     "metadata": {},
     "output_type": "execute_result"
    }
   ],
   "source": [
    "b"
   ]
  },
  {
   "cell_type": "code",
   "execution_count": 22,
   "id": "438b6f7e-2543-43be-80f3-95787297043a",
   "metadata": {},
   "outputs": [],
   "source": [
    "c=5\n",
    "c+=4"
   ]
  },
  {
   "cell_type": "code",
   "execution_count": 23,
   "id": "d0bb4299-9f68-46b9-8d08-d1c62bf50bd4",
   "metadata": {},
   "outputs": [
    {
     "data": {
      "text/plain": [
       "9"
      ]
     },
     "execution_count": 23,
     "metadata": {},
     "output_type": "execute_result"
    }
   ],
   "source": [
    "c"
   ]
  },
  {
   "cell_type": "code",
   "execution_count": 24,
   "id": "b7f6da7c-eaf9-4d70-91ea-86237494876d",
   "metadata": {},
   "outputs": [],
   "source": [
    "b**=2"
   ]
  },
  {
   "cell_type": "code",
   "execution_count": 25,
   "id": "4e8a8784-cb7e-4915-a1ba-53e6b160eeaf",
   "metadata": {},
   "outputs": [
    {
     "data": {
      "text/plain": [
       "81"
      ]
     },
     "execution_count": 25,
     "metadata": {},
     "output_type": "execute_result"
    }
   ],
   "source": [
    "b"
   ]
  },
  {
   "cell_type": "code",
   "execution_count": 26,
   "id": "52cb302c-3be6-4d89-a42d-2148cfc7ccf4",
   "metadata": {},
   "outputs": [],
   "source": [
    "#comparison operator"
   ]
  },
  {
   "cell_type": "code",
   "execution_count": 27,
   "id": "4365af61-e9de-4331-b1a3-04ae02b1c972",
   "metadata": {},
   "outputs": [],
   "source": [
    "b=5\n",
    "b+=4"
   ]
  },
  {
   "cell_type": "code",
   "execution_count": 28,
   "id": "606f9458-b088-4e8d-8c5f-ab5464318ee3",
   "metadata": {},
   "outputs": [
    {
     "data": {
      "text/plain": [
       "9"
      ]
     },
     "execution_count": 28,
     "metadata": {},
     "output_type": "execute_result"
    }
   ],
   "source": [
    "b"
   ]
  },
  {
   "cell_type": "code",
   "execution_count": 29,
   "id": "e00d8ba9-02f1-44e9-af72-d80a52c7eb32",
   "metadata": {},
   "outputs": [],
   "source": [
    "# comparison operators"
   ]
  },
  {
   "cell_type": "code",
   "execution_count": 31,
   "id": "e1437c33-c295-488d-8583-926f3619fdad",
   "metadata": {},
   "outputs": [
    {
     "data": {
      "text/plain": [
       "(10, 9)"
      ]
     },
     "execution_count": 31,
     "metadata": {},
     "output_type": "execute_result"
    }
   ],
   "source": [
    "a=10; a,b"
   ]
  },
  {
   "cell_type": "code",
   "execution_count": 32,
   "id": "38d4da99-1c42-4e8b-900d-ca6bb8fd1bb8",
   "metadata": {},
   "outputs": [
    {
     "data": {
      "text/plain": [
       "False"
      ]
     },
     "execution_count": 32,
     "metadata": {},
     "output_type": "execute_result"
    }
   ],
   "source": [
    "a==b"
   ]
  },
  {
   "cell_type": "code",
   "execution_count": 33,
   "id": "44393b85-d52c-4737-976c-a068e0182066",
   "metadata": {},
   "outputs": [
    {
     "data": {
      "text/plain": [
       "True"
      ]
     },
     "execution_count": 33,
     "metadata": {},
     "output_type": "execute_result"
    }
   ],
   "source": [
    "a!=b"
   ]
  },
  {
   "cell_type": "code",
   "execution_count": 34,
   "id": "a9462cc2-eebd-4a1e-8688-24b92517c8d6",
   "metadata": {},
   "outputs": [
    {
     "data": {
      "text/plain": [
       "True"
      ]
     },
     "execution_count": 34,
     "metadata": {},
     "output_type": "execute_result"
    }
   ],
   "source": [
    "a>b\n"
   ]
  },
  {
   "cell_type": "code",
   "execution_count": 35,
   "id": "71df630e-b6aa-4742-b166-0298bc014d5d",
   "metadata": {},
   "outputs": [
    {
     "data": {
      "text/plain": [
       "True"
      ]
     },
     "execution_count": 35,
     "metadata": {},
     "output_type": "execute_result"
    }
   ],
   "source": [
    "a>=b"
   ]
  },
  {
   "cell_type": "code",
   "execution_count": 36,
   "id": "fa500acb-2f3f-41df-a639-b55b94ae022a",
   "metadata": {},
   "outputs": [],
   "source": [
    "# logical operators"
   ]
  },
  {
   "cell_type": "code",
   "execution_count": 37,
   "id": "3cd52984-bf8b-4051-818f-69017dc39916",
   "metadata": {},
   "outputs": [],
   "source": [
    "a = True\n",
    "b = False"
   ]
  },
  {
   "cell_type": "code",
   "execution_count": 38,
   "id": "ec089a6a-cbb7-4b81-8541-831d74f3fcae",
   "metadata": {},
   "outputs": [
    {
     "data": {
      "text/plain": [
       "False"
      ]
     },
     "execution_count": 38,
     "metadata": {},
     "output_type": "execute_result"
    }
   ],
   "source": [
    "a and b"
   ]
  },
  {
   "cell_type": "code",
   "execution_count": 39,
   "id": "765c6b0c-3ab8-4207-85c5-987b4688273b",
   "metadata": {},
   "outputs": [
    {
     "data": {
      "text/plain": [
       "True"
      ]
     },
     "execution_count": 39,
     "metadata": {},
     "output_type": "execute_result"
    }
   ],
   "source": [
    "a or b"
   ]
  },
  {
   "cell_type": "code",
   "execution_count": 40,
   "id": "18a7679c-c490-462b-ad96-3dfdd9880371",
   "metadata": {},
   "outputs": [
    {
     "data": {
      "text/plain": [
       "False"
      ]
     },
     "execution_count": 40,
     "metadata": {},
     "output_type": "execute_result"
    }
   ],
   "source": [
    "not a"
   ]
  },
  {
   "cell_type": "code",
   "execution_count": 41,
   "id": "e28c0105-e5df-40a4-b868-56052e1d609c",
   "metadata": {},
   "outputs": [
    {
     "data": {
      "text/plain": [
       "True"
      ]
     },
     "execution_count": 41,
     "metadata": {},
     "output_type": "execute_result"
    }
   ],
   "source": [
    " not b"
   ]
  },
  {
   "cell_type": "code",
   "execution_count": 42,
   "id": "d2846c24-81ce-46c5-a0f0-53f494addaba",
   "metadata": {},
   "outputs": [],
   "source": [
    "# Identity operator"
   ]
  },
  {
   "cell_type": "code",
   "execution_count": 43,
   "id": "1eea3914-3f31-4ea6-920a-130b10c092e6",
   "metadata": {},
   "outputs": [],
   "source": [
    "#is, is not"
   ]
  },
  {
   "cell_type": "code",
   "execution_count": 44,
   "id": "26b5f93c-79b6-443e-a536-19b5f49e5e6e",
   "metadata": {},
   "outputs": [],
   "source": [
    "a = 5\n",
    "b = 5"
   ]
  },
  {
   "cell_type": "code",
   "execution_count": 45,
   "id": "6b7a193a-99cf-4018-ac06-dc60fc22fd85",
   "metadata": {},
   "outputs": [
    {
     "data": {
      "text/plain": [
       "True"
      ]
     },
     "execution_count": 45,
     "metadata": {},
     "output_type": "execute_result"
    }
   ],
   "source": [
    "a is b"
   ]
  },
  {
   "cell_type": "code",
   "execution_count": 46,
   "id": "d51c88c2-4101-4a25-a492-f8d58d2d2f8e",
   "metadata": {},
   "outputs": [
    {
     "data": {
      "text/plain": [
       "False"
      ]
     },
     "execution_count": 46,
     "metadata": {},
     "output_type": "execute_result"
    }
   ],
   "source": [
    "a is not b"
   ]
  },
  {
   "cell_type": "code",
   "execution_count": 47,
   "id": "797212f9-deb0-488a-828a-c412cf04881b",
   "metadata": {},
   "outputs": [],
   "source": [
    "# membership operator"
   ]
  },
  {
   "cell_type": "code",
   "execution_count": 48,
   "id": "50ab02ae-c8b5-4434-beef-14994347ea6f",
   "metadata": {},
   "outputs": [],
   "source": [
    "# in, not in"
   ]
  },
  {
   "cell_type": "code",
   "execution_count": 49,
   "id": "07dd5716-01d6-45a5-a884-26804add0d5e",
   "metadata": {},
   "outputs": [],
   "source": [
    "l={12,34,11,10}"
   ]
  },
  {
   "cell_type": "code",
   "execution_count": 50,
   "id": "40408928-edb8-43f0-89df-acbb78e9dead",
   "metadata": {},
   "outputs": [],
   "source": [
    "# bodmas "
   ]
  },
  {
   "cell_type": "code",
   "execution_count": 51,
   "id": "044cd299-e201-4d1a-955c-3e366b332f92",
   "metadata": {},
   "outputs": [
    {
     "data": {
      "text/plain": [
       "6"
      ]
     },
     "execution_count": 51,
     "metadata": {},
     "output_type": "execute_result"
    }
   ],
   "source": [
    "5+3-2"
   ]
  },
  {
   "cell_type": "code",
   "execution_count": 52,
   "id": "39bfde44-c4f0-4a00-a4b1-9edd26f42336",
   "metadata": {},
   "outputs": [
    {
     "data": {
      "text/plain": [
       "1"
      ]
     },
     "execution_count": 52,
     "metadata": {},
     "output_type": "execute_result"
    }
   ],
   "source": [
    "5-2*2"
   ]
  },
  {
   "cell_type": "code",
   "execution_count": 53,
   "id": "bd0fd542-6052-44cd-8fe8-fccc777a6d39",
   "metadata": {},
   "outputs": [
    {
     "data": {
      "text/plain": [
       "1"
      ]
     },
     "execution_count": 53,
     "metadata": {},
     "output_type": "execute_result"
    }
   ],
   "source": [
    "(2-1)**100"
   ]
  },
  {
   "cell_type": "code",
   "execution_count": 54,
   "id": "2c927b9d-361e-44a3-ab57-338e0baf0ef2",
   "metadata": {},
   "outputs": [
    {
     "data": {
      "text/plain": [
       "256"
      ]
     },
     "execution_count": 54,
     "metadata": {},
     "output_type": "execute_result"
    }
   ],
   "source": [
    "2**2**3#ribght association"
   ]
  },
  {
   "cell_type": "code",
   "execution_count": 55,
   "id": "876b8a61-2df3-44ea-8516-fbbe4c29a29c",
   "metadata": {},
   "outputs": [
    {
     "data": {
      "text/plain": [
       "4"
      ]
     },
     "execution_count": 55,
     "metadata": {},
     "output_type": "execute_result"
    }
   ],
   "source": [
    "2**3//2"
   ]
  },
  {
   "cell_type": "code",
   "execution_count": 56,
   "id": "3c1b6cc9-25e2-459d-8b24-d581ae246b7d",
   "metadata": {},
   "outputs": [],
   "source": [
    "# type casting"
   ]
  },
  {
   "cell_type": "code",
   "execution_count": 57,
   "id": "04d51c0b-8b92-495a-b963-1adfbe13cf17",
   "metadata": {},
   "outputs": [],
   "source": [
    "a=12\n",
    "b=23.45\n",
    "c=\"pune\""
   ]
  },
  {
   "cell_type": "code",
   "execution_count": 58,
   "id": "8caa3ba9-9910-4da6-abc8-3d6414cf2151",
   "metadata": {},
   "outputs": [
    {
     "data": {
      "text/plain": [
       "12.0"
      ]
     },
     "execution_count": 58,
     "metadata": {},
     "output_type": "execute_result"
    }
   ],
   "source": [
    "float(a)"
   ]
  },
  {
   "cell_type": "code",
   "execution_count": 59,
   "id": "ca04327e-3f9b-4305-b04d-8435ca2726e3",
   "metadata": {},
   "outputs": [
    {
     "data": {
      "text/plain": [
       "23"
      ]
     },
     "execution_count": 59,
     "metadata": {},
     "output_type": "execute_result"
    }
   ],
   "source": [
    "int(b)"
   ]
  },
  {
   "cell_type": "code",
   "execution_count": 60,
   "id": "cc6f0bd1-3f22-439f-9944-fa2b3af18400",
   "metadata": {},
   "outputs": [
    {
     "data": {
      "text/plain": [
       "'23.45'"
      ]
     },
     "execution_count": 60,
     "metadata": {},
     "output_type": "execute_result"
    }
   ],
   "source": [
    "str(b)"
   ]
  },
  {
   "cell_type": "code",
   "execution_count": 61,
   "id": "f3635eb4-63cc-4440-8a62-828b8c6f6b1f",
   "metadata": {},
   "outputs": [],
   "source": [
    "# User input"
   ]
  },
  {
   "cell_type": "code",
   "execution_count": 62,
   "id": "cf85c55f-4115-47d5-b1b4-6e56aed20b97",
   "metadata": {},
   "outputs": [
    {
     "name": "stdout",
     "output_type": "stream",
     "text": [
      "30\n"
     ]
    }
   ],
   "source": [
    "a=10\n",
    "b=20\n",
    "\n",
    "res=a+b\n",
    "print(res)"
   ]
  },
  {
   "cell_type": "code",
   "execution_count": 64,
   "id": "0e13a07e-388c-4ea0-9e5d-2e994da0da9d",
   "metadata": {},
   "outputs": [
    {
     "name": "stdin",
     "output_type": "stream",
     "text": [
      "Enter the 1st number: 2\n",
      "Enter the 2nd number: 2\n"
     ]
    },
    {
     "name": "stdout",
     "output_type": "stream",
     "text": [
      "4\n"
     ]
    }
   ],
   "source": [
    "a = int(input(\"Enter the 1st number:\"))\n",
    "b = int(input(\"Enter the 2nd number:\"))\n",
    "\n",
    "res =a+b\n",
    "print(res)"
   ]
  },
  {
   "cell_type": "code",
   "execution_count": 65,
   "id": "186f90cb-c82f-43ac-83a1-f6322a002033",
   "metadata": {},
   "outputs": [
    {
     "data": {
      "text/plain": [
       "'\\ntake sec as user input and convert it in the format =>\\n\\nex...72 sec\\n=> 00:01:12\\n'"
      ]
     },
     "execution_count": 65,
     "metadata": {},
     "output_type": "execute_result"
    }
   ],
   "source": [
    "\"\"\"\n",
    "take sec as user input and convert it in the format =>\n",
    "\n",
    "ex...72 sec\n",
    "=> 00:01:12\n",
    "\"\"\""
   ]
  },
  {
   "cell_type": "code",
   "execution_count": 66,
   "id": "451f989f-42a9-444a-a898-7f082520f8a4",
   "metadata": {},
   "outputs": [
    {
     "name": "stdin",
     "output_type": "stream",
     "text": [
      "Enter the seconds you want: 60\n"
     ]
    },
    {
     "name": "stdout",
     "output_type": "stream",
     "text": [
      "00:01:00\n"
     ]
    }
   ],
   "source": [
    "sec = int(input(\"Enter the seconds you want:\"))\n",
    "hours = sec//3600\n",
    "minutes = (sec % 3600)//60\n",
    "seconds = sec % 60\n",
    "\n",
    "print(f\"{hours:02}:{minutes:02}:{seconds:02}\")"
   ]
  },
  {
   "cell_type": "code",
   "execution_count": 67,
   "id": "e2c29a84-37ab-4087-888b-38ed2bd20686",
   "metadata": {},
   "outputs": [
    {
     "name": "stdout",
     "output_type": "stream",
     "text": [
      "Welcome to python programming\n"
     ]
    }
   ],
   "source": [
    "print(\"Welcome to python programming\")\n",
    "#print() function is used to display output "
   ]
  },
  {
   "cell_type": "code",
   "execution_count": 68,
   "id": "62117980-e6ae-489e-8736-1ba689a76d49",
   "metadata": {},
   "outputs": [
    {
     "name": "stdout",
     "output_type": "stream",
     "text": [
      "False\n",
      "True\n",
      "False\n"
     ]
    }
   ],
   "source": [
    "##2\n",
    "\n",
    "is_number = True\n",
    "has_discount = False\n",
    "print(is_number and has_discount)\n",
    "# & operator displays true if both the input is true otherwise it returns false\n",
    "print(is_number or has_discount)\n",
    "print(not is_number)"
   ]
  },
  {
   "cell_type": "code",
   "execution_count": 69,
   "id": "dca555a0-ae87-4b68-a6db-71fe114391ae",
   "metadata": {},
   "outputs": [
    {
     "name": "stdout",
     "output_type": "stream",
     "text": [
      "You have purchased 10 units of PENCIL at $ 20.15 each\n"
     ]
    }
   ],
   "source": [
    "##3\n",
    "\n",
    "product_name = \"PENCIL\"\n",
    "quantity = 10\n",
    "unit_price = 20.15\n",
    "print(\"You have purchased\",quantity,\"units of\",product_name,\"at $\",unit_price,\"each\")"
   ]
  },
  {
   "cell_type": "code",
   "execution_count": 70,
   "id": "38b36bc9-5e86-44ae-a477-785e9bbf1449",
   "metadata": {},
   "outputs": [
    {
     "name": "stdout",
     "output_type": "stream",
     "text": [
      "10\n"
     ]
    }
   ],
   "source": [
    "##4\n",
    "\n",
    "is_active_user = 10\n",
    "print(is_active_user)"
   ]
  },
  {
   "cell_type": "code",
   "execution_count": 72,
   "id": "22450c82-c715-43e9-86f9-9f636d055c99",
   "metadata": {},
   "outputs": [
    {
     "name": "stdin",
     "output_type": "stream",
     "text": [
      "Enter the lenght 20\n",
      "Enter the width 40\n"
     ]
    },
    {
     "name": "stdout",
     "output_type": "stream",
     "text": [
      "800\n"
     ]
    }
   ],
   "source": [
    "##5\n",
    "\n",
    "len = int(input(\"Enter the lenght\"))\n",
    "width = int(input(\"Enter the width\"))\n",
    "area = len*width\n",
    "\n",
    "print(area)"
   ]
  },
  {
   "cell_type": "code",
   "execution_count": 73,
   "id": "15574a68-c138-4713-9d64-b20452c49ca3",
   "metadata": {},
   "outputs": [
    {
     "name": "stdout",
     "output_type": "stream",
     "text": [
      "1250\n"
     ]
    }
   ],
   "source": [
    "##6\n",
    "\n",
    "initial_balance = 1000\n",
    "initial_balance +=250\n",
    "initial_balance / 2\n",
    "initial_balance < 600\n",
    "print(initial_balance)"
   ]
  },
  {
   "cell_type": "code",
   "execution_count": 74,
   "id": "77d14ae1-fd9c-41b2-8fb5-4d9f5b6df36d",
   "metadata": {},
   "outputs": [
    {
     "name": "stdout",
     "output_type": "stream",
     "text": [
      "24.0\n"
     ]
    }
   ],
   "source": [
    "##7\n",
    "\n",
    "result = 15+4*3-9/3\n",
    "print(result)"
   ]
  },
  {
   "cell_type": "code",
   "execution_count": 75,
   "id": "62c96034-226f-433a-87d5-c19881a6f444",
   "metadata": {},
   "outputs": [
    {
     "name": "stdin",
     "output_type": "stream",
     "text": [
      "Enter the fav_decimal number: 3.14\n"
     ]
    },
    {
     "name": "stdout",
     "output_type": "stream",
     "text": [
      "The new calculated number is 13.64\n"
     ]
    }
   ],
   "source": [
    "##8\n",
    "\n",
    "fav_decimalnum = input(\"Enter the fav_decimal number:\")\n",
    "number = float(fav_decimalnum)\n",
    "new_number = number + 10.5\n",
    "print(\"The new calculated number is\",new_number)"
   ]
  },
  {
   "cell_type": "code",
   "execution_count": null,
   "id": "dd1b8c67-bdb8-4923-a7f1-bce5ea68246f",
   "metadata": {},
   "outputs": [],
   "source": []
  }
 ],
 "metadata": {
  "kernelspec": {
   "display_name": "Python 3 (ipykernel)",
   "language": "python",
   "name": "python3"
  },
  "language_info": {
   "codemirror_mode": {
    "name": "ipython",
    "version": 3
   },
   "file_extension": ".py",
   "mimetype": "text/x-python",
   "name": "python",
   "nbconvert_exporter": "python",
   "pygments_lexer": "ipython3",
   "version": "3.12.7"
  }
 },
 "nbformat": 4,
 "nbformat_minor": 5
}
