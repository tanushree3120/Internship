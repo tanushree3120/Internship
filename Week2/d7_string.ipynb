{
 "cells": [
  {
   "cell_type": "markdown",
   "id": "f7874fa5-cf30-4284-8e5e-8f50e3dda8bc",
   "metadata": {},
   "source": [
    "# string"
   ]
  },
  {
   "cell_type": "code",
   "execution_count": 1,
   "id": "1329a16e-44f2-48fb-b64f-7ad0fa81d18e",
   "metadata": {},
   "outputs": [],
   "source": [
    "sent = 'hello world!'"
   ]
  },
  {
   "cell_type": "code",
   "execution_count": 2,
   "id": "3ed54a39-57a7-47d8-8f24-08278fabf1f7",
   "metadata": {},
   "outputs": [],
   "source": [
    "sent = \"hello\""
   ]
  },
  {
   "cell_type": "code",
   "execution_count": 5,
   "id": "9225b6a5-266d-428e-be24-7e606d9dae50",
   "metadata": {},
   "outputs": [],
   "source": [
    "sent = \"\"\"this is first line\n",
    "this is second line\n",
    "this is third line\n",
    "\"\"\""
   ]
  },
  {
   "cell_type": "code",
   "execution_count": 6,
   "id": "6de0747a-68ef-4f1b-9d18-8f70745435c7",
   "metadata": {},
   "outputs": [
    {
     "name": "stdout",
     "output_type": "stream",
     "text": [
      "this is first line\n",
      "this is second line\n",
      "this is third line\n",
      "\n"
     ]
    }
   ],
   "source": [
    "print(sent)"
   ]
  },
  {
   "cell_type": "code",
   "execution_count": 7,
   "id": "d12a4b11-99d0-4068-a1a6-ef68690da4a0",
   "metadata": {},
   "outputs": [],
   "source": [
    "sent = \"hello python\""
   ]
  },
  {
   "cell_type": "code",
   "execution_count": 8,
   "id": "a976f2f3-c63d-49e8-992d-871824258187",
   "metadata": {},
   "outputs": [
    {
     "data": {
      "text/plain": [
       "'h'"
      ]
     },
     "execution_count": 8,
     "metadata": {},
     "output_type": "execute_result"
    }
   ],
   "source": [
    "sent[0]"
   ]
  },
  {
   "cell_type": "code",
   "execution_count": 14,
   "id": "5af2d68e-4748-4683-896e-253f6d8065f3",
   "metadata": {},
   "outputs": [
    {
     "name": "stdin",
     "output_type": "stream",
     "text": [
      "Enter a string:  hello\n"
     ]
    },
    {
     "name": "stdout",
     "output_type": "stream",
     "text": [
      "Index 0 => Character h\n",
      "Index 1 => Character e\n",
      "Index 2 => Character l\n",
      "Index 3 => Character l\n",
      "Index 4 => Character o\n"
     ]
    }
   ],
   "source": [
    "#take user input --> string \n",
    "# iterate over it and print =>index =>character\n",
    "\n",
    "string = input(\"Enter a string: \")\n",
    "\n",
    "for index, character in enumerate(string):\n",
    "    print(f\"Index {index} => Character {character}\")\n",
    "\n",
    "\n"
   ]
  },
  {
   "cell_type": "code",
   "execution_count": 15,
   "id": "895390d6-9190-4de3-a79a-cb2336c2a2b0",
   "metadata": {},
   "outputs": [
    {
     "data": {
      "text/plain": [
       "'hello'"
      ]
     },
     "execution_count": 15,
     "metadata": {},
     "output_type": "execute_result"
    }
   ],
   "source": [
    "string"
   ]
  },
  {
   "cell_type": "code",
   "execution_count": 16,
   "id": "59e1e5a1-01f5-45f9-9573-c03f75540663",
   "metadata": {},
   "outputs": [
    {
     "data": {
      "text/plain": [
       "'hel'"
      ]
     },
     "execution_count": 16,
     "metadata": {},
     "output_type": "execute_result"
    }
   ],
   "source": [
    "string[0:3]"
   ]
  },
  {
   "cell_type": "code",
   "execution_count": 17,
   "id": "90948467-64b8-455d-8e7f-3c3ffdd395a0",
   "metadata": {},
   "outputs": [
    {
     "data": {
      "text/plain": [
       "'hlo'"
      ]
     },
     "execution_count": 17,
     "metadata": {},
     "output_type": "execute_result"
    }
   ],
   "source": [
    "string[0::2]"
   ]
  },
  {
   "cell_type": "code",
   "execution_count": 21,
   "id": "601c2dfe-6fb4-4a2c-93d5-579526f7eeef",
   "metadata": {},
   "outputs": [
    {
     "name": "stdin",
     "output_type": "stream",
     "text": [
      "enter the string heloo\n"
     ]
    },
    {
     "name": "stdout",
     "output_type": "stream",
     "text": [
      "List of characters: ['h', 'e', 'l', 'o', 'o']\n"
     ]
    }
   ],
   "source": [
    "# user input==> string\n",
    "# using loop split it into individual character \n",
    "# and put it into an empty list e\n",
    "\n",
    "s = input(\"enter the string\")\n",
    "e = []               # empty list\n",
    "\n",
    "for i in s:\n",
    "    e.append(i)      #  adding the elment\n",
    "\n",
    "print(\"List of characters:\", e)\n"
   ]
  },
  {
   "cell_type": "code",
   "execution_count": 35,
   "id": "959780d2-2ad1-457f-9a27-a19bffb6d44d",
   "metadata": {},
   "outputs": [
    {
     "name": "stdin",
     "output_type": "stream",
     "text": [
      "enter the string: hello\n",
      "enter the char: e\n",
      "enter the char: i\n"
     ]
    },
    {
     "name": "stdout",
     "output_type": "stream",
     "text": [
      "e is present\n",
      "i is not present\n"
     ]
    }
   ],
   "source": [
    "# use loops and if else to check if specific characters are present in a string\n",
    "# get output for both if they are present or not\n",
    "# take 2 characters to check (user input)\n",
    "\n",
    "\n",
    "\n",
    "string = input(\"enter the string:\")\n",
    "char1 = input(\"enter the char:\")\n",
    "char2 = input(\"enter the char:\")\n",
    "\n",
    "find_char1 = False\n",
    "find_char2 = False\n",
    "\n",
    "for i in string:\n",
    "    if i == char1:\n",
    "        print(f\"{char1} is present\")\n",
    "        find_char1 = True\n",
    "\n",
    "    elif i == char2:\n",
    "        print(f\"{char2} is present\")\n",
    "        find_char2 = True\n",
    "\n",
    "if find_char1 == False:\n",
    "   \n",
    "    print (char1,\"not present\")\n",
    "\n",
    "if find_char2 == False:\n",
    "    print (char2,\"is not present\")\n"
   ]
  },
  {
   "cell_type": "markdown",
   "id": "2f3008fe-45cb-433c-bb8c-004b0b095960",
   "metadata": {},
   "source": [
    " string concatination"
   ]
  },
  {
   "cell_type": "code",
   "execution_count": 52,
   "id": "674bd07f-2619-4e3f-b83b-40e360bc23bb",
   "metadata": {},
   "outputs": [
    {
     "data": {
      "text/plain": [
       "'ok +   + zzz'"
      ]
     },
     "execution_count": 52,
     "metadata": {},
     "output_type": "execute_result"
    }
   ],
   "source": [
    "\"ok\"\" + \"\"  + \"\"zzz\""
   ]
  },
  {
   "cell_type": "code",
   "execution_count": 40,
   "id": "b1de326a-bdbd-4e03-b40f-a3aa3ac12d74",
   "metadata": {},
   "outputs": [],
   "source": [
    "sent = \"everything\""
   ]
  },
  {
   "cell_type": "code",
   "execution_count": 42,
   "id": "12eb67a3-81b7-41cf-98bc-321201093009",
   "metadata": {},
   "outputs": [
    {
     "data": {
      "text/plain": [
       "3"
      ]
     },
     "execution_count": 42,
     "metadata": {},
     "output_type": "execute_result"
    }
   ],
   "source": [
    "sent.find(\"r\")"
   ]
  },
  {
   "cell_type": "code",
   "execution_count": 43,
   "id": "f05f8152-db19-466f-af04-8c8f6f7ccb3e",
   "metadata": {},
   "outputs": [
    {
     "data": {
      "text/plain": [
       "'ewerything'"
      ]
     },
     "execution_count": 43,
     "metadata": {},
     "output_type": "execute_result"
    }
   ],
   "source": [
    "sent.replace('v', 'w')"
   ]
  },
  {
   "cell_type": "code",
   "execution_count": 44,
   "id": "c48d6fc6-1667-4167-bcf3-5bbf8166e968",
   "metadata": {},
   "outputs": [],
   "source": [
    "sent = \"python, dart, c#, kotlin\""
   ]
  },
  {
   "cell_type": "code",
   "execution_count": 45,
   "id": "3c3b0cfc-fd39-43f3-810f-0c45c3b332fb",
   "metadata": {},
   "outputs": [
    {
     "data": {
      "text/plain": [
       "['python', ' dart', ' c#', ' kotlin']"
      ]
     },
     "execution_count": 45,
     "metadata": {},
     "output_type": "execute_result"
    }
   ],
   "source": [
    "sent.split(',')"
   ]
  },
  {
   "cell_type": "code",
   "execution_count": 46,
   "id": "2592d1d6-8ccf-466d-bc0a-2730f43cf0d8",
   "metadata": {},
   "outputs": [],
   "source": [
    "l = ['1', '3', '4']"
   ]
  },
  {
   "cell_type": "code",
   "execution_count": 48,
   "id": "a2cbc9ab-ce79-490b-af8a-512d46958471",
   "metadata": {},
   "outputs": [
    {
     "data": {
      "text/plain": [
       "'1-3-4'"
      ]
     },
     "execution_count": 48,
     "metadata": {},
     "output_type": "execute_result"
    }
   ],
   "source": [
    "'-'.join(l)"
   ]
  },
  {
   "cell_type": "markdown",
   "id": "0e1674e5-6347-4c74-bbe2-a134e3ec16ca",
   "metadata": {},
   "source": [
    "escape sequences"
   ]
  },
  {
   "cell_type": "code",
   "execution_count": 53,
   "id": "b1ad1234-e083-4ed3-a901-fd891005b0dc",
   "metadata": {},
   "outputs": [
    {
     "name": "stdout",
     "output_type": "stream",
     "text": [
      "this is first line\n",
      "this is second line\n"
     ]
    }
   ],
   "source": [
    "print(\"this is first line\\nthis is second line\")"
   ]
  },
  {
   "cell_type": "code",
   "execution_count": 54,
   "id": "30fb5f7a-f703-4439-b820-a5f67d41d334",
   "metadata": {},
   "outputs": [
    {
     "name": "stdout",
     "output_type": "stream",
     "text": [
      "this is first line\tthis is second line\n"
     ]
    }
   ],
   "source": [
    "print(\"this is first line\\tthis is second line\")"
   ]
  },
  {
   "cell_type": "code",
   "execution_count": 55,
   "id": "e11f7935-df24-410b-93f1-4df1ef5ec9ea",
   "metadata": {},
   "outputs": [
    {
     "name": "stdout",
     "output_type": "stream",
     "text": [
      "this is first line\"this is second line\n"
     ]
    }
   ],
   "source": [
    "print(\"this is first line\\\"this is second line\")"
   ]
  },
  {
   "cell_type": "code",
   "execution_count": 57,
   "id": "cb2d4274-26e9-49ba-8880-26854a00a8cf",
   "metadata": {},
   "outputs": [
    {
     "name": "stdout",
     "output_type": "stream",
     "text": [
      "this is first line\\this is second line\n"
     ]
    }
   ],
   "source": [
    "print(\"this is first line\\\\this is second line\")"
   ]
  },
  {
   "cell_type": "markdown",
   "id": "d221aeb9-db35-44fa-a065-24cc95d7ff44",
   "metadata": {},
   "source": [
    "format"
   ]
  },
  {
   "cell_type": "code",
   "execution_count": 58,
   "id": "37772c68-d2ae-47cf-bca6-cc7ca47b7d2c",
   "metadata": {},
   "outputs": [],
   "source": [
    "name = \"raj\"\n",
    "marks = 40"
   ]
  },
  {
   "cell_type": "code",
   "execution_count": 61,
   "id": "3c6c699a-af1a-4d17-91cb-1ba70474cacd",
   "metadata": {},
   "outputs": [
    {
     "data": {
      "text/plain": [
       "'my name is raj an marks are 40'"
      ]
     },
     "execution_count": 61,
     "metadata": {},
     "output_type": "execute_result"
    }
   ],
   "source": [
    "\"my name is {} an marks are {}\".format(name,marks)"
   ]
  },
  {
   "cell_type": "code",
   "execution_count": 68,
   "id": "3499030d-e80e-4089-87e3-b7075da3beac",
   "metadata": {},
   "outputs": [
    {
     "name": "stdin",
     "output_type": "stream",
     "text": [
      "Enter a string:  hello\n"
     ]
    },
    {
     "name": "stdout",
     "output_type": "stream",
     "text": [
      "total vowels: 2\n",
      "vowel count: {'a': 0, 'e': 1, 'i': 0, 'o': 1, 'u': 0}\n"
     ]
    }
   ],
   "source": [
    "#1. write a python function that takes a input. using a for loop,iterate through each character.\n",
    "# if the charaatre is vowel (a,e,i,o,u,case-insensetive),increment a counter.\n",
    "# store the count of each vowel in a dictionary. finally print the total numer of vowels found and the dictionary vowel count\n",
    "\n",
    "text = input(\"Enter a string: \")\n",
    "\n",
    "count = {'a':0,'e':0,'i':0,'o':0,'u':0}\n",
    "total=0\n",
    "\n",
    "for ch in text.lower():\n",
    "    if ch =='a':\n",
    "        count['a']+=1\n",
    "        total+=1\n",
    "    elif ch =='e':\n",
    "        count['e']+=1\n",
    "        total+=1\n",
    "    elif ch =='i':\n",
    "        count['i']+=1\n",
    "        total+=1\n",
    "    elif ch =='o':\n",
    "        count['o']+=1\n",
    "        total+=1\n",
    "    elif ch =='u':\n",
    "        count['u']+=1\n",
    "        total+=1\n",
    "\n",
    "print(\"total vowels:\",total)\n",
    "print(\"vowel count:\",count)\n",
    "\n"
   ]
  },
  {
   "cell_type": "markdown",
   "id": "7a42f62f-49e6-4638-b1af-3173a8a311cc",
   "metadata": {},
   "source": [
    "palindrome checker with list"
   ]
  },
  {
   "cell_type": "code",
   "execution_count": 74,
   "id": "18cb3625-aef8-448f-8e38-d82f058f9f8a",
   "metadata": {},
   "outputs": [
    {
     "name": "stdin",
     "output_type": "stream",
     "text": [
      "enter the string: radar\n"
     ]
    },
    {
     "name": "stdout",
     "output_type": "stream",
     "text": [
      "the string is a palindrome\n"
     ]
    }
   ],
   "source": [
    "s = input(\"enter the string:\")\n",
    "reversed_list = []\n",
    "for i in s:\n",
    "    reversed_list.insert(0, i)\n",
    "reversed_str = ''.join(reversed_list)\n",
    "if s == reversed_str:\n",
    "        print(\"the string is a palindrome\")\n",
    "else:\n",
    "        print(\"the string is not  a palindrome\")\n",
    "\n",
    "    "
   ]
  },
  {
   "cell_type": "markdown",
   "id": "1392d995-5a20-4f31-97e0-27e108178410",
   "metadata": {},
   "source": [
    "3_character freuency counter"
   ]
  },
  {
   "cell_type": "code",
   "execution_count": 75,
   "id": "18c71aea-c338-4b1a-aec4-b62b9afee8e6",
   "metadata": {},
   "outputs": [
    {
     "name": "stdin",
     "output_type": "stream",
     "text": [
      "enter the string: welcome\n"
     ]
    },
    {
     "name": "stdout",
     "output_type": "stream",
     "text": [
      "{'w': 1, 'e': 2, 'l': 1, 'c': 1, 'o': 1, 'm': 1}\n"
     ]
    }
   ],
   "source": [
    "s = input(\"enter the string:\")\n",
    "\n",
    "freq = {}\n",
    "\n",
    "for i in s:\n",
    "    if i in freq:\n",
    "        freq[i] = freq[ch] + 1\n",
    "    else:\n",
    "        freq[i] = 1\n",
    "print(freq)"
   ]
  },
  {
   "cell_type": "markdown",
   "id": "f3230d89-9c2f-4d51-a367-6c4ac15f6f8f",
   "metadata": {},
   "source": [
    "4_word lenght classification"
   ]
  },
  {
   "cell_type": "code",
   "execution_count": 79,
   "id": "e9851286-518c-4f4f-bd45-4ab9b20d42ae",
   "metadata": {},
   "outputs": [
    {
     "name": "stdin",
     "output_type": "stream",
     "text": [
      "enter the string: welcome to python world\n"
     ]
    },
    {
     "name": "stdout",
     "output_type": "stream",
     "text": [
      "shortwords: ['to']\n",
      "mediun words: ['welcome', 'python', 'world']\n",
      "long words: []\n"
     ]
    }
   ],
   "source": [
    "s = input(\"enter the string:\")\n",
    "\n",
    "words = s.split()\n",
    "short_words = []\n",
    "medium_words = []\n",
    "long_words = []\n",
    "\n",
    "for i in words:\n",
    "    if len(i) < 5:\n",
    "        short_words.append(i)\n",
    "    elif len(i) <= 8:\n",
    "        medium_words.append(i)\n",
    "    else:\n",
    "        long_words.append(i)\n",
    "\n",
    "print(\"shortwords:\",short_words)\n",
    "print(\"mediun words:\",medium_words)\n",
    "print(\"long words:\",long_words)\n"
   ]
  },
  {
   "cell_type": "markdown",
   "id": "d8dec228-cc49-4b29-ba6d-1a1e0249fb20",
   "metadata": {},
   "source": [
    "5_substring with specific start/end:"
   ]
  },
  {
   "cell_type": "code",
   "execution_count": 3,
   "id": "491ffe8f-b560-44da-a054-f98ed736777e",
   "metadata": {},
   "outputs": [
    {
     "name": "stdout",
     "output_type": "stream",
     "text": [
      "Matching strings: ['python', 'pythonthon', 'py123thon']\n"
     ]
    }
   ],
   "source": [
    "def find_matching_strings(strings, prefix, suffix):\n",
    "    matching_strings = []\n",
    "    for s in strings:\n",
    "        if s.startswith(prefix) and s.endswith(suffix):\n",
    "            matching_strings.append(s)\n",
    "    print(\"Matching strings:\", matching_strings)\n",
    "strings = [\"python\", \"pythonic\", \"pythonthon\", \"py123thon\", \"java\", \"pyjava\"]\n",
    "find_matching_strings(strings, \"py\", \"thon\")\n",
    "\n"
   ]
  },
  {
   "cell_type": "markdown",
   "id": "9e451dc4-7d3c-48b0-be8a-907812c36abb",
   "metadata": {},
   "source": [
    "6. Unique Word Extractor"
   ]
  },
  {
   "cell_type": "code",
   "execution_count": 6,
   "id": "b7bc68e4-0235-4a05-8c54-7dd65ecad2b9",
   "metadata": {},
   "outputs": [
    {
     "name": "stdout",
     "output_type": "stream",
     "text": [
      "Unique sorted words: ['easy', 'great', 'is', 'learn', 'python', 'to']\n"
     ]
    }
   ],
   "source": [
    "import string\n",
    "\n",
    "def extract_unique_words(paragraph):\n",
    "    paragraph = paragraph.lower()\n",
    "    for p in string.punctuation:\n",
    "        paragraph = paragraph.replace(p, \"\")\n",
    "    unique_words = set()\n",
    "    for word in paragraph.split():\n",
    "        unique_words.add(word)\n",
    "    sorted_words = sorted(list(unique_words))\n",
    "    print(\"Unique sorted words:\", sorted_words)\n",
    "\n",
    "text = \"Python is great! Python is easy to learn.\"\n",
    "extract_unique_words(text)\n"
   ]
  },
  {
   "cell_type": "markdown",
   "id": "0209dfdd-e8e8-42c4-9fa8-f41374502e31",
   "metadata": {},
   "source": [
    "7. Even/Odd Indexed Character Separator\n",
    "\n"
   ]
  },
  {
   "cell_type": "code",
   "execution_count": 7,
   "id": "eac63b61-2b4e-46f7-84ae-ce01d143c6f0",
   "metadata": {},
   "outputs": [
    {
     "name": "stdout",
     "output_type": "stream",
     "text": [
      "Even index characters: ['H', 'l', 'o', 'o', 'l']\n",
      "Odd index characters: ['e', 'l', 'W', 'r', 'd']\n"
     ]
    }
   ],
   "source": [
    "def separate_indices(text):\n",
    "    even_chars = []\n",
    "    odd_chars = []\n",
    "    for i, char in enumerate(text):\n",
    "        if i % 2 == 0:\n",
    "            even_chars.append(char)\n",
    "        else:\n",
    "            odd_chars.append(char)\n",
    "    print(\"Even index characters:\", even_chars)\n",
    "    print(\"Odd index characters:\", odd_chars)\n",
    "input_str = \"HelloWorld\"\n",
    "separate_indices(input_str)\n"
   ]
  },
  {
   "cell_type": "markdown",
   "id": "c8273165-75a4-48a9-86c1-6e97e7c01651",
   "metadata": {},
   "source": [
    "8. String Anagram Checker"
   ]
  },
  {
   "cell_type": "code",
   "execution_count": 8,
   "id": "3c3a4549-7ea9-48eb-b670-c106363fe384",
   "metadata": {},
   "outputs": [
    {
     "name": "stdout",
     "output_type": "stream",
     "text": [
      "\"listen\" and \"silent\" are anagrams.\n",
      "\"hello\" and \"world\" are NOT anagrams.\n"
     ]
    }
   ],
   "source": [
    "def is_anagram(str1, str2):\n",
    "    list1 = sorted(list(str1))\n",
    "    list2 = sorted(list(str2))\n",
    "    if list1 == list2:\n",
    "        print(f'\"{str1}\" and \"{str2}\" are anagrams.')\n",
    "    else:\n",
    "        print(f'\"{str1}\" and \"{str2}\" are NOT anagrams.')\n",
    "\n",
    "is_anagram(\"listen\", \"silent\")\n",
    "is_anagram(\"hello\", \"world\")\n"
   ]
  },
  {
   "cell_type": "markdown",
   "id": "65743010-729b-4ad3-9a47-7dd92ad0eb85",
   "metadata": {},
   "source": [
    "9. Missing Character Finder (Alphabet Check)"
   ]
  },
  {
   "cell_type": "code",
   "execution_count": 9,
   "id": "18c3d605-4b13-40ef-be40-057e82bf8b32",
   "metadata": {},
   "outputs": [
    {
     "name": "stdout",
     "output_type": "stream",
     "text": [
      "Missing letters: []\n",
      "Missing letters: ['a', 'b', 'c', 'f', 'g', 'i', 'j', 'k', 'm', 'n', 'p', 'q', 's', 't', 'u', 'v', 'x', 'y', 'z']\n"
     ]
    }
   ],
   "source": [
    "def find_letters(text):\n",
    "    all_letters = set('abcdefghijklmnopqrstuvwxyz') \n",
    "    for char in text.lower():\n",
    "        if char in all_letters:\n",
    "            all_letters.discard(char)\n",
    "    print(\"Missing letters:\", sorted(all_letters))\n",
    "\n",
    "find_letters(\"The quick brown fox jumps over the lazy dog\")\n",
    "find_letters(\"Hello World\")\n"
   ]
  },
  {
   "cell_type": "markdown",
   "id": "55485818-2f20-4b79-b5e0-cc4905cf2c86",
   "metadata": {},
   "source": [
    "10. Custom String Reversal (Word by Word)"
   ]
  },
  {
   "cell_type": "code",
   "execution_count": 10,
   "id": "242de666-ac3b-4218-8fcc-c6317086b817",
   "metadata": {},
   "outputs": [
    {
     "name": "stdout",
     "output_type": "stream",
     "text": [
      "Reversed sentence: World Hello\n",
      "Reversed sentence: fun is Python\n"
     ]
    }
   ],
   "source": [
    "def reverse_sentence(sentence):\n",
    "    words = []\n",
    "    for word in sentence.split():\n",
    "        words.append(word)\n",
    "    reversed_words = words[::-1]  \n",
    "    reversed_sentence = ' '.join(reversed_words)\n",
    "    print(\"Reversed sentence:\", reversed_sentence)\n",
    "\n",
    "reverse_sentence(\"Hello World\")\n",
    "reverse_sentence(\"Python is fun\")\n"
   ]
  },
  {
   "cell_type": "code",
   "execution_count": null,
   "id": "fd5954e5-49c8-410c-945e-0e6c7e6c2c28",
   "metadata": {},
   "outputs": [],
   "source": []
  }
 ],
 "metadata": {
  "kernelspec": {
   "display_name": "Python [conda env:base] *",
   "language": "python",
   "name": "conda-base-py"
  },
  "language_info": {
   "codemirror_mode": {
    "name": "ipython",
    "version": 3
   },
   "file_extension": ".py",
   "mimetype": "text/x-python",
   "name": "python",
   "nbconvert_exporter": "python",
   "pygments_lexer": "ipython3",
   "version": "3.12.7"
  }
 },
 "nbformat": 4,
 "nbformat_minor": 5
}
