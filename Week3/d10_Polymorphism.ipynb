{
 "cells": [
  {
   "cell_type": "markdown",
   "id": "d2409a96-30bf-4a78-997b-1ee4042f0286",
   "metadata": {},
   "source": [
    "# Polymorphism"
   ]
  },
  {
   "cell_type": "markdown",
   "id": "62fa0739-9335-4d3c-b2bc-d23c21c6b1ad",
   "metadata": {},
   "source": [
    "Simple idea:- The ability for different objects to respond to the same method call in their own, unique way. The nmae means \"many forms\""
   ]
  },
  {
   "cell_type": "code",
   "execution_count": 19,
   "id": "44327e56-096f-47be-9fc6-73d1d078182f",
   "metadata": {},
   "outputs": [],
   "source": [
    "class Dog:\n",
    "    def speak(self):\n",
    "        print(\"Bark....\")\n",
    "\n",
    "class Cat:\n",
    "    def speak(self):\n",
    "        print(\"Meow...\")\n",
    "def animal_speak(animal):\n",
    "    animal.speak()"
   ]
  },
  {
   "cell_type": "code",
   "execution_count": 20,
   "id": "40d1d2ec-332f-40b3-bfac-fc8bf6bf9087",
   "metadata": {},
   "outputs": [],
   "source": [
    "dog = Dog()\n",
    "cat = Cat()"
   ]
  },
  {
   "cell_type": "code",
   "execution_count": 22,
   "id": "e55fd725-ff7f-4b61-b866-f1177b94dbac",
   "metadata": {},
   "outputs": [
    {
     "name": "stdout",
     "output_type": "stream",
     "text": [
      "Bark....\n"
     ]
    }
   ],
   "source": [
    "animal_speak(dog)"
   ]
  },
  {
   "cell_type": "code",
   "execution_count": 23,
   "id": "c9de0cb8-cd49-4a0e-9705-001c9bf75b90",
   "metadata": {},
   "outputs": [
    {
     "name": "stdout",
     "output_type": "stream",
     "text": [
      "Meow...\n"
     ]
    }
   ],
   "source": [
    "animal_speak(cat)"
   ]
  },
  {
   "cell_type": "markdown",
   "id": "f56961ee-9375-441b-bbbb-9e21cab9ab6a",
   "metadata": {},
   "source": [
    "# Operator Overloading"
   ]
  },
  {
   "cell_type": "markdown",
   "id": "c382c21f-21b6-4bca-99c4-9e46115163ec",
   "metadata": {},
   "source": [
    "Operator overloading allows you to redefine how standard operators like +,-,*,==,and > with your custom objects\n",
    "Essentially, ypure giving special meaning to these operators for a class you have created."
   ]
  },
  {
   "cell_type": "code",
   "execution_count": 24,
   "id": "cc45d90e-3709-43cf-9ec4-96e5d1aba0ab",
   "metadata": {},
   "outputs": [],
   "source": [
    "class A:\n",
    "    def __init__(self, a):\n",
    "        self.a = a\n",
    "\n",
    "    def __add__(self, o):\n",
    "        return self.a + o.a\n",
    "        "
   ]
  },
  {
   "cell_type": "code",
   "execution_count": 25,
   "id": "35ee7a27-afc5-45b5-804a-a29fdebc8d84",
   "metadata": {},
   "outputs": [],
   "source": [
    "obj1 = A(23)\n",
    "obj2 = A(77)"
   ]
  },
  {
   "cell_type": "code",
   "execution_count": 26,
   "id": "b4cc2e10-d8a2-4e09-b73b-ad51b2323c1f",
   "metadata": {},
   "outputs": [
    {
     "data": {
      "text/plain": [
       "100"
      ]
     },
     "execution_count": 26,
     "metadata": {},
     "output_type": "execute_result"
    }
   ],
   "source": [
    "obj1 + obj2"
   ]
  },
  {
   "cell_type": "code",
   "execution_count": 27,
   "id": "dee44709-b970-4ddf-a364-19f6cf8afc31",
   "metadata": {},
   "outputs": [],
   "source": [
    "obj3 = A('Pune')\n",
    "obj4 = A('Maharashtra')"
   ]
  },
  {
   "cell_type": "code",
   "execution_count": 28,
   "id": "6a61ae2a-402a-4583-b115-7d90819898e9",
   "metadata": {},
   "outputs": [
    {
     "data": {
      "text/plain": [
       "'PuneMaharashtra'"
      ]
     },
     "execution_count": 28,
     "metadata": {},
     "output_type": "execute_result"
    }
   ],
   "source": [
    "obj3 + obj4"
   ]
  },
  {
   "cell_type": "markdown",
   "id": "cf4d6d81-c639-42b9-848d-925d430a6f72",
   "metadata": {},
   "source": [
    "# Destructor"
   ]
  },
  {
   "cell_type": "markdown",
   "id": "2c7cb577-d13c-4193-899c-527ff92a71d3",
   "metadata": {},
   "source": [
    "A destructor is a special menber function of a class that is automatically called whne an objcet of that class is destroyed..\n",
    "Its primary purpose is ot deallocate any resource that the obj might have aquired during its lifetime, such as dynamically\n",
    "allocated memory, file handles, or network connections."
   ]
  },
  {
   "cell_type": "code",
   "execution_count": 38,
   "id": "9bf26f66-20fe-4361-aeea-8ae587d88652",
   "metadata": {},
   "outputs": [],
   "source": [
    "class Employee:\n",
    "    def __init__(self):           #constructor\n",
    "        print('object created')\n",
    "    def __del__(self):            #destructor\n",
    "        print('object deleted')"
   ]
  },
  {
   "cell_type": "code",
   "execution_count": 39,
   "id": "9ac12890-0eb1-4f48-8b33-5fbf56b65689",
   "metadata": {},
   "outputs": [
    {
     "name": "stdout",
     "output_type": "stream",
     "text": [
      "object created\n"
     ]
    }
   ],
   "source": [
    "emp = Employee()"
   ]
  },
  {
   "cell_type": "code",
   "execution_count": 40,
   "id": "15723f41-8ce4-4d65-8196-4519203dec33",
   "metadata": {},
   "outputs": [
    {
     "name": "stdout",
     "output_type": "stream",
     "text": [
      "object deleted\n"
     ]
    }
   ],
   "source": [
    "del emp"
   ]
  },
  {
   "cell_type": "code",
   "execution_count": null,
   "id": "a974b80f-4786-48f1-8ee1-208af67ac846",
   "metadata": {},
   "outputs": [],
   "source": []
  }
 ],
 "metadata": {
  "kernelspec": {
   "display_name": "Python [conda env:base] *",
   "language": "python",
   "name": "conda-base-py"
  },
  "language_info": {
   "codemirror_mode": {
    "name": "ipython",
    "version": 3
   },
   "file_extension": ".py",
   "mimetype": "text/x-python",
   "name": "python",
   "nbconvert_exporter": "python",
   "pygments_lexer": "ipython3",
   "version": "3.12.7"
  }
 },
 "nbformat": 4,
 "nbformat_minor": 5
}
