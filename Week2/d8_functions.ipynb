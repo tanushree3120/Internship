{
 "cells": [
  {
   "cell_type": "code",
   "execution_count": 1,
   "id": "5899707c-caea-4670-b8da-329b98aa81a3",
   "metadata": {},
   "outputs": [
    {
     "name": "stdout",
     "output_type": "stream",
     "text": [
      "hello\n",
      "ok\n",
      "bye\n"
     ]
    }
   ],
   "source": [
    "print(\"hello\")\n",
    "print(\"ok\")\n",
    "print(\"bye\")"
   ]
  },
  {
   "cell_type": "code",
   "execution_count": 2,
   "id": "8625baee-127e-48cc-9000-947cd2f416b8",
   "metadata": {},
   "outputs": [],
   "source": [
    "def show():           #function definition\n",
    "    print(\"hello\")\n",
    "    print(\"ok\")\n",
    "    print(\"bye\")"
   ]
  },
  {
   "cell_type": "code",
   "execution_count": 3,
   "id": "8d717f9c-dbc0-4b90-a1de-90e990dd227b",
   "metadata": {},
   "outputs": [
    {
     "name": "stdout",
     "output_type": "stream",
     "text": [
      "hello\n",
      "ok\n",
      "bye\n"
     ]
    }
   ],
   "source": [
    "show()       #function call"
   ]
  },
  {
   "cell_type": "code",
   "execution_count": 4,
   "id": "6c58317c-8842-44fc-a0f6-01679e39f248",
   "metadata": {},
   "outputs": [
    {
     "name": "stdout",
     "output_type": "stream",
     "text": [
      "hello\n",
      "ok\n",
      "bye\n",
      "hello\n",
      "ok\n",
      "bye\n"
     ]
    }
   ],
   "source": [
    "show()\n",
    "show()\n"
   ]
  },
  {
   "cell_type": "markdown",
   "id": "fbac1ecc-c47a-43e1-9092-1049aa6a8e4a",
   "metadata": {},
   "source": [
    "parameterized function"
   ]
  },
  {
   "cell_type": "code",
   "execution_count": 5,
   "id": "4c615138-6277-4103-b79f-0d44825d3084",
   "metadata": {},
   "outputs": [],
   "source": [
    "def sq(num):\n",
    "    result = num * num\n",
    "    print(result)"
   ]
  },
  {
   "cell_type": "code",
   "execution_count": 6,
   "id": "e47ef97c-a541-4d33-b971-5a12fed521a2",
   "metadata": {},
   "outputs": [
    {
     "name": "stdout",
     "output_type": "stream",
     "text": [
      "25\n"
     ]
    }
   ],
   "source": [
    "sq(5)"
   ]
  },
  {
   "cell_type": "code",
   "execution_count": 7,
   "id": "04caa2ae-ee60-4217-8412-123e96fd67fb",
   "metadata": {},
   "outputs": [],
   "source": [
    "#find largest between two numbers\n",
    "\n",
    "\n",
    "def largest(a, b):\n",
    "    if a > b:\n",
    "        print(\"largest is :\",a)\n",
    "    elif a == b:\n",
    "        print(\"both are equal\")\n",
    "    else:\n",
    "        print(\"larrgest is:\",b)"
   ]
  },
  {
   "cell_type": "code",
   "execution_count": 8,
   "id": "554d92b9-7d59-41cc-a6b7-c0ee5f0feea1",
   "metadata": {},
   "outputs": [
    {
     "name": "stdout",
     "output_type": "stream",
     "text": [
      "largest is : 10\n"
     ]
    }
   ],
   "source": [
    "largest(10, 3)"
   ]
  },
  {
   "cell_type": "code",
   "execution_count": 16,
   "id": "bd8a7104-a019-45c4-8299-5ce067d93fee",
   "metadata": {},
   "outputs": [],
   "source": [
    "# function to print the 'name'....'n' times (2 para)\n",
    "\n",
    "def name(n, name):\n",
    "    for n in range(n):\n",
    "      print(name)"
   ]
  },
  {
   "cell_type": "code",
   "execution_count": 17,
   "id": "d0f4e942-3935-42f3-92c0-85429a80f675",
   "metadata": {},
   "outputs": [
    {
     "name": "stdout",
     "output_type": "stream",
     "text": [
      "pune\n",
      "pune\n",
      "pune\n",
      "pune\n",
      "pune\n"
     ]
    }
   ],
   "source": [
    "name(5, 'pune')"
   ]
  },
  {
   "cell_type": "code",
   "execution_count": 39,
   "id": "77960011-3cc5-49ce-afc6-0c9dc368ce26",
   "metadata": {},
   "outputs": [],
   "source": [
    "# create a function to find the factorial\n",
    "\n",
    "def factorail(n):\n",
    "    fact = 1\n",
    "    for i in range(1, n+1):\n",
    "        fact = fact * i\n",
    "    print(fact)"
   ]
  },
  {
   "cell_type": "code",
   "execution_count": 40,
   "id": "38d358ef-fe41-4d19-90e9-0204757aa150",
   "metadata": {},
   "outputs": [
    {
     "name": "stdout",
     "output_type": "stream",
     "text": [
      "3628800\n"
     ]
    }
   ],
   "source": [
    "factorail(10)"
   ]
  },
  {
   "cell_type": "markdown",
   "id": "0089db97-e773-4e45-ab19-f7a6b93b9018",
   "metadata": {},
   "source": [
    " function returning values"
   ]
  },
  {
   "cell_type": "code",
   "execution_count": 41,
   "id": "80a68f78-f4f7-461b-b518-78242534ffe6",
   "metadata": {},
   "outputs": [],
   "source": [
    "def sq(num):\n",
    "    res = num * num\n",
    "    return res"
   ]
  },
  {
   "cell_type": "code",
   "execution_count": 42,
   "id": "0f7ad7ce-d403-45e9-b255-64b33fadf43b",
   "metadata": {},
   "outputs": [
    {
     "data": {
      "text/plain": [
       "100"
      ]
     },
     "execution_count": 42,
     "metadata": {},
     "output_type": "execute_result"
    }
   ],
   "source": [
    "sq(10)"
   ]
  },
  {
   "cell_type": "code",
   "execution_count": 43,
   "id": "11570eeb-97d0-46d4-9dfa-e0bb5ef3583e",
   "metadata": {},
   "outputs": [],
   "source": [
    "def sq(num):\n",
    "    return num*num"
   ]
  },
  {
   "cell_type": "code",
   "execution_count": 44,
   "id": "48af590b-4f2d-4230-88d7-b8657d6a1dca",
   "metadata": {},
   "outputs": [
    {
     "data": {
      "text/plain": [
       "529"
      ]
     },
     "execution_count": 44,
     "metadata": {},
     "output_type": "execute_result"
    }
   ],
   "source": [
    "sq(23)"
   ]
  },
  {
   "cell_type": "markdown",
   "id": "503980fd-9f2e-4e48-b7b3-e88fc98ff00c",
   "metadata": {},
   "source": [
    "difference between return and print "
   ]
  },
  {
   "cell_type": "code",
   "execution_count": 45,
   "id": "41287087-0aa0-4ac2-a275-9e909367d1ac",
   "metadata": {},
   "outputs": [],
   "source": [
    "def add1(a, b): \n",
    "    print(a + b)"
   ]
  },
  {
   "cell_type": "code",
   "execution_count": 46,
   "id": "2fdedff5-994f-41be-ae75-b8fb25ad9d0b",
   "metadata": {},
   "outputs": [
    {
     "name": "stdout",
     "output_type": "stream",
     "text": [
      "69\n"
     ]
    }
   ],
   "source": [
    "add1(2, 67)"
   ]
  },
  {
   "cell_type": "code",
   "execution_count": 48,
   "id": "973b5407-f966-44c9-bcbf-5a87d9dc1d96",
   "metadata": {},
   "outputs": [
    {
     "name": "stdout",
     "output_type": "stream",
     "text": [
      "54\n"
     ]
    }
   ],
   "source": [
    "i = add1(50, 4)"
   ]
  },
  {
   "cell_type": "code",
   "execution_count": 49,
   "id": "471f54f1-e35d-4c87-a6ae-e25cc72991f2",
   "metadata": {},
   "outputs": [
    {
     "name": "stdout",
     "output_type": "stream",
     "text": [
      "None\n"
     ]
    }
   ],
   "source": [
    "print(i)"
   ]
  },
  {
   "cell_type": "code",
   "execution_count": 54,
   "id": "037bd2b6-8921-4982-987e-a18c0c222e8c",
   "metadata": {},
   "outputs": [],
   "source": [
    "def add2(a, b):     # uisng return \n",
    "    return a + b"
   ]
  },
  {
   "cell_type": "code",
   "execution_count": 55,
   "id": "5e85f332-7e19-4735-8135-023e5c598faa",
   "metadata": {},
   "outputs": [
    {
     "data": {
      "text/plain": [
       "35"
      ]
     },
     "execution_count": 55,
     "metadata": {},
     "output_type": "execute_result"
    }
   ],
   "source": [
    "add2(30 , 5)"
   ]
  },
  {
   "cell_type": "code",
   "execution_count": 56,
   "id": "eb5c1ff4-9b51-4a2a-bfa3-1231de516ddd",
   "metadata": {},
   "outputs": [],
   "source": [
    "i = add2(50, 4) +4"
   ]
  },
  {
   "cell_type": "code",
   "execution_count": 57,
   "id": "35616d32-6f21-4080-bb3b-0bf1b06933f6",
   "metadata": {},
   "outputs": [
    {
     "data": {
      "text/plain": [
       "58"
      ]
     },
     "execution_count": 57,
     "metadata": {},
     "output_type": "execute_result"
    }
   ],
   "source": [
    "i"
   ]
  },
  {
   "cell_type": "code",
   "execution_count": 58,
   "id": "f2aae3e7-e359-46a8-999d-f9400861b04e",
   "metadata": {},
   "outputs": [],
   "source": [
    "#find additin of 3 numbers\n",
    "\n",
    "\n",
    "def add(a, b , c):\n",
    "    return a + b + c"
   ]
  },
  {
   "cell_type": "code",
   "execution_count": 59,
   "id": "c3c5e957-ab8d-4780-b02b-18ff3e5a0893",
   "metadata": {},
   "outputs": [
    {
     "data": {
      "text/plain": [
       "124"
      ]
     },
     "execution_count": 59,
     "metadata": {},
     "output_type": "execute_result"
    }
   ],
   "source": [
    "add(12, 45, 67)"
   ]
  },
  {
   "cell_type": "code",
   "execution_count": 60,
   "id": "568f609a-058c-4659-b439-cd283dae17ae",
   "metadata": {},
   "outputs": [],
   "source": [
    "def cal(a):\n",
    "    sq = a * a\n",
    "    cu = a ** 3\n",
    "    return sq, cu"
   ]
  },
  {
   "cell_type": "code",
   "execution_count": 61,
   "id": "14ebb705-0a05-409a-ae12-d002b80d633d",
   "metadata": {},
   "outputs": [
    {
     "data": {
      "text/plain": [
       "(9, 27)"
      ]
     },
     "execution_count": 61,
     "metadata": {},
     "output_type": "execute_result"
    }
   ],
   "source": [
    "cal(3)"
   ]
  },
  {
   "cell_type": "markdown",
   "id": "ec511464-116b-4ae0-9914-b8c06044880f",
   "metadata": {},
   "source": [
    " default parameters"
   ]
  },
  {
   "cell_type": "code",
   "execution_count": 62,
   "id": "3d39e77e-d68d-460d-83b0-483940e8f159",
   "metadata": {},
   "outputs": [],
   "source": [
    "\n",
    "def add(a = 10, b = 34 , c = 56):\n",
    "    return a + b + c"
   ]
  },
  {
   "cell_type": "code",
   "execution_count": 63,
   "id": "b191fa91-f8e4-4097-9b04-1b12e37c9f2f",
   "metadata": {},
   "outputs": [
    {
     "data": {
      "text/plain": [
       "93"
      ]
     },
     "execution_count": 63,
     "metadata": {},
     "output_type": "execute_result"
    }
   ],
   "source": [
    "add(3)"
   ]
  },
  {
   "cell_type": "code",
   "execution_count": 64,
   "id": "d161ead5-b59a-42b1-a1db-bf58eddada6d",
   "metadata": {},
   "outputs": [
    {
     "data": {
      "text/plain": [
       "60"
      ]
     },
     "execution_count": 64,
     "metadata": {},
     "output_type": "execute_result"
    }
   ],
   "source": [
    "add(3 , 1)"
   ]
  },
  {
   "cell_type": "code",
   "execution_count": 65,
   "id": "b003d846-4115-4c1c-a0e3-a97c5c422e74",
   "metadata": {},
   "outputs": [
    {
     "data": {
      "text/plain": [
       "45"
      ]
     },
     "execution_count": 65,
     "metadata": {},
     "output_type": "execute_result"
    }
   ],
   "source": [
    "add(c = 1)"
   ]
  },
  {
   "cell_type": "code",
   "execution_count": 3,
   "id": "054f432a-1955-4817-a993-02cf3a826a3a",
   "metadata": {},
   "outputs": [],
   "source": [
    "def add(a = 1, b = 34):\n",
    "    return a + b + c"
   ]
  },
  {
   "cell_type": "code",
   "execution_count": 74,
   "id": "7a0b5e0a-f763-41dc-bbf7-fcf672a871e0",
   "metadata": {},
   "outputs": [
    {
     "data": {
      "text/plain": [
       "100"
      ]
     },
     "execution_count": 74,
     "metadata": {},
     "output_type": "execute_result"
    }
   ],
   "source": [
    "add(a = 10)"
   ]
  },
  {
   "cell_type": "markdown",
   "id": "10737aeb-0723-4fa7-aa19-4a0cafd90b2a",
   "metadata": {},
   "source": [
    "variable length arguments"
   ]
  },
  {
   "cell_type": "code",
   "execution_count": 75,
   "id": "447a91ae-a5c1-4e5a-86a4-9ad9786e38fb",
   "metadata": {},
   "outputs": [],
   "source": [
    "def ini(*args):\n",
    "    return args"
   ]
  },
  {
   "cell_type": "code",
   "execution_count": 76,
   "id": "920e84e3-087e-473e-bea3-1978917c04a0",
   "metadata": {},
   "outputs": [
    {
     "data": {
      "text/plain": [
       "(10, 20, 34, 58, 92)"
      ]
     },
     "execution_count": 76,
     "metadata": {},
     "output_type": "execute_result"
    }
   ],
   "source": [
    "ini(10, 20 ,34, 58, 92)"
   ]
  },
  {
   "cell_type": "code",
   "execution_count": 85,
   "id": "5044309f-1cce-4dec-999c-0d79da1e9587",
   "metadata": {},
   "outputs": [],
   "source": [
    "# pass any number of a arguments and return the addition\n",
    "\n",
    "def add(*args):\n",
    "    add = 0\n",
    "    for i in args:\n",
    "        add = add + i\n",
    "    return add\n",
    "    "
   ]
  },
  {
   "cell_type": "code",
   "execution_count": 86,
   "id": "bcfa81a2-166f-428a-ac8c-07470aa8c20c",
   "metadata": {},
   "outputs": [
    {
     "data": {
      "text/plain": [
       "60"
      ]
     },
     "execution_count": 86,
     "metadata": {},
     "output_type": "execute_result"
    }
   ],
   "source": [
    "add(10, 20, 30)"
   ]
  },
  {
   "cell_type": "markdown",
   "id": "2dddef3f-7d61-42d6-a9e5-00b01cade8b7",
   "metadata": {},
   "source": [
    "anonymous function"
   ]
  },
  {
   "cell_type": "code",
   "execution_count": 87,
   "id": "62a394a1-ea13-486d-a9a4-b429b0714212",
   "metadata": {},
   "outputs": [],
   "source": [
    "# lamda fumction"
   ]
  },
  {
   "cell_type": "code",
   "execution_count": 88,
   "id": "f03ea0fc-3d25-4987-90fa-761e04e091ec",
   "metadata": {},
   "outputs": [],
   "source": [
    "squ = lambda a: a*a"
   ]
  },
  {
   "cell_type": "code",
   "execution_count": 89,
   "id": "42bed673-5a66-4be6-8bb4-dc4df117d9ba",
   "metadata": {},
   "outputs": [
    {
     "data": {
      "text/plain": [
       "9"
      ]
     },
     "execution_count": 89,
     "metadata": {},
     "output_type": "execute_result"
    }
   ],
   "source": [
    "squ(3)"
   ]
  },
  {
   "cell_type": "code",
   "execution_count": 93,
   "id": "d1cfb275-d7ba-4d69-8188-f16cd3fc4e6d",
   "metadata": {},
   "outputs": [],
   "source": [
    "add = lambda a, b: a + b"
   ]
  },
  {
   "cell_type": "code",
   "execution_count": 94,
   "id": "2a950a72-64dd-4c05-a906-c6b04d2e6ecb",
   "metadata": {},
   "outputs": [
    {
     "data": {
      "text/plain": [
       "13"
      ]
     },
     "execution_count": 94,
     "metadata": {},
     "output_type": "execute_result"
    }
   ],
   "source": [
    "add(10, 3)"
   ]
  },
  {
   "cell_type": "code",
   "execution_count": 95,
   "id": "a11d49af-0c9e-4024-88da-e22c55f5b947",
   "metadata": {},
   "outputs": [],
   "source": [
    "# filter"
   ]
  },
  {
   "cell_type": "code",
   "execution_count": 96,
   "id": "90a87878-a761-4ed4-98b8-40f84559e659",
   "metadata": {},
   "outputs": [],
   "source": [
    "l = [34, 56, 77 ,11, 23, 40]"
   ]
  },
  {
   "cell_type": "code",
   "execution_count": 97,
   "id": "7c0bce8c-1892-4f3b-b9dc-1daf2ec571c3",
   "metadata": {},
   "outputs": [],
   "source": [
    "nl = filter(lambda x: x > 40, l)"
   ]
  },
  {
   "cell_type": "code",
   "execution_count": 98,
   "id": "797fd2b2-cd9d-407b-a58c-6972811405c9",
   "metadata": {},
   "outputs": [
    {
     "data": {
      "text/plain": [
       "[56, 77]"
      ]
     },
     "execution_count": 98,
     "metadata": {},
     "output_type": "execute_result"
    }
   ],
   "source": [
    "list(nl)"
   ]
  },
  {
   "cell_type": "code",
   "execution_count": 99,
   "id": "f17cb345-473c-4a71-92fe-d5fe890117d1",
   "metadata": {},
   "outputs": [],
   "source": [
    "# map"
   ]
  },
  {
   "cell_type": "code",
   "execution_count": 102,
   "id": "7680bccc-7595-40c1-881a-1a392a69019c",
   "metadata": {},
   "outputs": [],
   "source": [
    "nl1 = map(lambda x: x * x, l)"
   ]
  },
  {
   "cell_type": "code",
   "execution_count": 103,
   "id": "74d058ff-9001-446f-b345-df9c48c73a13",
   "metadata": {},
   "outputs": [
    {
     "data": {
      "text/plain": [
       "[1156, 3136, 5929, 121, 529, 1600]"
      ]
     },
     "execution_count": 103,
     "metadata": {},
     "output_type": "execute_result"
    }
   ],
   "source": [
    "list(nl1)"
   ]
  },
  {
   "cell_type": "code",
   "execution_count": 104,
   "id": "c9037feb-d367-47a0-b452-10bba774352e",
   "metadata": {},
   "outputs": [],
   "source": [
    "nl = map(lambda x: x > 40, l)"
   ]
  },
  {
   "cell_type": "code",
   "execution_count": 105,
   "id": "4c19007c-7e49-4d5a-be7b-7afd446552db",
   "metadata": {},
   "outputs": [
    {
     "data": {
      "text/plain": [
       "[False, True, True, False, False, False]"
      ]
     },
     "execution_count": 105,
     "metadata": {},
     "output_type": "execute_result"
    }
   ],
   "source": [
    "list(nl)"
   ]
  },
  {
   "cell_type": "markdown",
   "id": "77ddb908-e3c9-4639-ae6c-7b8a20f099cb",
   "metadata": {},
   "source": [
    "01_write a python program to find HCF or GCD"
   ]
  },
  {
   "cell_type": "code",
   "execution_count": 106,
   "id": "ad192c40-7e3a-4b7e-b13b-6814b0673c56",
   "metadata": {},
   "outputs": [
    {
     "name": "stdout",
     "output_type": "stream",
     "text": [
      "The HCF/GCD of 36 and 60 is: 12\n"
     ]
    }
   ],
   "source": [
    "import math\n",
    "\n",
    "a = 36\n",
    "b = 60\n",
    "\n",
    "result = math.gcd(a, b)\n",
    "\n",
    "print(\"The HCF/GCD of\", a, \"and\", b, \"is:\", result)\n"
   ]
  },
  {
   "cell_type": "code",
   "execution_count": null,
   "id": "7f732021-732c-4243-b288-69adf3d8be60",
   "metadata": {},
   "outputs": [],
   "source": []
  }
 ],
 "metadata": {
  "kernelspec": {
   "display_name": "Python [conda env:base] *",
   "language": "python",
   "name": "conda-base-py"
  },
  "language_info": {
   "codemirror_mode": {
    "name": "ipython",
    "version": 3
   },
   "file_extension": ".py",
   "mimetype": "text/x-python",
   "name": "python",
   "nbconvert_exporter": "python",
   "pygments_lexer": "ipython3",
   "version": "3.12.7"
  }
 },
 "nbformat": 4,
 "nbformat_minor": 5
}
