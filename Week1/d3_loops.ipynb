{
 "cells": [
  {
   "cell_type": "code",
   "execution_count": 1,
   "id": "5bf4af24-2869-4157-8959-5bbcb9b05086",
   "metadata": {},
   "outputs": [
    {
     "name": "stdout",
     "output_type": "stream",
     "text": [
      "pune\n",
      "pune\n",
      "pune\n",
      "pune\n",
      "pune\n"
     ]
    }
   ],
   "source": [
    "count = 0\n",
    "\n",
    "while count < 5:\n",
    "    print(\"pune\")\n",
    "    count += 1"
   ]
  },
  {
   "cell_type": "code",
   "execution_count": 4,
   "id": "aeeddb79-acc9-4fdc-aee0-e346627694d8",
   "metadata": {},
   "outputs": [
    {
     "name": "stdout",
     "output_type": "stream",
     "text": [
      "5  6  7  8  9  10  11  12  13  14  15  "
     ]
    }
   ],
   "source": [
    "# print the numbers from 5 to 15==>\n",
    "\n",
    "count = 5\n",
    "while count <= 15:\n",
    "    print(count, end = '  ')\n",
    "    count += 1\n",
    " "
   ]
  },
  {
   "cell_type": "code",
   "execution_count": 8,
   "id": "15021a72-84f3-4f48-be73-f9b1d3fe9a48",
   "metadata": {},
   "outputs": [
    {
     "name": "stdout",
     "output_type": "stream",
     "text": [
      "Sum of numbers from 1 to 10 is: 55\n"
     ]
    }
   ],
   "source": [
    "# find the additon of 1 to 10==>\n",
    "\n",
    "count = 1\n",
    "total = 0\n",
    "while count <= 10:\n",
    "    total = total + count\n",
    "    count += 1\n",
    "\n",
    "print(\"Sum of numbers from 1 to 10 is:\", total)\n"
   ]
  },
  {
   "cell_type": "code",
   "execution_count": 12,
   "id": "8840abc3-278d-4baa-a786-6d622226bb56",
   "metadata": {},
   "outputs": [
    {
     "name": "stdout",
     "output_type": "stream",
     "text": [
      "sum of all odd numbers: 100\n"
     ]
    }
   ],
   "source": [
    " # find addition of all odd numbers from 1 to 20==>\n",
    "\n",
    "count = 1\n",
    "add = 0\n",
    "\n",
    "while count <= 20:\n",
    "        add = add + count\n",
    "        count += 2\n",
    "print(\"sum of all odd numbers:\", add)\n"
   ]
  },
  {
   "cell_type": "code",
   "execution_count": 14,
   "id": "92f06bb9-c5f7-4f43-abbc-61ec966611a4",
   "metadata": {},
   "outputs": [
    {
     "name": "stdin",
     "output_type": "stream",
     "text": [
      "enter the number 24\n"
     ]
    },
    {
     "name": "stdout",
     "output_type": "stream",
     "text": [
      "factorial of number is  620448401733239439360000\n"
     ]
    }
   ],
   "source": [
    "# find the factorial of the number given by user==>\n",
    "\n",
    "num =int(input(\"enter the number\"))\n",
    "fact = 1\n",
    "i = 1\n",
    "\n",
    "while i <= num:\n",
    "    fact = fact * i\n",
    "    i = i + 1\n",
    "print(\"factorial of number is \", fact)"
   ]
  },
  {
   "cell_type": "code",
   "execution_count": 17,
   "id": "a8343c5b-fd1b-4091-bf59-5621ad38f04c",
   "metadata": {},
   "outputs": [
    {
     "name": "stdout",
     "output_type": "stream",
     "text": [
      "15\n"
     ]
    }
   ],
   "source": [
    "# find the addition of the digits in the number\n",
    "# 12345 => 1 + 2 + 3 + 4 + 5 = 15\n",
    "\n",
    "num = 12345\n",
    "\n",
    "digit = 0\n",
    "while num > 0: \n",
    "    digit = digit + num % 10  \n",
    "    num //= 10  \n",
    "print(digit)"
   ]
  },
  {
   "cell_type": "code",
   "execution_count": 18,
   "id": "5cfcd489-0e36-4592-8855-d0d6cf3940e9",
   "metadata": {},
   "outputs": [],
   "source": [
    "# for loop"
   ]
  },
  {
   "cell_type": "code",
   "execution_count": 19,
   "id": "96b606b9-d76f-4b9d-824f-c776c545349a",
   "metadata": {},
   "outputs": [
    {
     "name": "stdout",
     "output_type": "stream",
     "text": [
      "12\n",
      "13\n",
      "14\n",
      "15\n",
      "16\n"
     ]
    }
   ],
   "source": [
    "for n in 12, 13, 14, 15, 16:\n",
    "    print(n)"
   ]
  },
  {
   "cell_type": "code",
   "execution_count": 20,
   "id": "3cd1b4cd-e60b-489a-9869-1760a5dadef3",
   "metadata": {},
   "outputs": [
    {
     "name": "stdout",
     "output_type": "stream",
     "text": [
      "6.0  6.5  7.0  7.5  8.0  "
     ]
    }
   ],
   "source": [
    "# iterae the sequnece and print half of those values==>\n",
    "\n",
    "for n in 12, 13, 14, 15, 16:\n",
    "    print(n / 2, end = '  ')"
   ]
  },
  {
   "cell_type": "code",
   "execution_count": 21,
   "id": "7d9d71c7-01ef-41db-8c3b-f86384db29fa",
   "metadata": {},
   "outputs": [],
   "source": [
    "#range"
   ]
  },
  {
   "cell_type": "code",
   "execution_count": 22,
   "id": "46904e9d-9972-4354-831c-957ab7b32797",
   "metadata": {},
   "outputs": [
    {
     "data": {
      "text/plain": [
       "[0, 1, 2, 3, 4, 5, 6, 7, 8, 9]"
      ]
     },
     "execution_count": 22,
     "metadata": {},
     "output_type": "execute_result"
    }
   ],
   "source": [
    "list(range(10))"
   ]
  },
  {
   "cell_type": "code",
   "execution_count": 23,
   "id": "f76a822d-68c8-4793-ae4c-f60761826a83",
   "metadata": {},
   "outputs": [
    {
     "data": {
      "text/plain": [
       "[1, 2, 3, 4, 5, 6, 7, 8, 9, 10, 11, 12, 13, 14, 15, 16, 17, 18, 19]"
      ]
     },
     "execution_count": 23,
     "metadata": {},
     "output_type": "execute_result"
    }
   ],
   "source": [
    "list(range(1, 20))"
   ]
  },
  {
   "cell_type": "code",
   "execution_count": 24,
   "id": "1be11caf-c6eb-434a-9791-e4b1dd5cb949",
   "metadata": {},
   "outputs": [
    {
     "data": {
      "text/plain": [
       "[1, 3, 5, 7, 9, 11, 13, 15, 17, 19]"
      ]
     },
     "execution_count": 24,
     "metadata": {},
     "output_type": "execute_result"
    }
   ],
   "source": [
    "list(range(1, 20, 2))\n",
    "#start, end(exclusive), step"
   ]
  },
  {
   "cell_type": "code",
   "execution_count": 28,
   "id": "2af99bda-7dc3-42b1-a0c8-146e9d57635a",
   "metadata": {},
   "outputs": [
    {
     "name": "stdout",
     "output_type": "stream",
     "text": [
      "55\n"
     ]
    }
   ],
   "source": [
    "# find the iteration of 1 to 10 numbers using for loop==>\n",
    "\n",
    "add = 0\n",
    "for n in range(1, 11):\n",
    "    add = add + n\n",
    "    \n",
    "print(add)"
   ]
  },
  {
   "cell_type": "code",
   "execution_count": 29,
   "id": "8bd502b4-96f8-4187-a699-6f8ba63b9eb0",
   "metadata": {},
   "outputs": [
    {
     "name": "stdout",
     "output_type": "stream",
     "text": [
      "p\n",
      "u\n",
      "n\n",
      "e\n"
     ]
    }
   ],
   "source": [
    "for i in \"pune\":\n",
    "    print(i)"
   ]
  },
  {
   "cell_type": "code",
   "execution_count": 30,
   "id": "9db3da8c-6a9a-4daf-bb77-2825c3cf39e1",
   "metadata": {},
   "outputs": [
    {
     "name": "stdout",
     "output_type": "stream",
     "text": [
      "pune\n",
      "mumbai\n"
     ]
    }
   ],
   "source": [
    "for i in \"pune\" , \"mumbai\":\n",
    "    print(i)"
   ]
  },
  {
   "cell_type": "code",
   "execution_count": 32,
   "id": "0b180e87-7af1-4d98-80af-4f70463b0993",
   "metadata": {},
   "outputs": [
    {
     "name": "stdout",
     "output_type": "stream",
     "text": [
      "factorial is 6\n"
     ]
    }
   ],
   "source": [
    "# find factorial of loop==>\n",
    "\n",
    "num = 5\n",
    "fact = 1\n",
    "\n",
    "for i in range(1, num +1):\n",
    "    fact = fact + 1\n",
    "print(\"factorial is\", fact)"
   ]
  },
  {
   "cell_type": "code",
   "execution_count": 33,
   "id": "efe6ef2d-4216-4def-af43-40988d99874d",
   "metadata": {},
   "outputs": [],
   "source": [
    "#loop control statements\n"
   ]
  },
  {
   "cell_type": "code",
   "execution_count": 34,
   "id": "4bcdafc6-bdb7-4271-a518-d81ed6c6d203",
   "metadata": {},
   "outputs": [],
   "source": [
    "#break"
   ]
  },
  {
   "cell_type": "code",
   "execution_count": 36,
   "id": "c84e6d43-a228-4192-b0a4-a0089089c556",
   "metadata": {},
   "outputs": [
    {
     "name": "stdout",
     "output_type": "stream",
     "text": [
      "1\n",
      "2\n",
      "3\n",
      "4\n",
      "5\n",
      "6\n"
     ]
    }
   ],
   "source": [
    "for i in range(1, 11):\n",
    "    print(i)\n",
    "    if i == 6:\n",
    "        break"
   ]
  },
  {
   "cell_type": "code",
   "execution_count": 1,
   "id": "875fd85a-e0a8-44c2-86eb-60396fb49c3f",
   "metadata": {},
   "outputs": [
    {
     "name": "stdout",
     "output_type": "stream",
     "text": [
      "1\n",
      "2\n",
      "3\n",
      "4\n",
      "5\n",
      "6\n"
     ]
    }
   ],
   "source": [
    "count = 1\n",
    "\n",
    "while count < 11:\n",
    "    print(count)\n",
    "    if count == 6:\n",
    "        break\n",
    "    count += 1"
   ]
  },
  {
   "cell_type": "code",
   "execution_count": 2,
   "id": "d35c9e34-66ae-451d-bd86-0e08dd9fdc6a",
   "metadata": {},
   "outputs": [],
   "source": [
    "# continue"
   ]
  },
  {
   "cell_type": "code",
   "execution_count": 3,
   "id": "c5ec856c-e478-41dd-8e22-6e4faf5908b4",
   "metadata": {},
   "outputs": [
    {
     "name": "stdout",
     "output_type": "stream",
     "text": [
      "1\n",
      "2\n",
      "3\n",
      "4\n",
      "5\n",
      "7\n",
      "8\n",
      "9\n",
      "10\n"
     ]
    }
   ],
   "source": [
    "for i in range(1, 11):\n",
    "    if i == 6:\n",
    "        continue\n",
    "    print(i)"
   ]
  },
  {
   "cell_type": "code",
   "execution_count": 4,
   "id": "2d208ae5-4ffa-4ee8-bd4c-363012f419e1",
   "metadata": {},
   "outputs": [
    {
     "name": "stdin",
     "output_type": "stream",
     "text": [
      "Enter the number of rows:  5\n"
     ]
    },
    {
     "name": "stdout",
     "output_type": "stream",
     "text": [
      "*   \n",
      "*   *   \n",
      "*   *   *   \n",
      "*   *   *   *   \n",
      "*   *   *   *   *   \n"
     ]
    }
   ],
   "source": [
    "rows = int(input(\"Enter the number of rows: \"))\n",
    "\n",
    "for i in range(1, rows + 1):\n",
    "    for j in range(1, i + 1):\n",
    "        print(\"*\", end=\"   \")  \n",
    "    print()  \n"
   ]
  },
  {
   "cell_type": "code",
   "execution_count": null,
   "id": "3c968501-e580-44d5-8552-9a5553e5e554",
   "metadata": {},
   "outputs": [],
   "source": [
    "   "
   ]
  }
 ],
 "metadata": {
  "kernelspec": {
   "display_name": "Python [conda env:base] *",
   "language": "python",
   "name": "conda-base-py"
  },
  "language_info": {
   "codemirror_mode": {
    "name": "ipython",
    "version": 3
   },
   "file_extension": ".py",
   "mimetype": "text/x-python",
   "name": "python",
   "nbconvert_exporter": "python",
   "pygments_lexer": "ipython3",
   "version": "3.12.7"
  }
 },
 "nbformat": 4,
 "nbformat_minor": 5
}
