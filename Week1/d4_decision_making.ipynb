{
 "cells": [
  {
   "cell_type": "code",
   "execution_count": 1,
   "id": "96e0506c-91b6-47de-afbc-c426700a81a0",
   "metadata": {},
   "outputs": [],
   "source": [
    "#check if the number is greater than 50 or not"
   ]
  },
  {
   "cell_type": "code",
   "execution_count": 4,
   "id": "ad2ce7a0-77e3-4aa9-aed2-b47b71a5ccd8",
   "metadata": {},
   "outputs": [
    {
     "name": "stdin",
     "output_type": "stream",
     "text": [
      "enter the number 40\n"
     ]
    }
   ],
   "source": [
    "num = int(input(\"enter the number\"))\n",
    "if num > 50:\n",
    "    print(\"ok\")"
   ]
  },
  {
   "cell_type": "code",
   "execution_count": 5,
   "id": "33368f74-f845-4840-a48e-8ebd261c433a",
   "metadata": {},
   "outputs": [],
   "source": [
    "# check if the num is positive or negative"
   ]
  },
  {
   "cell_type": "code",
   "execution_count": 6,
   "id": "cdf00ca7-b93a-4d42-9bcb-d0f37cb05244",
   "metadata": {},
   "outputs": [
    {
     "name": "stdin",
     "output_type": "stream",
     "text": [
      "enter the number 10\n"
     ]
    },
    {
     "name": "stdout",
     "output_type": "stream",
     "text": [
      "positive\n"
     ]
    }
   ],
   "source": [
    "num = int(input(\"enter the number\"))\n",
    "\n",
    "if num > 0:\n",
    "    print(\"positive\")\n",
    "else:\n",
    "    print(\"negative\")"
   ]
  },
  {
   "cell_type": "code",
   "execution_count": 7,
   "id": "8d4ee87c-a5a3-43a3-bc7e-1b1a2fabd735",
   "metadata": {},
   "outputs": [
    {
     "name": "stdin",
     "output_type": "stream",
     "text": [
      "enter the number -10\n"
     ]
    },
    {
     "name": "stdout",
     "output_type": "stream",
     "text": [
      "negative\n",
      "not ok\n"
     ]
    }
   ],
   "source": [
    "num = int(input(\"enter the number\"))\n",
    "\n",
    "if num > 0:\n",
    "    print(\"positive\")\n",
    "    print(\"ok\")\n",
    "else:\n",
    "    print(\"negative\")\n",
    "    print(\"not ok\")"
   ]
  },
  {
   "cell_type": "code",
   "execution_count": 8,
   "id": "46852330-8047-4b27-aa01-e95c956640ef",
   "metadata": {},
   "outputs": [
    {
     "name": "stdin",
     "output_type": "stream",
     "text": [
      "enter the number 0\n"
     ]
    },
    {
     "name": "stdout",
     "output_type": "stream",
     "text": [
      "zero\n"
     ]
    }
   ],
   "source": [
    "num = int(input(\"enter the number\"))\n",
    "\n",
    "if num > 0:            # compulsory, non repeatable\n",
    "    print(\"positive\")\n",
    "    print(\"ok\")\n",
    "\n",
    "elif num == 0:         #optional, repeatable\n",
    "    print(\"zero\")\n",
    "    \n",
    "else:                  #optional, non repeatable\n",
    "    print(\"negative\")\n",
    "    print(\"not ok\")"
   ]
  },
  {
   "cell_type": "code",
   "execution_count": 9,
   "id": "d4e29cd5-030d-472e-941b-b0a7e6b91cfe",
   "metadata": {},
   "outputs": [],
   "source": [
    "# check if the number is even or odd"
   ]
  },
  {
   "cell_type": "code",
   "execution_count": 11,
   "id": "0bbe738d-eceb-4000-ab66-8b5ee33b97cb",
   "metadata": {},
   "outputs": [
    {
     "name": "stdin",
     "output_type": "stream",
     "text": [
      "enter the number 10\n"
     ]
    },
    {
     "name": "stdout",
     "output_type": "stream",
     "text": [
      "num is even\n"
     ]
    }
   ],
   "source": [
    "num = int(input(\"enter the number\"))\n",
    "\n",
    "if num % 2 == 0:\n",
    "    print(\"num is even\")\n",
    "\n",
    "else:\n",
    "    print(\"num is odd\")"
   ]
  },
  {
   "cell_type": "code",
   "execution_count": 12,
   "id": "2503697e-5c76-456f-9f7c-29cf3fb0f476",
   "metadata": {},
   "outputs": [
    {
     "data": {
      "text/plain": [
       "1"
      ]
     },
     "execution_count": 12,
     "metadata": {},
     "output_type": "execute_result"
    }
   ],
   "source": [
    "int(True)"
   ]
  },
  {
   "cell_type": "code",
   "execution_count": 13,
   "id": "485509e1-e733-4f6c-a56f-ec5610495187",
   "metadata": {},
   "outputs": [
    {
     "data": {
      "text/plain": [
       "0"
      ]
     },
     "execution_count": 13,
     "metadata": {},
     "output_type": "execute_result"
    }
   ],
   "source": [
    "int(False)"
   ]
  },
  {
   "cell_type": "code",
   "execution_count": 14,
   "id": "46049d35-1e9f-4440-ab5b-0c6673a93c0b",
   "metadata": {},
   "outputs": [
    {
     "name": "stdout",
     "output_type": "stream",
     "text": [
      "exists\n"
     ]
    }
   ],
   "source": [
    "a = 2\n",
    "\n",
    "if a:\n",
    "    print(\"exists\")"
   ]
  },
  {
   "cell_type": "code",
   "execution_count": 16,
   "id": "30d649d1-0c8d-4c88-a3e2-863cee4d92a3",
   "metadata": {},
   "outputs": [],
   "source": [
    "# using nested if cgeck if the number is bet 50 and 100"
   ]
  },
  {
   "cell_type": "code",
   "execution_count": 21,
   "id": "35f2f74b-2d08-4786-b911-1af7143a13bf",
   "metadata": {},
   "outputs": [
    {
     "name": "stdin",
     "output_type": "stream",
     "text": [
      "enter the number 49\n"
     ]
    },
    {
     "name": "stdout",
     "output_type": "stream",
     "text": [
      "less tha 50\n"
     ]
    }
   ],
   "source": [
    "num = int(input(\"enter the number\"))\n",
    "\n",
    "if num >= 50:\n",
    "   if num <= 100:\n",
    "           print(\"num is between\")\n",
    "   else:\n",
    "           print(\"num is not between\")\n",
    "\n",
    "else:\n",
    "    print(\"less tha 50\")\n",
    "    "
   ]
  },
  {
   "cell_type": "code",
   "execution_count": 22,
   "id": "61a8d9e4-3283-4654-835a-f319a16393fd",
   "metadata": {},
   "outputs": [
    {
     "name": "stdin",
     "output_type": "stream",
     "text": [
      "enter the number 478\n"
     ]
    },
    {
     "name": "stdout",
     "output_type": "stream",
     "text": [
      "incorrect\n"
     ]
    }
   ],
   "source": [
    "num = int(input(\"enter the number\"))\n",
    "\n",
    "if num > 50 and num < 100:\n",
    "    print(\"correct\")\n",
    "else:\n",
    "    print(\"incorrect\")"
   ]
  },
  {
   "cell_type": "code",
   "execution_count": 23,
   "id": "68e8bf52-bb8d-4810-bed0-e82e26407fb2",
   "metadata": {},
   "outputs": [],
   "source": [
    "# read the purchase and selling cost from user input and check whether user madhe profit or loss"
   ]
  },
  {
   "cell_type": "code",
   "execution_count": 25,
   "id": "efe583d7-bdca-419f-b7eb-ba1b7314881e",
   "metadata": {},
   "outputs": [
    {
     "name": "stdin",
     "output_type": "stream",
     "text": [
      "enter the purchas cost 300\n",
      "enter the selling cost 350\n"
     ]
    },
    {
     "name": "stdout",
     "output_type": "stream",
     "text": [
      "You made a profit of 50\n"
     ]
    }
   ],
   "source": [
    "purchase_cost = int(input(\"enter the purchas cost\"))\n",
    "selling_cost= int(input(\"enter the selling cost\"))\n",
    "\n",
    "if selling_cost > purchase_cost:\n",
    "    print(\"You made a profit of\", selling_cost - purchase_cost)\n",
    "elif selling_cost < purchase_cost:\n",
    "    print(\"You incurred a loss of\", purchase_cost - selling_cost)\n",
    "else:\n",
    "    print(\"No profit, no loss.\")\n"
   ]
  },
  {
   "cell_type": "code",
   "execution_count": 27,
   "id": "93f57f81-3878-4426-8523-d4350d1da15d",
   "metadata": {},
   "outputs": [],
   "source": [
    "# read 3 numbers from user and find the largest\n",
    "# use nesred if only ('and', 'or' not allowed)"
   ]
  },
  {
   "cell_type": "code",
   "execution_count": 29,
   "id": "7ccd9d6f-b76c-4215-9cd9-93c56e62c3a5",
   "metadata": {},
   "outputs": [
    {
     "name": "stdin",
     "output_type": "stream",
     "text": [
      "enter the number 30\n",
      "enter the number 67\n",
      "enter the number 38\n"
     ]
    },
    {
     "name": "stdout",
     "output_type": "stream",
     "text": [
      "num2 is largest\n"
     ]
    }
   ],
   "source": [
    "num1 = int(input(\"enter the number\"))\n",
    "num2 = int(input(\"enter the number\"))\n",
    "num3 = int(input(\"enter the number\"))\n",
    "\n",
    "if num1 > num2:\n",
    "    if num1 > num3:\n",
    "        print(\"num1 is largest\")\n",
    "    else:\n",
    "        print(\"num3 is largest\")\n",
    "else:\n",
    "    if num2 > num3:\n",
    "        print(\"num2 is largest\")\n",
    "    else:\n",
    "        print(\"num3 is largest\")\n"
   ]
  },
  {
   "cell_type": "code",
   "execution_count": 33,
   "id": "c7d1201e-7e06-4eb9-9643-892a2176c719",
   "metadata": {},
   "outputs": [
    {
     "name": "stdin",
     "output_type": "stream",
     "text": [
      "enter the year 1900\n"
     ]
    },
    {
     "name": "stdout",
     "output_type": "stream",
     "text": [
      "1900 is not a leap year\n"
     ]
    }
   ],
   "source": [
    "# check using nested if whether the year is leap year or not using te following condtition \n",
    "#2020- leap\n",
    "#2017- not leap\n",
    "#2000- leap\n",
    "#1900- not leap\n",
    "\n",
    "year = int(input(\"enter the year\"))\n",
    "\n",
    "if year % 4 == 0:\n",
    "    if year % 100 == 0:\n",
    "        if year % 400 == 0:\n",
    "            print(year, \"is a leap year\")\n",
    "        else:\n",
    "            print(year, \"is not a leap year\")\n",
    "    else:\n",
    "        print(year, \"is a leap year\")\n",
    "else:\n",
    "    print(year, \"is not a leap year\")"
   ]
  },
  {
   "cell_type": "code",
   "execution_count": 34,
   "id": "35c54f67-d622-46d6-8035-ddae367c093e",
   "metadata": {},
   "outputs": [],
   "source": [
    "    #grade accoing to marks\n",
    " #trade mRKS FOR PHY , CHEM, maths\n",
    "# if avg marks > 80 => dist, 70 to 80 => A, 60 to 70 =>b, 50 to 60=> c,\n",
    "# <50 =>f."
   ]
  },
  {
   "cell_type": "code",
   "execution_count": 35,
   "id": "1873e2ff-5ab3-4846-a75a-2823bd0d543b",
   "metadata": {},
   "outputs": [
    {
     "name": "stdin",
     "output_type": "stream",
     "text": [
      "Enter marks for Physics:  90\n",
      "Enter marks for Chemistry:  75\n",
      "Enter marks for Maths:  89\n"
     ]
    },
    {
     "name": "stdout",
     "output_type": "stream",
     "text": [
      "Grade: Distinction\n"
     ]
    }
   ],
   "source": [
    "phy = float(input(\"Enter marks for Physics: \"))\n",
    "chem = float(input(\"Enter marks for Chemistry: \"))\n",
    "math = float(input(\"Enter marks for Maths: \"))\n",
    "\n",
    "avg = (phy + chem + math) / 3\n",
    "\n",
    "if avg > 80:\n",
    "    print(\"Grade: Distinction\")\n",
    "else:\n",
    "    if avg >= 70:\n",
    "        print(\"Grade: A\")\n",
    "    else:\n",
    "        if avg >= 60:\n",
    "            print(\"Grade: B\")\n",
    "        else:\n",
    "            if avg >= 50:\n",
    "                print(\"Grade: C\")\n",
    "            else:\n",
    "                print(\"Grade: F\")  \n"
   ]
  },
  {
   "cell_type": "code",
   "execution_count": 37,
   "id": "82ca0642-acde-4503-a866-b44027b85a72",
   "metadata": {},
   "outputs": [
    {
     "name": "stdout",
     "output_type": "stream",
     "text": [
      "WELCOME!\n"
     ]
    },
    {
     "name": "stdin",
     "output_type": "stream",
     "text": [
      "enter the number: 45\n"
     ]
    },
    {
     "name": "stdout",
     "output_type": "stream",
     "text": [
      "MENU==>\n",
      "1. Square\n",
      "2. Cube\n",
      "3. positive or negative\n"
     ]
    },
    {
     "name": "stdin",
     "output_type": "stream",
     "text": [
      "Please enter yur choice: 2\n"
     ]
    },
    {
     "name": "stdout",
     "output_type": "stream",
     "text": [
      "cube is 91125\n"
     ]
    }
   ],
   "source": [
    "print(\"WELCOME!\")\n",
    "\n",
    "num = int(input(\"enter the number:\"))\n",
    "\n",
    "print(\"MENU==>\\n1. Square\\n2. Cube\\n3. positive or negative\")\n",
    "\n",
    "ch = int(input(\"Please enter yur choice:\"))\n",
    "\n",
    "if ch == 1:\n",
    "    print(\"square is\", num ** 2)\n",
    "elif ch == 2:\n",
    "    print(\"cube is\", num ** 3)\n",
    "elif ch == 3:\n",
    "    if num > 0:\n",
    "        print(\"number is positive\")\n",
    "    else:\n",
    "        print(\"number is negative\")"
   ]
  },
  {
   "cell_type": "code",
   "execution_count": 38,
   "id": "58b6d5c5-1fa5-4a5f-8193-4deab7b45fd6",
   "metadata": {},
   "outputs": [
    {
     "name": "stdin",
     "output_type": "stream",
     "text": [
      "Enter first number:  30\n",
      "Enter second number:  27\n"
     ]
    },
    {
     "name": "stdout",
     "output_type": "stream",
     "text": [
      "Maximum is: 30.0\n"
     ]
    }
   ],
   "source": [
    "# write a python program to find maximum of two numbers\n",
    "\n",
    "a = float(input(\"Enter first number: \"))\n",
    "b = float(input(\"Enter second number: \"))\n",
    "\n",
    "if a > b:\n",
    "    print(\"Maximum is:\", a)\n",
    "else:\n",
    "    print(\"Maximum is:\", b)\n"
   ]
  },
  {
   "cell_type": "code",
   "execution_count": 39,
   "id": "ae407c92-9765-43f3-a439-c855a7c77f2d",
   "metadata": {},
   "outputs": [
    {
     "name": "stdin",
     "output_type": "stream",
     "text": [
      "Enter first number:  39\n",
      "Enter second number:  56\n",
      "Enter third number:  78\n"
     ]
    },
    {
     "name": "stdout",
     "output_type": "stream",
     "text": [
      "Maximum number is: 78.0\n"
     ]
    }
   ],
   "source": [
    "# write a python program to find maximum among three numbers\n",
    "\n",
    "a = float(input(\"Enter first number: \"))\n",
    "b = float(input(\"Enter second number: \"))\n",
    "c = float(input(\"Enter third number: \"))\n",
    "\n",
    "if a > b:\n",
    "    if a > c:\n",
    "        maximum = a\n",
    "    else:\n",
    "        maximum = c\n",
    "else:\n",
    "    if b > c:\n",
    "        maximum = b\n",
    "    else:\n",
    "        maximum = c\n",
    "\n",
    "print(\"Maximum number is:\", maximum)\n"
   ]
  },
  {
   "cell_type": "code",
   "execution_count": 40,
   "id": "b18641ee-97ba-4cd8-a2b0-bea068b96992",
   "metadata": {},
   "outputs": [
    {
     "name": "stdin",
     "output_type": "stream",
     "text": [
      "Enter a number:  45\n"
     ]
    },
    {
     "name": "stdout",
     "output_type": "stream",
     "text": [
      "45 is divisible by 5 but not by 11\n"
     ]
    }
   ],
   "source": [
    "# write a python program to chcek whether number is divisible by 5 and 11 or not\n",
    "\n",
    "num = int(input(\"Enter a number: \"))\n",
    "\n",
    "if num % 5 == 0:\n",
    "    if num % 11 == 0:\n",
    "        print(num, \"is divisible by both 5 and 11\")\n",
    "    else:\n",
    "        print(num, \"is divisible by 5 but not by 11\")\n",
    "else:\n",
    "    if num % 11 == 0:\n",
    "        print(num, \"is divisible by 11 but not by 5\")\n",
    "    else:\n",
    "        print(num, \"is not divisible by 5 or 11\")\n"
   ]
  },
  {
   "cell_type": "code",
   "execution_count": null,
   "id": "dfa0aced-ec9f-46a2-8c95-c9bcc5efcfaa",
   "metadata": {},
   "outputs": [],
   "source": []
  }
 ],
 "metadata": {
  "kernelspec": {
   "display_name": "Python [conda env:base] *",
   "language": "python",
   "name": "conda-base-py"
  },
  "language_info": {
   "codemirror_mode": {
    "name": "ipython",
    "version": 3
   },
   "file_extension": ".py",
   "mimetype": "text/x-python",
   "name": "python",
   "nbconvert_exporter": "python",
   "pygments_lexer": "ipython3",
   "version": "3.12.7"
  }
 },
 "nbformat": 4,
 "nbformat_minor": 5
}
